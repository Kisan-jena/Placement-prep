{
 "cells": [
  {
   "cell_type": "markdown",
   "metadata": {},
   "source": [
    "### `1. EASY LEVEL PROBLEMS`\n",
    "\n",
    "`🔄` -> Revison ,\n",
    "\n",
    "`✨` -> Important ,\n",
    "\n",
    "`🔥` -> Tricky Question ,\n",
    "\n",
    "`⭐` -> Most IMP ,\n",
    "\n",
    "`🆕` -> New concept"
   ]
  },
  {
   "cell_type": "markdown",
   "metadata": {},
   "source": [
    "#### `1.1` Largest element in array"
   ]
  },
  {
   "cell_type": "code",
   "execution_count": null,
   "metadata": {},
   "outputs": [],
   "source": [
    "class Solution:\n",
    "    def largest(self,arr,n):\n",
    "        large=arr[0]\n",
    "        for i in range(1,n):\n",
    "            if arr[i]>large:\n",
    "                large=arr[i]\n",
    "                \n",
    "        return large\n",
    "arr = [3, 5, 7, 2, 8]\n",
    "\n",
    "solution = Solution()\n",
    "result = solution.largest(arr,len(arr))\n",
    "result"
   ]
  },
  {
   "cell_type": "markdown",
   "metadata": {},
   "source": [
    "#### `1.2` Secound largest and Secound smallest element in array"
   ]
  },
  {
   "cell_type": "code",
   "execution_count": null,
   "metadata": {},
   "outputs": [],
   "source": [
    "class Solution:\n",
    "        \n",
    "    def largest(self,arr,n):\n",
    "        large=arr[0]\n",
    "        for i in range(1,n):\n",
    "            if arr[i]>large:\n",
    "                large=arr[i]  \n",
    "        return large\n",
    "    \n",
    "    def second_largest(self, arr, n):\n",
    "       \n",
    "        large = self.largest(arr, n)\n",
    "        second_large = -1\n",
    "        \n",
    "        for i in range(n):\n",
    "            if arr[i] != large: \n",
    "                if second_large == -1 or arr[i] > second_large:\n",
    "                    second_large = arr[i]\n",
    "\n",
    "        return second_large\n",
    "    \n",
    "    def shortest(self,arr,n):\n",
    "        short=arr[0]\n",
    "        for i in range(1,n):\n",
    "            if arr[i]<short:\n",
    "                short=arr[i]  \n",
    "        return short\n",
    "    \n",
    "    def second_shortest(self, arr, n):\n",
    "        \n",
    "        short = self.shortest(arr, n)\n",
    "        second_short = float('inf') \n",
    "        \n",
    "        for i in range(n):\n",
    "            if arr[i] != short:  \n",
    "                if arr[i] < second_short:\n",
    "                    second_short = arr[i]\n",
    "        \n",
    "        if second_short == float('inf'):\n",
    "            return -1\n",
    "        return second_short\n",
    "    \n",
    "sol2 = Solution()\n",
    "\n",
    "arr = [10, 20, 20, 5, 7]\n",
    "n = len(arr)\n",
    "\n",
    "print(\"Largest:\", sol2.largest(arr, n))         \n",
    "print(\"Second Largest:\", sol2.second_largest(arr, n))  \n",
    "    \n",
    "sol = Solution()\n",
    "\n",
    "arr = [10, 20, 20, 5, 7]\n",
    "n = len(arr)\n",
    "\n",
    "print(\"Shortest:\", sol.shortest(arr, n))          \n",
    "print(\"Second Shortest:\", sol.second_shortest(arr, n))  "
   ]
  },
  {
   "cell_type": "markdown",
   "metadata": {},
   "source": [
    "#### `1.3` Check if the array is Sorted.`🔄`"
   ]
  },
  {
   "cell_type": "code",
   "execution_count": 3,
   "metadata": {},
   "outputs": [],
   "source": [
    "class Solution:\n",
    "    def check(self, nums):\n",
    "        n = len(nums)\n",
    "        descent_count = 0  # Count the number of descents\n",
    "        \n",
    "        for i in range(n):\n",
    "            if nums[i] > nums[(i + 1) % n]:  # Check for descent\n",
    "                descent_count += 1\n",
    "                \n",
    "            if descent_count > 1:  # More than one descent means it's not sorted or rotatable\n",
    "                return False\n",
    "        \n",
    "        return True  # At most one descent means it's sorted or rotatable\n"
   ]
  },
  {
   "cell_type": "markdown",
   "metadata": {},
   "source": [
    "#### `1.4` Remove duplicates from sorted array.`🆕`"
   ]
  },
  {
   "cell_type": "markdown",
   "metadata": {},
   "source": [
    "`Brute force approach`\n",
    "* Time Complexity:\n",
    "  * O(n log n)+ , O(n): Sorting the list after removing duplicates (due to the set).\n",
    "  * O(n): The list is traversed for adding underscores and updating nums."
   ]
  },
  {
   "cell_type": "code",
   "execution_count": 3,
   "metadata": {},
   "outputs": [
    {
     "name": "stdout",
     "output_type": "stream",
     "text": [
      "5\n",
      "[0, 1, 2, 3, 4, '_', '_', '_', '_', '_']\n"
     ]
    }
   ],
   "source": [
    "def removeDuplicates(nums,n):\n",
    "    \n",
    "    unique_elements = list(set(nums)) \n",
    "    unique_elements.sort()  \n",
    "    \n",
    "    k = len(unique_elements)\n",
    "    nums[:] = unique_elements  # gives [0, 1, 2, 3, 4] and reduce the size according to uniqu1_element\n",
    "    # dont use nums[:k] it will give [0, 1, 2, 3, 4, 2, 2, 3, 3, 4]\n",
    "\n",
    "    nums.extend(['_'] * (n - k))  \n",
    "\n",
    "    return k \n",
    "\n",
    "nums = [0, 0, 1, 1, 1, 2, 2, 3, 3, 4]\n",
    "k = removeDuplicates(nums,len(nums))\n",
    "print(k)  \n",
    "print(nums)  "
   ]
  },
  {
   "cell_type": "markdown",
   "metadata": {},
   "source": [
    "`Two pointer approach` `✨`\n",
    "* Time Complexity:\n",
    "  * O(n): The list is traversed once, where n is the length of the list.\n",
    "* Space Complexity:\n",
    "  * O(1): The operation is done in-place with only constant extra space used for the pointers."
   ]
  },
  {
   "cell_type": "code",
   "execution_count": 1,
   "metadata": {},
   "outputs": [
    {
     "name": "stdout",
     "output_type": "stream",
     "text": [
      "5\n"
     ]
    }
   ],
   "source": [
    "def removeDuplicates(nums):\n",
    "    i = 0\n",
    "    for j in range(1, len(nums)):\n",
    "        if nums[i] != nums[j]:\n",
    "            i += 1\n",
    "            nums[i] = nums[j]\n",
    "    \n",
    "    return i + 1\n",
    "\n",
    "nums = [0, 0, 1, 1, 1, 2, 2, 3, 3, 4]\n",
    "k = removeDuplicates(nums)\n",
    "print(k)  \n",
    "\n"
   ]
  },
  {
   "cell_type": "code",
   "execution_count": 2,
   "metadata": {},
   "outputs": [
    {
     "name": "stdout",
     "output_type": "stream",
     "text": [
      "5\n",
      "[0, 1, 2, 3, 4, '_', '_', '_', '_', '_']\n"
     ]
    }
   ],
   "source": [
    "def removeDuplicates(nums):\n",
    "    i = 0\n",
    "    for j in range(1, len(nums)):\n",
    "        if nums[i] != nums[j]:\n",
    "            i += 1\n",
    "            nums[i] = nums[j]\n",
    "    count=i+1\n",
    "\n",
    "    \n",
    "    while i + 1 < len(nums):\n",
    "        i += 1\n",
    "        nums[i] = '_'\n",
    "    \n",
    "    return count  \n",
    "\n",
    "nums = [0, 0, 1, 1, 1, 2, 2, 3, 3, 4]\n",
    "k = removeDuplicates(nums)\n",
    "print(k)  # Output: 5 (number of unique elements)\n",
    "print(nums)  # Output: [0, 1, 2, 3, 4, '_', '_', '_', '_', '_']"
   ]
  },
  {
   "cell_type": "markdown",
   "metadata": {},
   "source": [
    "#### `1.5` Left/Right rotate an array by n place. `🔄`\n",
    "Problem statement\n",
    "Given an array 'arr' containing 'n' elements, rotate this array left once and return it.\n",
    "\n",
    "\n",
    "\n",
    "Rotating the array left by one means shifting all elements by one place to the left and moving the first element to the last position in the array.\n",
    "\n",
    "\n",
    "\n",
    "Example:\n",
    "Input: 'a' = 5, 'arr' = [1, 2, 3, 4, 5]\n",
    "\n",
    "* Output : for left  [2, 3, 4, 5, 1].\n",
    "* Output : for right [5, 1, 2, 3, 4].\n"
   ]
  },
  {
   "cell_type": "markdown",
   "metadata": {},
   "source": [
    "`1.` `Brute force approach`\n",
    "* Time Complexity:\n",
    "  * Time Complexity: O(n), as we iterate through the array only once.\n",
    "* Space Complexity:\n",
    "  * O(n) as we are using another array of size, same as the given array."
   ]
  },
  {
   "cell_type": "markdown",
   "metadata": {},
   "source": [
    "`1.1` Left/right rotate by 1"
   ]
  },
  {
   "cell_type": "code",
   "execution_count": 1,
   "metadata": {},
   "outputs": [
    {
     "name": "stdout",
     "output_type": "stream",
     "text": [
      "[2, 3, 4, 5, 1]\n"
     ]
    }
   ],
   "source": [
    "class Solution:\n",
    "    def Left_rotate_by_1(self, nums):\n",
    "        \n",
    "        n=len(nums)\n",
    "        if n == 0 or len(nums) <= 1:  # Edge cases: empty array or single-element array\n",
    "           return nums\n",
    "        \n",
    "        temp=[]\n",
    "        for i in range(1,n):\n",
    "            temp.append(nums[i])\n",
    "        temp.append(nums[0])\n",
    "\n",
    "        return temp\n",
    "    \n",
    "sol=Solution()\n",
    "r=sol.Left_rotate_by_1([1, 2, 3, 4, 5])\n",
    "print(r)\n"
   ]
  },
  {
   "cell_type": "code",
   "execution_count": 2,
   "metadata": {},
   "outputs": [
    {
     "name": "stdout",
     "output_type": "stream",
     "text": [
      "2 3 4 5 1 \n"
     ]
    }
   ],
   "source": [
    "class Solution:\n",
    "    def Left_rotate_by_1(self, nums):\n",
    "        \n",
    "        n=len(nums)\n",
    "        if n == 0 or len(nums) <= 1:  # Edge cases: empty array or single-element array\n",
    "           return nums     \n",
    "          \n",
    "        temp=[]\n",
    "        for i in range(1,n):\n",
    "            temp.append(nums[i])\n",
    "        temp.append(nums[0])\n",
    "\n",
    "        for i in range(n):\n",
    "            print(temp[i], end=\" \")\n",
    "        print()\n",
    "\n",
    "\n",
    "    \n",
    "sol=Solution()\n",
    "sol.Left_rotate_by_1([1, 2, 3, 4, 5])"
   ]
  },
  {
   "cell_type": "markdown",
   "metadata": {},
   "source": [
    "`1.2` Left/right rotate by k `(same as optimal)`"
   ]
  },
  {
   "cell_type": "markdown",
   "metadata": {},
   "source": [
    "`2.` `Optimal approach`\n",
    "* Time Complexity:\n",
    "  * Time Complexity: O(n), as we iterate through the array only once.\n",
    "* Space Complexity:\n",
    "  * O(1) as no extra space is used."
   ]
  },
  {
   "cell_type": "markdown",
   "metadata": {},
   "source": [
    "`2.1` Left/right rotate by 1"
   ]
  },
  {
   "cell_type": "code",
   "execution_count": null,
   "metadata": {},
   "outputs": [],
   "source": [
    "class Solution:\n",
    "    def Left_rotate_by_1(self, nums):\n",
    "        x=nums[0]\n",
    "        n=len(nums)\n",
    "        if n == 0 or len(nums) <= 1:  # Edge cases: empty array or single-element array\n",
    "           return nums\n",
    "        for i in range(1,n):\n",
    "            nums[i-1]=nums[i]\n",
    "        nums[n-1]=x\n",
    "\n",
    "        return nums\n",
    "\n",
    "sol=Solution()\n",
    "sol.Left_rotate_by_1([1, 2, 3, 4, 5])"
   ]
  },
  {
   "cell_type": "markdown",
   "metadata": {},
   "source": [
    "`2.2` Left/right rotate by k"
   ]
  },
  {
   "cell_type": "code",
   "execution_count": 12,
   "metadata": {},
   "outputs": [
    {
     "name": "stdout",
     "output_type": "stream",
     "text": [
      "[4, 5, 1, 2, 3]\n"
     ]
    }
   ],
   "source": [
    "class Solution:\n",
    "    def Right_rotate_by_k(self, nums, k):\n",
    "        n = len(nums)\n",
    "        if n == 0 or n == 1:  \n",
    "            return nums\n",
    "        k = k % n  \n",
    "        x = []\n",
    "        for i in range(n - k, n):  \n",
    "            x.append(nums[i])\n",
    "        for i in range(n - k - 1, -1, -1):\n",
    "            nums[i + k] = nums[i]\n",
    "        nums[:k] = x\n",
    "\n",
    "        return nums\n",
    "\n",
    "sol = Solution()\n",
    "r = sol.Right_rotate_by_k([1, 2, 3, 4, 5], 2)\n",
    "print(r)  # Output: [4, 5, 1, 2, 3]\n"
   ]
  },
  {
   "cell_type": "markdown",
   "metadata": {},
   "source": [
    "#### `1.6` Move 0 to ends.\n",
    "Given an integer array nums, move all 0's to the end of it while maintaining the relative order of the non-zero elements.\n",
    "\n",
    "`Note:` that you must do this in-place without making a copy of the array.\n",
    "\n",
    "* Example 1:\n",
    "  * Input: nums = [0,1,0,3,12]\n",
    "  * Output: [1,3,12,0,0]\n",
    "* Example 2:\n",
    "  * Input: nums = [0]\n",
    "  * Output: [0]"
   ]
  },
  {
   "cell_type": "code",
   "execution_count": 11,
   "metadata": {},
   "outputs": [],
   "source": [
    "class Solution(object):\n",
    "    def moveZeroes(self, nums):\n",
    "        i=0\n",
    "        for j in range(0, len(nums)):\n",
    "            if nums[j] != 0:\n",
    "                nums[i] = nums[j]\n",
    "                i=i+1\n",
    "        while i < len(nums):\n",
    "                nums[i] = 0\n",
    "                i=i+1\n",
    "                \n",
    "        return nums "
   ]
  },
  {
   "cell_type": "markdown",
   "metadata": {},
   "source": [
    "#### `1.7` Linear Search. \n",
    "Given an array, arr[] sorted in ascending order and an integer k. Return true if k is present in the array, otherwise, false.\n",
    "\n",
    "* Examples:\n",
    "\n",
    "    * `Input:`\n",
    "    arr[] = [1, 2, 3, 4, 6], k = 6\n",
    "\n",
    "    * `Output:` true\n",
    "\n",
    "    * `Explanation:` We need to find if there exist two numbers in the array whose sum is equal to k.\n",
    "    Here, the pairs (2, 4) and (6, 0) can form a sum of 6.\n",
    "    Since such a pair exists, the output is true."
   ]
  },
  {
   "cell_type": "code",
   "execution_count": null,
   "metadata": {},
   "outputs": [],
   "source": [
    "def searchInSorted(arr, k):\n",
    "    for element in arr:\n",
    "        if element == k:\n",
    "            return True  \n",
    "    return False  \n",
    "\n",
    "arr1 = [1, 2, 3, 4, 6]\n",
    "k1 = 6\n",
    "print(searchInSorted(arr1, k1))  \n",
    "\n",
    "arr2 = [1, 2, 4, 5, 6]\n",
    "k2 = 3\n",
    "print(searchInSorted(arr2, k2))  \n",
    "\n",
    "arr3 = [2, 3, 5, 6]\n",
    "k3 = 1\n",
    "print(searchInSorted(arr3, k3))  "
   ]
  },
  {
   "cell_type": "markdown",
   "metadata": {},
   "source": [
    "#### `1.8` Find union. `🔄`\n",
    "Problem Statement: Given two sorted arrays, arr1, and arr2 of size n and m. Find the union of two sorted arrays.\n",
    "\n",
    "The union of two arrays can be defined as the common and distinct elements in the two arrays.\n",
    "`NOTE`: Elements in the union should be in ascending order.\n",
    "\n",
    "* Example 1:\n",
    "  * `Input`:\n",
    "\n",
    "    n = 10,m = 7.\n",
    "    \n",
    "    arr1[] = {1,2,3,4,5,6,7,8,9,10}\n",
    "    \n",
    "    arr2[] = {2,3,4,4,5,11,12}\n",
    "  * `Output`:\n",
    "    {1,2,3,4,5,6,7,8,9,10,11,12}\n",
    "  * `Explanation`:\n",
    "  \n",
    "      Common Elements in arr1 and arr2  are:  2,3,4,5\n",
    "\n",
    "      Distnict Elements in arr1 are : 1,6,7,8,9,10\n",
    "\n",
    "      Distnict Elemennts in arr2 are : 11,12\n",
    "      \n",
    "      Union of arr1 and arr2 is {1,2,3,4,5,6,7,8,9,10,11,12} "
   ]
  },
  {
   "cell_type": "markdown",
   "metadata": {},
   "source": [
    "`1.` First approach using sets.\n",
    "* `Time Complexity:` O(n1+n2+ulogu)\n",
    "  * Set Conversion,Union Operation,Sorting.\n",
    "* `Space Complexity:` O(2u) : O(n1+n2) + O(n)\n",
    "  * Set Storage: Space for set1, set2, and the union set, which collectively use 𝑂(𝑢).\n",
    "  * Sorted List: An additional 𝑂(𝑢) for the sorted list."
   ]
  },
  {
   "cell_type": "code",
   "execution_count": 13,
   "metadata": {},
   "outputs": [],
   "source": [
    "def union_of_sorted_arrays(arr1, arr2):\n",
    "    \n",
    "    set1 = set(arr1)\n",
    "    set2 = set(arr2)\n",
    "    \n",
    "    union_set = set1.union(set2)\n",
    "    union_list = sorted(union_set)\n",
    "    \n",
    "    return union_list"
   ]
  },
  {
   "cell_type": "markdown",
   "metadata": {},
   "source": [
    "`2.` Secound approach using 2-pointer. `✨`\n",
    "* `Time Complexity:` \n",
    "  O(m+n), Because at max i runs for n times and j runs for m times. When there are no common elements in arr1 and arr2 and all elements in arr1, arr2 are distinct. \n",
    "  \n",
    "* `Space Complexity:` O(m+n) {If Space of Union ArrayList is considered} \n",
    "  "
   ]
  },
  {
   "cell_type": "code",
   "execution_count": null,
   "metadata": {},
   "outputs": [],
   "source": [
    "def find_union(arr1, arr2):\n",
    "    i, j = 0, 0 \n",
    "    union = []  \n",
    "\n",
    "    while i < len(arr1) and j < len(arr2):\n",
    "        if arr1[i] <= arr2[j]:  \n",
    "            if len(union) == 0 or union[-1] != arr1[i]:\n",
    "                union.append(arr1[i])\n",
    "            i += 1\n",
    "        else:  \n",
    "            if len(union) == 0 or union[-1] != arr2[j]:\n",
    "                union.append(arr2[j])\n",
    "            j += 1\n",
    "\n",
    "    while i < len(arr1): \n",
    "        if union[-1] != arr1[i]:\n",
    "            union.append(arr1[i])\n",
    "        i += 1\n",
    "\n",
    "    while j < len(arr2): \n",
    "        if union[-1] != arr2[j]:\n",
    "            union.append(arr2[j])\n",
    "        j += 1\n",
    "\n",
    "    return union\n",
    "\n",
    "\n",
    "arr1 = [1, 2, 3, 4, 5, 6, 7, 8, 9, 10]\n",
    "arr2 = [2, 3, 4, 4, 5, 11, 12]\n",
    "\n",
    "union = find_union(arr1, arr2)\n",
    "\n",
    "print(\"Union of arr1 and arr2 is:\")\n",
    "print(*union)\n"
   ]
  },
  {
   "cell_type": "markdown",
   "metadata": {},
   "source": [
    "#### `1.9` Find the missing number in array.`🔥`,`⭐`,`🆕`\n",
    "Given an array nums containing n distinct numbers in the range [0, n], return the only number in the range that is missing from the array.\n",
    "* Example 1:\n",
    "  * Input: nums = [3,0,1]\n",
    "  * Output: 2\n",
    "  * Explanation: n = 3 since there are 3 numbers, so all numbers are in the range [0,3]. 2 is \n",
    "    missing number in the range since it does not appear in nums.   \n",
    "* Example 2:\n",
    "  * Input: nums = [0,1]\n",
    "  * Output: 2\n",
    "  * Explanation: n = 2 since there are 2 numbers, so all numbers are in the range [0,2]. 2 is the \n",
    "    missing number in the range since it does not appear in nums.\n",
    "* Example 3:\n",
    "  * Input: nums = [9,6,4,2,3,5,7,0,1]\n",
    "  * Output: 8\n",
    "  * Explanation: n = 9 since there are 9 numbers, so all numbers are in the range [0,9]. 8 is the \n",
    "    missing number in the range since it does not appear in nums."
   ]
  },
  {
   "cell_type": "markdown",
   "metadata": {},
   "source": [
    "`1.` Brute force approach`(Linear search)`.\n",
    "* `Time Complexity:`  O(N²)\n",
    "* `Space Complexity:` O(1)"
   ]
  },
  {
   "cell_type": "code",
   "execution_count": 15,
   "metadata": {},
   "outputs": [],
   "source": [
    "class Solution(object):\n",
    "    def missingNumber(self, nums):\n",
    "        n = len(nums)\n",
    "        for i in range(n + 1):  \n",
    "            found = False\n",
    "            for num in nums:   \n",
    "                if num == i:\n",
    "                    found = True\n",
    "                    break\n",
    "            if not found:      \n",
    "                return i\n"
   ]
  },
  {
   "cell_type": "markdown",
   "metadata": {},
   "source": [
    "`2.` Better Solution (Hashing)`🆕` .\n",
    "* `Time Complexity:`  O(N)\n",
    "* `Space Complexity:` O(N)"
   ]
  },
  {
   "cell_type": "code",
   "execution_count": 16,
   "metadata": {},
   "outputs": [],
   "source": [
    "class Solution(object):\n",
    "    def missingNumber(self, nums):\n",
    "        N = len(nums)\n",
    "        hash = [0] * (N + 1)\n",
    "        for num in nums:\n",
    "            hash[num] += 1\n",
    "        for i in range(N + 1):\n",
    "            if hash[i] == 0:\n",
    "                return i\n",
    "        return -1\n"
   ]
  },
  {
   "cell_type": "markdown",
   "metadata": {},
   "source": [
    "`3.` Optimal approach (Using sum), (XOR`🆕`) .\n",
    "* SUM\n",
    "    * `Time Complexity:`  O(N)\n",
    "    * `Space Complexity:` O(1)\n",
    "* XOR\n",
    "    * `Time Complexity:`  O(N)\n",
    "    * `Space Complexity:` O(1)"
   ]
  },
  {
   "cell_type": "markdown",
   "metadata": {},
   "source": [
    "`3.1` SUM"
   ]
  },
  {
   "cell_type": "code",
   "execution_count": 17,
   "metadata": {},
   "outputs": [],
   "source": [
    "class Solution(object):\n",
    "    def missingNumber(self, nums):\n",
    "        N=len(nums)\n",
    "        sum=(N*(N+1))/2\n",
    "        sums=0\n",
    "\n",
    "        for i in nums:\n",
    "            sums=sums+i\n",
    "\n",
    "        return sums-sum"
   ]
  },
  {
   "cell_type": "markdown",
   "metadata": {},
   "source": [
    "`3.2` XOR"
   ]
  },
  {
   "cell_type": "code",
   "execution_count": 18,
   "metadata": {},
   "outputs": [],
   "source": [
    "class Solution(object):\n",
    "    def missingNumber(self, nums):\n",
    "        xor_sum = 0\n",
    "        N = len(nums)\n",
    "        \n",
    "        \n",
    "        for num in nums:\n",
    "            xor_sum ^= num\n",
    "        \n",
    "        \n",
    "        xor_full = 0\n",
    "        for i in range(N + 1):\n",
    "            xor_full ^= i\n",
    "        \n",
    "        \n",
    "        return xor_sum ^ xor_full\n"
   ]
  },
  {
   "cell_type": "markdown",
   "metadata": {},
   "source": [
    "#### `1.10`Count Maximum Consecutive One's in the array.\n",
    "Given a binary array nums, return the maximum number of consecutive 1's in the array.\n",
    "\n",
    "* Example 1:\n",
    "\n",
    "  * Input: nums = [1,1,0,1,1,1]\n",
    "  * Output: 3\n",
    "  * Explanation: The first two digits or the last three digits are consecutive 1s. The maximum\n",
    "    number of consecutive 1s is 3.\n",
    "\n",
    "* Example 2:\n",
    "  \n",
    "   * Input: nums = [1,0,1,1,0,1]\n",
    "   * Output: 2"
   ]
  },
  {
   "cell_type": "markdown",
   "metadata": {},
   "source": [
    "#### `1.` optimal but takes more time to execute.\n",
    "* Complexities:\n",
    "    * Time Complexity: O(n) because you traverse the list only once.        \n",
    "    * Space Complexity: 𝑂(1)because no additional space is used other than a few variables."
   ]
  },
  {
   "cell_type": "code",
   "execution_count": null,
   "metadata": {},
   "outputs": [],
   "source": [
    "class Solution(object):\n",
    "    def findMaxConsecutiveOnes(self, nums):\n",
    "        count=0\n",
    "        max_count=0\n",
    "        n=len(nums)\n",
    "        for i in range(0,n):\n",
    "                if nums[i]==1:\n",
    "                    count=count+1\n",
    "                else:\n",
    "                     count=0\n",
    "                max_count=max(max_count,count)\n",
    "                \n",
    "        return max_count\n",
    "\n",
    "s=Solution()\n",
    "ans=s.findMaxConsecutiveOnes([1,0,1,1,0,1])\n",
    "ans\n",
    "        "
   ]
  },
  {
   "cell_type": "markdown",
   "metadata": {},
   "source": [
    "##### `2`. Takes less speed comapred to above."
   ]
  },
  {
   "cell_type": "code",
   "execution_count": null,
   "metadata": {},
   "outputs": [],
   "source": [
    "class Solution(object):\n",
    "    def findMaxConsecutiveOnes(self, nums):\n",
    "        return max(map(len, ''.join(map(str, nums)).split('0')))\n",
    "\n",
    "s = Solution()\n",
    "ans = s.findMaxConsecutiveOnes([1, 0, 1, 1, 0, 1])\n",
    "ans\n"
   ]
  },
  {
   "cell_type": "markdown",
   "metadata": {},
   "source": [
    "#### `1.11` Find the number that appears once, and the other numbers twice.\n",
    "\n",
    "* Example 1:\n",
    "  * Input Format: arr[] = `{2,2,1}`\n",
    "  * Result:1\n",
    "  * Explanation: In this array, only the element 1 appear once and so it is the answer.\n",
    "\n",
    "* Example 2:\n",
    "  * Input Format: arr[] = `{4,1,2,1,2}`\n",
    "  * Result: 4\n",
    "  * Explanation:In this array, only element 4 appear once and the other elements appear twice. So, 4 is the answer."
   ]
  },
  {
   "cell_type": "markdown",
   "metadata": {},
   "source": [
    "`1.` Brute force "
   ]
  },
  {
   "cell_type": "code",
   "execution_count": 21,
   "metadata": {},
   "outputs": [],
   "source": [
    "def getSingleElement(arr):\n",
    "    \n",
    "    n = len(arr)\n",
    "\n",
    "    for i in range(n):\n",
    "        num = arr[i]  \n",
    "        cnt = 0\n",
    "\n",
    "        for j in range(n):\n",
    "            if arr[j] == num:\n",
    "                cnt += 1\n",
    "\n",
    "        if cnt == 1:\n",
    "            return num"
   ]
  },
  {
   "cell_type": "markdown",
   "metadata": {},
   "source": [
    "`2.` optimal"
   ]
  },
  {
   "cell_type": "code",
   "execution_count": null,
   "metadata": {},
   "outputs": [],
   "source": [
    "class Solution(object):\n",
    "    def singleNumber(self, nums):\n",
    "        xor_sum = 0\n",
    "        \n",
    "        for num in nums:\n",
    "            xor_sum ^= num\n",
    "    \n",
    "        return xor_sum \n",
    "s = Solution()\n",
    "ans = s.singleNumber([2,2,1])\n",
    "ans"
   ]
  },
  {
   "cell_type": "markdown",
   "metadata": {},
   "source": [
    "#### `1.11` Longest Subarray with given Sum K(Positives)  `🔥` `🆕` `🔄`\n",
    "\n",
    "* **Problem Statement**: \n",
    "  Given an array and a sum k, we need to print the length of the longest subarray that sums to k.\n",
    "\n",
    "* Example 1:\n",
    "  * Input Format: N = 3, k = 5, array[ ] = `{2,3,5}`\n",
    "  * Result: 2\n",
    "  * Explanation: The longest subarray with sum 5 is {2, 3}. And its length is 2.\n",
    "\n",
    "* Example 2:\n",
    "  * Input Format: N = 5, k = 10, array[ ] = `{2,3,5,1,9}`\n",
    "  * Result: 3\n",
    "  * Explanation: The longest subarray with sum 10 is {2, 3, 5}. And its length is 3.\n"
   ]
  },
  {
   "cell_type": "markdown",
   "metadata": {},
   "source": [
    "`1.` Brute force approaach"
   ]
  },
  {
   "cell_type": "code",
   "execution_count": null,
   "metadata": {},
   "outputs": [],
   "source": [
    "class Solution(object):\n",
    "    def subarraySum(self, nums, k):\n",
    "        l=0\n",
    "        for i in range(len(nums)):\n",
    "            for j in range(i,len(nums)):\n",
    "                s=0\n",
    "                for m in range(i,j+1):\n",
    "                    s+=nums[m]\n",
    "                if s==k:\n",
    "                   l=max(l,(j-i)+1)\n",
    "        return l\n",
    "    \n",
    "sol=Solution()\n",
    "ans=sol.subarraySum([1,2,2,2,1],5)\n",
    "ans"
   ]
  },
  {
   "cell_type": "markdown",
   "metadata": {},
   "source": [
    "Better than above"
   ]
  },
  {
   "cell_type": "code",
   "execution_count": null,
   "metadata": {},
   "outputs": [],
   "source": [
    "class Solution(object):\n",
    "    def subarraySum(self, nums, k):\n",
    "        l=0\n",
    "        for i in range(len(nums)):\n",
    "            s=0\n",
    "            for j in range(i,len(nums)):\n",
    "                    s+=nums[j]\n",
    "                    if s==k:\n",
    "                       l=max(l,(j-i)+1)\n",
    "       \n",
    "        return l\n",
    "    \n",
    "sol=Solution()\n",
    "ans=sol.subarraySum([1,2,2,2,1],5)\n",
    "ans"
   ]
  },
  {
   "cell_type": "markdown",
   "metadata": {},
   "source": [
    "`2` Hash-maps (Better) `🆕` `🔄`"
   ]
  },
  {
   "cell_type": "code",
   "execution_count": null,
   "metadata": {},
   "outputs": [],
   "source": [
    "class Solution(object):\n",
    "    def subarraySum(self, nums, k):\n",
    "        a=nums\n",
    "        n = len(a)\n",
    "\n",
    "        preSumMap = {}\n",
    "        Sum = 0\n",
    "        maxLen = 0\n",
    "        for i in range(n):\n",
    "            \n",
    "            Sum += a[i]\n",
    "\n",
    "            if Sum == k:\n",
    "                maxLen = max(maxLen, i + 1)\n",
    "\n",
    "            rem = Sum - k\n",
    "\n",
    "            if rem in preSumMap:\n",
    "                length = i - preSumMap[rem]\n",
    "                maxLen = max(maxLen, length)\n",
    "\n",
    "            if Sum not in preSumMap:\n",
    "                preSumMap[Sum] = i\n",
    "        return maxLen\n",
    "    \n",
    "sol=Solution()\n",
    "ans=sol.subarraySum([1,2,2,2,1],5)\n",
    "ans"
   ]
  },
  {
   "cell_type": "markdown",
   "metadata": {},
   "source": [
    "`3.` Two pointer (Optimal) "
   ]
  },
  {
   "cell_type": "code",
   "execution_count": null,
   "metadata": {},
   "outputs": [],
   "source": []
  },
  {
   "cell_type": "markdown",
   "metadata": {},
   "source": [
    "#### `1.12` Subarray Sum Equals K `Dry run and find what the mistake in first code and solve ot again` `🔄`\n",
    "\n",
    "Given an array of integers nums and an integer k, return the total number of subarrays whose sum equals to k.A subarray is a contiguous non-empty sequence of elements within an array.\n",
    "\n",
    "* Example 1:\n",
    "  * Input: nums = [1,1,1], k = 2\n",
    "  * Output: 2\n",
    "\n",
    "* Example 2:\n",
    "  * Input: nums = [1,2,3], k = 3\n",
    "  * Output: 2"
   ]
  },
  {
   "cell_type": "code",
   "execution_count": null,
   "metadata": {},
   "outputs": [],
   "source": [
    "class Solution(object):\n",
    "    def subarraySum(self, nums, k):\n",
    "\n",
    "        \n",
    "        prefixSumMap = {} \n",
    "        currentSum = 0\n",
    "        count = 0\n",
    "\n",
    "        for num in nums:\n",
    "            \n",
    "            currentSum += num\n",
    "            \n",
    "\n",
    "            diff = currentSum - k\n",
    "            if diff in prefixSumMap:\n",
    "                count = count+1\n",
    "\n",
    "            if currentSum not in prefixSumMap:\n",
    "                prefixSumMap[currentSum] = num\n",
    "        \n",
    "        return count\n",
    "sol=Solution()\n",
    "ans=sol.subarraySum([1,2,3,1,1,1,1,1,2,3],3)\n",
    "ans"
   ]
  },
  {
   "cell_type": "code",
   "execution_count": null,
   "metadata": {},
   "outputs": [],
   "source": [
    "class Solution(object):\n",
    "    def subarraySum(self, nums, k):\n",
    "\n",
    "        # HashMap to store prefix sums and their frequencies\n",
    "        prefixSumMap = {0: 1}  \n",
    "        currentSum = 0\n",
    "        count = 0\n",
    "\n",
    "        for num in nums:\n",
    "            # Update the current prefix sum\n",
    "            currentSum += num\n",
    "            \n",
    "            # Check if there's a prefix sum that makes up the difference to k\n",
    "            diff = currentSum - k\n",
    "            if diff in prefixSumMap:\n",
    "                count += prefixSumMap[diff]\n",
    "\n",
    "            # Update the prefix sum frequency map\n",
    "            prefixSumMap[currentSum] = prefixSumMap.get(currentSum, 0) + 1\n",
    "        \n",
    "        return count\n",
    "sol=Solution()\n",
    "ans=sol.subarraySum([1,2,3,1,1,1,1,1,2,3],5)\n",
    "ans"
   ]
  },
  {
   "cell_type": "markdown",
   "metadata": {},
   "source": [
    "### `2. Medium LEVEL PROBLEMS`\n",
    "\n",
    "`🔄` -> Revison ,\n",
    "\n",
    "`✨` -> Important ,\n",
    "\n",
    "`🔥` -> Tricky Question ,\n",
    "\n",
    "`⭐` -> Most IMP ,\n",
    "\n",
    "`🆕` -> New concept"
   ]
  },
  {
   "cell_type": "markdown",
   "metadata": {},
   "source": [
    "#### `2.1` Two Sum\n",
    "\n",
    "Given an array of integers nums and an integer target, return indices of the two numbers such that they add up to target.\n",
    "You may assume that each input would have exactly one solution, and you may not use the same element twice.\n",
    "You can return the answer in any order.\n",
    "\n",
    "* Example 1:\n",
    "  * Input: nums = [2,7,11,15], target = 9\n",
    "  * Output: [0,1]\n",
    "  * Explanation: Because nums[0] + nums[1] == 9, we return [0, 1]."
   ]
  },
  {
   "cell_type": "markdown",
   "metadata": {},
   "source": [
    "`1.` Brite force approach"
   ]
  },
  {
   "cell_type": "code",
   "execution_count": null,
   "metadata": {},
   "outputs": [],
   "source": [
    "class Solution(object):\n",
    "    def twoSum(self, nums, target):\n",
    "        ans=[]\n",
    "        for i in range(len(nums)):\n",
    "            for j in range(i,len(nums)):\n",
    "                if i==j:    # -->  we can't pick up same element\n",
    "                    continue\n",
    "                if (nums[i]+nums[j]==target):\n",
    "                    ans.append(i)\n",
    "                    ans.append(j)\n",
    "                    return ans\n",
    "        \n",
    "                  \n",
    "sol=Solution()\n",
    "ans=sol.twoSum([3,4,5,2],6)\n",
    "ans\n",
    "      "
   ]
  },
  {
   "cell_type": "markdown",
   "metadata": {},
   "source": [
    "`2.` Hashing or hash maps (better solution)"
   ]
  },
  {
   "cell_type": "code",
   "execution_count": null,
   "metadata": {},
   "outputs": [],
   "source": [
    "class Solution(object):\n",
    "    def twoSum(self, nums, target):\n",
    "        hash_map = {}  \n",
    "        for i in range(0,len(nums)):\n",
    "            x=target-nums[i]\n",
    "            if x in hash_map:\n",
    "                return [hash_map[x],i]\n",
    "            else:\n",
    "                hash_map[nums[i]]=i\n",
    "\n",
    "sol = Solution()\n",
    "ans = sol.twoSum([3, 2, 4], 6)\n",
    "print(ans)  \n"
   ]
  },
  {
   "cell_type": "markdown",
   "metadata": {},
   "source": [
    "`3.` Two pointer (Optimal) `🔄` `✨` `🔥` "
   ]
  },
  {
   "cell_type": "code",
   "execution_count": null,
   "metadata": {},
   "outputs": [],
   "source": [
    "class Solution(object):\n",
    "    def twoSum(self, nums, target):\n",
    "        # Sort the list (but we will track the original indices)\n",
    "        nums_with_indices = [(num, index) for index, num in enumerate(nums)]\n",
    "        nums_with_indices.sort()  # Sort by value\n",
    "        \n",
    "        i, j = 0, len(nums_with_indices) - 1\n",
    "        \n",
    "        while i < j:\n",
    "            current_sum = nums_with_indices[i][0] + nums_with_indices[j][0]\n",
    "            \n",
    "            if current_sum == target:\n",
    "                # Return the original indices\n",
    "                return [nums_with_indices[i][1], nums_with_indices[j][1]]\n",
    "            elif current_sum < target:\n",
    "                i += 1  # Increase the sum by moving i to the right\n",
    "            else:\n",
    "                j -= 1  # Decrease the sum by moving j to the left\n",
    "        \n",
    "        return []  # Return empty list if no solution is found\n",
    "\n",
    "# Example usage\n",
    "sol = Solution()\n",
    "ans = sol.twoSum([3, 2, 4], 6)\n",
    "print(ans)  # Output: [1, 2]\n"
   ]
  },
  {
   "cell_type": "markdown",
   "metadata": {},
   "source": [
    "#### `2.2` Sort an array of 0's 1's and 2's `🆕` \n",
    "Given an array consisting of only 0s, 1s, and 2s. Write a program to in-place sort the array without using inbuilt sort functions. ( Expected: Single pass-O(N) and constant space)\n",
    "\n",
    "* Example 1:\n",
    "  * Input : nums = [2,0,2,1,1,0]\n",
    "  * Output: [0,0,1,1,2,2]\n",
    "  \n",
    "* Example 2:\n",
    "  * Input : nums = [0]\n",
    "  * Output: [0]"
   ]
  },
  {
   "cell_type": "markdown",
   "metadata": {},
   "source": [
    "`1.` brute force approach\n",
    "* Complexity \n",
    "  * Time complexity: O(N)\n",
    "  * Space complexity: O(1)"
   ]
  },
  {
   "cell_type": "code",
   "execution_count": 31,
   "metadata": {},
   "outputs": [],
   "source": [
    "class Solution(object):\n",
    "    def sortColors(self, nums):\n",
    "        arr=nums\n",
    "        cnt0 = 0\n",
    "        cnt1 = 0\n",
    "        cnt2 = 0\n",
    "\n",
    "        for num in arr:\n",
    "            if num == 0:\n",
    "                cnt0 += 1\n",
    "            elif num == 1:\n",
    "                cnt1 += 1\n",
    "            else:\n",
    "                cnt2 += 1\n",
    "\n",
    "        for i in range(cnt0):\n",
    "            arr[i] = 0\n",
    "\n",
    "        for i in range(cnt0, cnt0 + cnt1):\n",
    "            arr[i] = 1\n",
    "\n",
    "        for i in range(cnt0 + cnt1, len(arr)):\n",
    "            arr[i] = 2\n",
    "            "
   ]
  },
  {
   "cell_type": "code",
   "execution_count": null,
   "metadata": {},
   "outputs": [],
   "source": [
    "class Solution(object):\n",
    "    def sortColors(self, nums):\n",
    "        arr=nums\n",
    "        cnt0 = 0\n",
    "        cnt1 = 0\n",
    "        cnt2 = 0\n",
    "\n",
    "        for num in arr:\n",
    "            if num == 0:\n",
    "                cnt0 += 1\n",
    "            elif num == 1:\n",
    "                cnt1 += 1\n",
    "            else:\n",
    "                cnt2 += 1\n",
    "        nums[:cnt0] = [0] * cnt0\n",
    "        nums[cnt0:cnt0 + cnt1] = [1] * cnt1\n",
    "        nums[cnt0 + cnt1:] = [2] * cnt2"
   ]
  },
  {
   "cell_type": "markdown",
   "metadata": {},
   "source": [
    "`2.`  Dutch National flag algorithm (Optimal solution) `🆕` `🔄`   \n",
    "* Complexity \n",
    "  * Time complexity: O(N)\n",
    "  * Space complexity: O(1)"
   ]
  },
  {
   "cell_type": "code",
   "execution_count": 32,
   "metadata": {},
   "outputs": [],
   "source": [
    "class Solution(object):\n",
    "    def sortColors(self, nums):\n",
    "        arr=nums   \n",
    "        low = 0\n",
    "        mid = 0\n",
    "        high = len(arr) - 1\n",
    "\n",
    "        while mid <= high:\n",
    "            if arr[mid] == 0:\n",
    "                arr[low], arr[mid] = arr[mid], arr[low]\n",
    "                low += 1\n",
    "                mid += 1\n",
    "            elif arr[mid] == 1:\n",
    "                mid += 1\n",
    "            else:\n",
    "                arr[mid], arr[high] = arr[high], arr[mid]\n",
    "                high -= 1"
   ]
  },
  {
   "cell_type": "markdown",
   "metadata": {},
   "source": [
    "#### `2.3` Majority element `🆕` `🔄` `✨` `🔥` \n",
    "Given an array of N integers, write a program to return an element that occurs more than N/2 times in the given array. You may consider that such an element always exists in the array.\n",
    "\n",
    "* Example 1:\n",
    "  * Input Format : N = 3, nums[] = `{3,2,3}`\n",
    "  * Result : 3\n",
    "  * Explanation : When we just count the occurrences of each number and compare with half of the size of the array, you will get 3 for the above solution. \n",
    "\n",
    "* Example 2:\n",
    "  * Input Format:  N = 7, nums[] = `{2,2,1,1,1,2,2}`\n",
    "  * Result: 2\n",
    "  * Explanation: After counting the number of times each element appears and comparing it with half of array size, we get 2 as result.\n",
    "\n",
    "* Example 3:\n",
    "  * Input Format: N = 10, nums[] = `{4,4,2,4,3,4,4,3,2,4}`\n",
    "  * Result: 4"
   ]
  },
  {
   "cell_type": "markdown",
   "metadata": {},
   "source": [
    "`1.` Brute force approach"
   ]
  },
  {
   "cell_type": "code",
   "execution_count": null,
   "metadata": {},
   "outputs": [],
   "source": [
    "class Solution(object):\n",
    "    def majorityElement(self, nums):\n",
    "        N=len(nums)\n",
    "        for i in nums:\n",
    "            cnt=0\n",
    "            for j in nums:\n",
    "                if j==i:\n",
    "                    cnt+=1\n",
    "            if cnt > N//2:\n",
    "                return i"
   ]
  },
  {
   "cell_type": "markdown",
   "metadata": {},
   "source": [
    "`2.` Better solution (hashing)"
   ]
  },
  {
   "cell_type": "code",
   "execution_count": null,
   "metadata": {},
   "outputs": [],
   "source": [
    "class Solution(object):\n",
    "    def majorityElement(slef,nums):\n",
    "        hash_map_dict={}\n",
    "        for i in nums:\n",
    "            if i in hash_map_dict:\n",
    "                hash_map_dict[i]=hash_map_dict[i]+1\n",
    "            else:\n",
    "                hash_map_dict[i]=1\n",
    "            \n",
    "            if hash_map_dict[i]>len(nums)//2:\n",
    "                return i"
   ]
  },
  {
   "cell_type": "markdown",
   "metadata": {},
   "source": [
    "`3.` Moore's Voting algorithm (optimal):`🆕` `🔄` `✨` `🔥` "
   ]
  },
  {
   "cell_type": "code",
   "execution_count": null,
   "metadata": {},
   "outputs": [],
   "source": [
    "class Solution(object):\n",
    "    def majorityElement(self,nums):\n",
    "        cnt=0\n",
    "        el=None\n",
    "\n",
    "        for i in range(len(nums)):\n",
    "            if cnt==0:\n",
    "                el=nums[i]\n",
    "                cnt=1\n",
    "            elif el ==nums[i]:\n",
    "                cnt+=1\n",
    "            else:\n",
    "                cnt-=1\n",
    "        #^ (edge case in leetcode there is no need of edge case bcoz they are not teeling to do this) checking that the element is actually occured more than n/2 or not\n",
    "        cnt1=0\n",
    "        for i in range(len(nums)):\n",
    "            if nums[i]==el:\n",
    "                cnt1+=1\n",
    "        \n",
    "        if cnt1>len(nums)//2:\n",
    "            return el\n",
    "        \n",
    "        return -1\n",
    "        \n",
    "                "
   ]
  },
  {
   "cell_type": "markdown",
   "metadata": {},
   "source": [
    "#### `2.4` Kadane's Algorithm : Maximum Subarray Sum in an Array\n",
    "Problem Statement: Given an integer array arr, find the contiguous subarray (containing at least one number) which\n",
    "has the largest sum and returns its sum and prints the subarray.\n",
    "\n",
    "* Example 1:\n",
    "  * Input: arr = [-2,1,-3,4,-1,2,1,-5,4] \n",
    "  * Output: 6 \n",
    "  * Explanation:[4,-1,2,1] has the largest sum = 6. \n",
    "\n",
    "* Examples 2: Input: arr = [1] \n",
    "  * Output: 1 \n",
    "  * Explanation: Array has only one element and which is giving positive sum of 1. "
   ]
  },
  {
   "cell_type": "markdown",
   "metadata": {},
   "source": [
    "`1.` Brute force approach "
   ]
  },
  {
   "cell_type": "markdown",
   "metadata": {},
   "source": [
    "`Note :` always take any countable variable float('-inf') not 0"
   ]
  },
  {
   "cell_type": "code",
   "execution_count": 31,
   "metadata": {},
   "outputs": [
    {
     "data": {
      "text/plain": [
       "-1"
      ]
     },
     "execution_count": 31,
     "metadata": {},
     "output_type": "execute_result"
    }
   ],
   "source": [
    "class Solution(object):\n",
    "    def maxSubArray(self, nums):\n",
    "        if len(nums)==1:\n",
    "            return nums[0]\n",
    "        mx_sum=float('-inf')\n",
    "        for i in range(len(nums)):\n",
    "            for j in range(i,len(nums)):\n",
    "                sum=0\n",
    "                for k in range(i,j+1):\n",
    "                    sum=sum+nums[k]\n",
    "                mx_sum=max(sum,mx_sum)\n",
    "        return mx_sum\n",
    "    \n",
    "sol=Solution()\n",
    "ans=sol.maxSubArray([-2,-1])\n",
    "ans"
   ]
  },
  {
   "cell_type": "markdown",
   "metadata": {},
   "source": [
    "`2.` Better aproach"
   ]
  },
  {
   "cell_type": "code",
   "execution_count": 32,
   "metadata": {},
   "outputs": [
    {
     "data": {
      "text/plain": [
       "-1"
      ]
     },
     "execution_count": 32,
     "metadata": {},
     "output_type": "execute_result"
    }
   ],
   "source": [
    "class Solution(object):\n",
    "    def maxSubArray(self, nums):\n",
    "        if len(nums)==1:\n",
    "            return nums[0]\n",
    "        mx_sum=float('-inf')\n",
    "        for i in range(len(nums)):\n",
    "            sum=0\n",
    "            for j in range(i,len(nums)):\n",
    "                 sum=sum+nums[j]\n",
    "                 mx_sum=max(sum,mx_sum)\n",
    "        return mx_sum\n",
    "    \n",
    "sol=Solution()\n",
    "ans=sol.maxSubArray([-2,-1])\n",
    "ans"
   ]
  },
  {
   "cell_type": "markdown",
   "metadata": {},
   "source": [
    "`3.` Kadanes algorith (optimal solution) `🆕` `🔄` `🔥` "
   ]
  },
  {
   "cell_type": "code",
   "execution_count": 90,
   "metadata": {},
   "outputs": [
    {
     "data": {
      "text/plain": [
       "6"
      ]
     },
     "execution_count": 90,
     "metadata": {},
     "output_type": "execute_result"
    }
   ],
   "source": [
    "class Solution(object):\n",
    "    def maxSubArray(self, nums):\n",
    "        maxi=float('-inf')\n",
    "        sum=0\n",
    "        for i in nums:\n",
    "            sum=sum+i\n",
    "            if sum>maxi:\n",
    "                maxi=sum\n",
    "            if sum<0:\n",
    "                sum=0\n",
    "        return maxi\n",
    "\n",
    "sol=Solution()\n",
    "ans=sol.maxSubArray([-2,1,-3,4,-1,2,1,-5,4])\n",
    "ans"
   ]
  },
  {
   "cell_type": "code",
   "execution_count": 91,
   "metadata": {},
   "outputs": [
    {
     "name": "stdout",
     "output_type": "stream",
     "text": [
      "Maximum Subarray: [4, -1, 2, 1]\n",
      "Maximum Sum: 6\n"
     ]
    }
   ],
   "source": [
    "class Solution(object):\n",
    "    def maxSubArray(self, nums):\n",
    "        maxi = float('-inf')\n",
    "        sum = 0\n",
    "        start = 0\n",
    "        end = 0\n",
    "        temp_start = 0\n",
    "\n",
    "        for i in range(len(nums)):\n",
    "            if sum < 0:\n",
    "                sum = 0\n",
    "                temp_start = i  # Reset the starting index of the subarray\n",
    "            \n",
    "            sum += nums[i]\n",
    "            \n",
    "            if sum > maxi:\n",
    "                maxi = sum\n",
    "                start = temp_start  \n",
    "                end = i  \n",
    "        \n",
    "        print(\"Maximum Subarray:\", nums[start:end+1])\n",
    "        return maxi\n",
    "\n",
    "sol = Solution()\n",
    "nums = [-2,1,-3,4,-1,2,1,-5,4]\n",
    "print(\"Maximum Sum:\", sol.maxSubArray(nums))\n"
   ]
  },
  {
   "cell_type": "markdown",
   "metadata": {},
   "source": [
    "#### `2.6` Stock Buy And Sell\n",
    "\n",
    "Problem Statement: You are given an array of prices where prices[i] is the price of a given stock on an ith day.\n",
    "You want to maximize your profit by choosing a single day to buy one stock and choosing a different day in the future to sell that stock. Return the maximum profit you can achieve from this transaction. If you cannot achieve any profit, return 0.\n",
    "\n",
    "* Example 1:\n",
    "  * Input: prices = [7,1,5,3,6,4]\n",
    "  * Output: 5\n",
    "  * Explanation: Buy on day 2 (price = 1) and sell on day 5 (price = 6), profit = 6-1 = 5.\n",
    "\n",
    "Note : That buying on day 2 and selling on day 1 is not allowed because you must buy before you sell.\n",
    "\n",
    "* Example 2:\n",
    "  * Input: prices = [7,6,4,3,1]\n",
    "  * Output: 0\n",
    "  * Explanation: In this case, no transactions are done and the max profit = 0."
   ]
  },
  {
   "cell_type": "code",
   "execution_count": null,
   "metadata": {},
   "outputs": [],
   "source": [
    "class Solution(object):\n",
    "    def maxProfit(self, prices):\n",
    "        maxi=0\n",
    "        i=0\n",
    "        for j in range(1,len(prices)):\n",
    "            if prices[j]>prices[i]:\n",
    "                profit=prices[j]-prices[i]\n",
    "                if profit>maxi:\n",
    "                    maxi=profit\n",
    "            else:\n",
    "                i=j\n",
    "        return maxi\n"
   ]
  },
  {
   "cell_type": "code",
   "execution_count": null,
   "metadata": {},
   "outputs": [],
   "source": [
    "class Solution(object):\n",
    "    def maxProfit(self, prices):\n",
    "        maxi=0\n",
    "        min_price=prices[0]\n",
    "        for i in prices:\n",
    "            if i<min_price:\n",
    "                min_price=i\n",
    "            else:\n",
    "                profit=i-min_price\n",
    "                if maxi<profit:\n",
    "                    maxi=profit\n",
    "\n",
    "        return maxi"
   ]
  },
  {
   "cell_type": "markdown",
   "metadata": {},
   "source": [
    "#### `2.7` Rearrange Array Elements by Sign \n",
    "\n",
    "You are given a 0-indexed integer array nums of even length consisting of an equal number of positive and negative integers.\n",
    "\n",
    "You should return the array of nums such that the the array follows the given conditions:\n",
    "\n",
    "1. Every consecutive pair of integers have opposite signs.\n",
    "2. For all integers with the same sign, the order in which they were present in nums is preserved.\n",
    "3. The rearranged array begins with a positive integer.\n",
    "\n",
    "Return the modified array after rearranging the elements to satisfy the aforementioned conditions.\n",
    "\n",
    "* Example 1:\n",
    "  * Input:arr[] = {1,2,-4,-5}, N = 4\n",
    "  * Output:1 -4 2 -5\n",
    "  * Explanation: \n",
    "              **Positive elements** = 1,2\n",
    "              **Negative elements** = -4,-5\n",
    "              To maintain relative ordering, 1 must occur before 2, and -4 must occur before -5.\n",
    "\n",
    "* Example 2:\n",
    "  * Input:arr[] = {1,2,-3,-1,-2,-3}, N = 6\n",
    "  * Output: 1 -3 2 -1 3 -2\n",
    "  * Explanation: \n",
    "                **Positive elements** = 1,2,3\n",
    "                **Negative elements** = -3,-1,-2\n",
    "                To maintain relative ordering, 1 must occur before 2, and 2 must occur before 3.\n",
    "                Also, -3 should come before -1, and -1 should come before -2."
   ]
  },
  {
   "cell_type": "markdown",
   "metadata": {},
   "source": [
    "`1.` Brute force approach:"
   ]
  },
  {
   "cell_type": "code",
   "execution_count": null,
   "metadata": {},
   "outputs": [],
   "source": [
    "class Solution(object):\n",
    "    def rearrangeArray(self, nums):\n",
    "        pos=[]\n",
    "        neg=[]\n",
    "        ans=[]\n",
    "        \n",
    "        for i in range(len(nums)):\n",
    "            if nums[i]>0:\n",
    "                pos.append(nums[i])\n",
    "            else:\n",
    "                neg.append(nums[i])\n",
    "        \n",
    "        for i in range(len(pos)):\n",
    "             ans.append(pos[i])\n",
    "             ans.append(neg[i])\n",
    "        \n",
    "\n",
    "        return ans\n",
    "\n"
   ]
  },
  {
   "cell_type": "markdown",
   "metadata": {},
   "source": [
    "`2.` optimal "
   ]
  },
  {
   "cell_type": "code",
   "execution_count": null,
   "metadata": {},
   "outputs": [],
   "source": [
    "class Solution(object):\n",
    "    def rearrangeArray(self, nums):\n",
    "        ans=[0]*len(nums)\n",
    "        pos,neg=0,1\n",
    "\n",
    "        for i in range(len(nums)):\n",
    "            if nums[i]<0:\n",
    "                ans[neg]=nums[i]\n",
    "                neg=neg+2\n",
    "            else:\n",
    "                ans[pos]=nums[i]\n",
    "                pos=pos+2\n",
    "        return ans\n"
   ]
  },
  {
   "cell_type": "markdown",
   "metadata": {},
   "source": [
    "### `2.8` Next Permutation `🔄` `🔥` `⭐` `🆕`\n",
    "Problem Statement: Given an array Arr[] of integers, rearrange the numbers of the given array into the lexicographically next greater permutation of numbers.\n",
    "If such an arrangement is not possible, it must rearrange to the lowest possible order (i.e., sorted in ascending order).\n",
    "\n",
    "* Example 1 :\n",
    "  * Input format:Arr[] = {1,3,2}\n",
    "  * Output: Arr[] = {2,1,3}\n",
    "  * Explanation: All permutations of {1,2,3} are {{1,2,3} , {1,3,2}, {2,13} , {2,3,1} , {3,1,2} , {3,2,1}}. So, the next permutation just after {1,3,2} is {2,1,3}.\n",
    "\n",
    "* Example 2:\n",
    "  * Input format: Arr[] = {3,2,1}\n",
    "  * Output: Arr[] = {1,2,3}\n",
    "  * Explanation: As we see all permutations of {1,2,3}, we find {3,2,1} at the last position. So, we have to return the topmost permutation."
   ]
  },
  {
   "cell_type": "code",
   "execution_count": null,
   "metadata": {},
   "outputs": [],
   "source": [
    "class Solution(object):\n",
    "    def nextPermutation(self, nums):\n",
    "        n=len(nums)\n",
    "        index=-1\n",
    "         # Step 1: Find the break point:\n",
    "        for i in range(n-2,-1,-1):\n",
    "            if nums[i]<nums[i+1]:\n",
    "                 # index i is the break point\n",
    "                 index=i\n",
    "                 break\n",
    "         # If break point does not exist:\n",
    "        if index==-1:\n",
    "            return nums.reverse()\n",
    "        \n",
    "        # Step 2: Find the next greater element\n",
    "        #   and swap it with arr[ind]:\n",
    "        for i in range(n-1,index,-1):\n",
    "            if nums[i]>nums[index]:\n",
    "                nums[i],nums[index]=nums[index],nums[i]\n",
    "                break\n",
    "        # Step 3: reverse the right half:\n",
    "        nums[index+1:]=reversed(nums[index+1:])\n",
    "\n",
    "        return nums\n"
   ]
  },
  {
   "cell_type": "markdown",
   "metadata": {},
   "source": [
    "### `2.9` Leaders in an Array\n",
    "Problem Statement: Given an array, print all the elements which are leaders. A Leader is an element that is greater than all of the elements on its right side in the array.\n",
    "\n",
    "* Example 1:\n",
    "  * Input: arr = [4, 7, 1, 0]\n",
    "  * Output: 7 1 0\n",
    "  * Explanation: Rightmost element is always a leader. 7 and 1 are greater than the elements in their right side.\n",
    "\n",
    "* Example 2:\n",
    "  * Input: arr = [10, 22, 12, 3, 0, 6]\n",
    "  * Output: 22 12 6\n",
    "  * Explanation: 6 is a leader. In addition to that, 12 is greater than all the elements in its right side (3, 0, 6), also 22 is greater than 12, 3, 0, 6"
   ]
  },
  {
   "cell_type": "markdown",
   "metadata": {},
   "source": [
    "`1.` Brute force"
   ]
  },
  {
   "cell_type": "code",
   "execution_count": null,
   "metadata": {},
   "outputs": [],
   "source": [
    "class Solution:\n",
    "    def leaders(self, arr):\n",
    "        Ans = []\n",
    "        \n",
    "        for i in range(len(arr)):\n",
    "            Leader = True\n",
    "            for j in range(i + 1, len(arr)):\n",
    "                if arr[j] > arr[i]:\n",
    "                    Leader = False\n",
    "                    break\n",
    "            if Leader:\n",
    "                Ans.append(arr[i])\n",
    "                \n",
    "        return Ans\n"
   ]
  },
  {
   "cell_type": "markdown",
   "metadata": {},
   "source": [
    "`2.` optimal"
   ]
  },
  {
   "cell_type": "code",
   "execution_count": null,
   "metadata": {},
   "outputs": [],
   "source": [
    "class Solution:\n",
    "    def leaders(self, arr):\n",
    "        Ans = []\n",
    "        max = -1\n",
    "\n",
    "        for i in range(len(arr) - 1, -1, -1):\n",
    "            if arr[i] >= max:\n",
    "                max = arr[i]\n",
    "                Ans.append(arr[i])\n",
    "        \n",
    "        return Ans[::-1] # reversing the list\n"
   ]
  },
  {
   "cell_type": "markdown",
   "metadata": {},
   "source": [
    "<p style=\"display: inline-block; background-color:rgb(53, 53, 53); color: white; padding: 5px 10px; border-radius: 5px; font-size: 22px;\">\n",
    "    <a href=\"https://leetcode.com/problems/longest-consecutive-sequence/\" target=\"_blank\" style=\"color: white; text-decoration: none;\">\n",
    "    2.10  Longest Consecutive Sequence\n",
    "   </a>\n",
    "</p>"
   ]
  },
  {
   "cell_type": "markdown",
   "metadata": {},
   "source": [
    "`brute force approach`"
   ]
  },
  {
   "cell_type": "code",
   "execution_count": null,
   "metadata": {},
   "outputs": [],
   "source": [
    "\n",
    "class Solution:\n",
    "    def search(self,nums,num):\n",
    "        for i in nums:\n",
    "            if i==num:\n",
    "                return True\n",
    "        return False\n",
    "    def longestConsecutive(self, nums: List[int]) -> int:\n",
    "        if len(nums)==0:\n",
    "            return 0\n",
    "        longest=1\n",
    "        for num in nums:\n",
    "            count=1\n",
    "            while self.search(nums,num+1):\n",
    "                num+=1\n",
    "                count+=1\n",
    "            longest=max(longest,count)\n",
    "        return longest"
   ]
  },
  {
   "cell_type": "markdown",
   "metadata": {},
   "source": [
    "`Optimal approach`\n"
   ]
  },
  {
   "cell_type": "code",
   "execution_count": null,
   "metadata": {},
   "outputs": [],
   "source": [
    "class Solution(object):\n",
    "    def longestConsecutive(self, nums):\n",
    "        if not nums:\n",
    "            return 0\n",
    "        \n",
    "        st = set(nums)\n",
    "        longest = 1\n",
    "        \n",
    "        for num in st:\n",
    "            if num - 1 not in st:  \n",
    "                current = num\n",
    "                count = 1\n",
    "                \n",
    "                while current + 1 in st:\n",
    "                    current += 1\n",
    "                    count += 1\n",
    "                \n",
    "                \n",
    "                 = max(longest, count)\n",
    "        \n",
    "        return longest\n"
   ]
  },
  {
   "cell_type": "markdown",
   "metadata": {},
   "source": [
    "<p style=\"display: inline-block; background-color:rgb(53, 53, 53); color: white; padding: 5px 10px; border-radius: 5px; font-size: 22px;\">\n",
    "    <a href=\"https://leetcode.com/problems/set-matrix-zeroes/description/\" target=\"_blank\" style=\"color: white; text-decoration: none;\">\n",
    "    2.11.   Set Matrix Zeroes\n",
    "   </a>\n",
    "</p>"
   ]
  },
  {
   "cell_type": "code",
   "execution_count": null,
   "metadata": {},
   "outputs": [
    {
     "name": "stdout",
     "output_type": "stream",
     "text": [
      "1|2|3|\n",
      "4|5|6|\n",
      "7|8|9|\n"
     ]
    }
   ],
   "source": [
    "matrix=[[1, 2, 3],[4, 5, 1+5],[7, 8, 9]]\n",
    "for i in range(len(matrix)):\n",
    "    for j in range(len(matrix[i])):\n",
    "        print(matrix[i][j],end=\"|\")\n",
    "    print()  \n",
    "\n",
    "\n"
   ]
  },
  {
   "cell_type": "markdown",
   "metadata": {},
   "source": [
    "`Brute force`"
   ]
  },
  {
   "cell_type": "code",
   "execution_count": null,
   "metadata": {},
   "outputs": [],
   "source": [
    "from typing import List\n",
    "\n",
    "class Solution:\n",
    "    def mark_minus1_row(self, matrix, row):\n",
    "        for j in range(len(matrix[row])):\n",
    "            if matrix[row][j] != 0:\n",
    "                matrix[row][j] = -11\n",
    "                \n",
    "    def mark_minus1_col(self, matrix, col):\n",
    "        for i in range(len(matrix)):\n",
    "            if matrix[i][col] != 0:\n",
    "                matrix[i][col] = -11\n",
    "\n",
    "    def setZeroes(self, matrix: List[List[int]]) -> None:\n",
    "        for i in range(len(matrix)):\n",
    "            for j in range(len(matrix[i])):\n",
    "                if matrix[i][j] == 0:\n",
    "                    self.mark_minus1_row(matrix, i)\n",
    "                    self.mark_minus1_col(matrix, j)\n",
    "        \n",
    "        for i in range(len(matrix)):\n",
    "            for j in range(len(matrix[i])):   \n",
    "                if matrix[i][j] == -11:\n",
    "                    matrix[i][j] = 0"
   ]
  },
  {
   "cell_type": "markdown",
   "metadata": {},
   "source": [
    "`Better`"
   ]
  },
  {
   "cell_type": "code",
   "execution_count": null,
   "metadata": {},
   "outputs": [],
   "source": [
    "from typing import List\n",
    "\n",
    "class Solution:\n",
    "    def setZeroes(self, matrix: List[List[int]]) -> None:\n",
    "        n = len(matrix)      \n",
    "        m = len(matrix[0])   \n",
    "        \n",
    "        row = [0] * n\n",
    "        col = [0] * m\n",
    "\n",
    "        for i in range(n):\n",
    "            for j in range(m):\n",
    "                if matrix[i][j] == 0:\n",
    "                    row[i] = 1\n",
    "                    col[j] = 1\n",
    "\n",
    "        for i in range(n):\n",
    "            for j in range(m):\n",
    "                if row[i] == 1 or col[j] == 1:\n",
    "                    matrix[i][j] = 0\n"
   ]
  },
  {
   "cell_type": "markdown",
   "metadata": {},
   "source": [
    "<p style=\"display: inline-block; background-color:rgb(53, 53, 53); color: white; padding: 5px 10px; border-radius: 5px; font-size: 22px;\">\n",
    "    <a href=\"https://leetcode.com/problems/rotate-image/description/\" target=\"_blank\" style=\"color: white; text-decoration: none;\">\n",
    "    2.12. \t\n",
    "Rotate Matrix by 90 degrees\n",
    "   </a>\n",
    "</p>"
   ]
  },
  {
   "cell_type": "code",
   "execution_count": 18,
   "metadata": {},
   "outputs": [
    {
     "name": "stdout",
     "output_type": "stream",
     "text": [
      "1|2|3|\n",
      "4|5|6|\n",
      "7|8|9|\n",
      "\n",
      "7|4|1|\n",
      "8|5|2|\n",
      "9|6|3|\n"
     ]
    }
   ],
   "source": [
    "matrix=[[1, 2, 3],[4, 5, 6],[7, 8, 9]]\n",
    "row=len(matrix)\n",
    "n=len(matrix)\n",
    "col=len(matrix[i])\n",
    "for i in range(row):\n",
    "    for j in range(col):\n",
    "        print(matrix[i][j],end=\"|\")\n",
    "    print()  \n",
    "\n",
    "print() \n",
    "matrix2=[[0] * row for _ in range(row)]\n",
    "\n",
    "\n",
    "for i in range(row):\n",
    "    for j in range(col):\n",
    "        matrix2[i][j]=matrix[n-1-j][i]\n",
    "        print(matrix2[i][j],end=\"|\")\n",
    "    print() \n",
    "\n",
    "\n"
   ]
  },
  {
   "cell_type": "code",
   "execution_count": null,
   "metadata": {},
   "outputs": [],
   "source": [
    "from typing import List\n",
    "\n",
    "class Solution:\n",
    "    def rotate(self, matrix: List[List[int]]) -> None:\n",
    "\n",
    "        n = len(matrix)\n",
    "        matrix2 = [[0] * n for _ in range(n)]\n",
    "        for i in range(n):\n",
    "            for j in range(n):\n",
    "                matrix2[i][j] = matrix[n - 1 - j][i]\n",
    "        for i in range(n):\n",
    "            for j in range(n):\n",
    "                matrix[i][j] = matrix2[i][j]"
   ]
  },
  {
   "cell_type": "code",
   "execution_count": null,
   "metadata": {},
   "outputs": [],
   "source": [
    "class Solution:\n",
    "    def rotate(self, matrix: List[List[int]]) -> None:\n",
    "        n=len(matrix)\n",
    "        for i in range(n):\n",
    "            for j in range(i+1,n):\n",
    "                matrix[i][j],matrix[j][i]=matrix[j][i],matrix[i][j]\n",
    "\n",
    "        for i in range(n):\n",
    "            matrix[i]=matrix[i][::-1]\n",
    "            # matrix[i].reverse()"
   ]
  },
  {
   "cell_type": "markdown",
   "metadata": {},
   "source": [
    "<p style=\"display: inline-block; background-color:rgb(53, 53, 53); color: white; padding: 5px 10px; border-radius: 5px; font-size: 22px;\">\n",
    "    <a href=\"https://leetcode.com/problems/spiral-matrix/description/\" target=\"_blank\" style=\"color: white; text-decoration: none;\">\n",
    "    2.13.   Print the matrix in spiral manner\n",
    "   </a>\n",
    "</p>\n"
   ]
  },
  {
   "cell_type": "code",
   "execution_count": null,
   "metadata": {},
   "outputs": [],
   "source": [
    "class Solution:\n",
    "    def spiralOrder(self, matrix: List[List[int]]) -> List[int]:\n",
    "        row=len(matrix)\n",
    "        n=len(matrix)\n",
    "        col=len(matrix[0])\n",
    "\n",
    "        top=left=0\n",
    "        right,bottom=col-1,row-1\n",
    "        result=[]\n",
    "\n",
    "        while top<=bottom and left <=right:\n",
    "            for j in range(left, right +1):\n",
    "                result.append(matrix[top][j])\n",
    "            top+=1\n",
    "\n",
    "            for i in range(top, bottom +1):\n",
    "                result.append(matrix[i][right])\n",
    "            right-=1\n",
    "\n",
    "            #  Right → Left (check top/bottom validity)\n",
    "            if top<=bottom:\n",
    "                for j in range(right, left-1,-1):\n",
    "                    result.append(matrix[bottom][j])\n",
    "                bottom-=1\n",
    "\n",
    "            # Bottom → Top (check left/right validity)\n",
    "            if left <=right:\n",
    "                for i in range(bottom, top-1,-1):\n",
    "                    result.append(matrix[i][left])\n",
    "                left+=1\n",
    "\n",
    "        return result"
   ]
  },
  {
   "cell_type": "markdown",
   "metadata": {},
   "source": [
    "<p style=\"display: inline-block; background-color:rgb(53, 53, 53); color: white; padding: 5px 10px; border-radius: 5px; font-size: 22px;\">\n",
    "    <a href=\"https://leetcode.com/problems/subarray-sum-equals-k/\" target=\"_blank\" style=\"color: white; text-decoration: none;\">\n",
    "    2.14.   Count subarrays with given sum\n",
    "   </a>\n",
    "</p>"
   ]
  },
  {
   "cell_type": "markdown",
   "metadata": {},
   "source": [
    "`Nrute force approach`"
   ]
  },
  {
   "cell_type": "code",
   "execution_count": null,
   "metadata": {},
   "outputs": [
    {
     "name": "stdout",
     "output_type": "stream",
     "text": [
      "2\n"
     ]
    }
   ],
   "source": [
    "class Solution:\n",
    "    def subarraySum(self, nums: List[int], k: int) -> int:\n",
    "        result = []\n",
    "        ans = 0\n",
    "        for i in range(len(nums)):  \n",
    "            summ = k\n",
    "            for j in range(i, len(nums)):\n",
    "                summ -= nums[j]      \n",
    "                if summ == 0:        \n",
    "                    result.append(nums[i:j+1])\n",
    "                    ans += 1\n",
    "        print(result)\n",
    "        return ans\n",
    "sol=Solution()\n",
    "print(sol.subarraySum([1,1,1],2))\n"
   ]
  },
  {
   "cell_type": "code",
   "execution_count": 20,
   "metadata": {},
   "outputs": [],
   "source": [
    "class Solution:\n",
    "    def subarraySum(self, nums: List[int], k: int) -> int:\n",
    "        result = []\n",
    "        ans = 0\n",
    "        \n",
    "        for i in range(len(nums)):\n",
    "            summ = 0\n",
    "            for j in range(i, len(nums)):\n",
    "                summ += nums[j]\n",
    "                if summ == k:\n",
    "                    result.append(nums[i:j+1])\n",
    "                    ans += 1\n",
    "                    \n",
    "        print(result)\n",
    "        return ans\n"
   ]
  },
  {
   "cell_type": "markdown",
   "metadata": {},
   "source": [
    "`Optimal Sol` `Using Prefix sum`"
   ]
  },
  {
   "cell_type": "code",
   "execution_count": null,
   "metadata": {},
   "outputs": [],
   "source": [
    "class Solution(object):\n",
    "    def subarraySum(self, nums, k):\n",
    "        prefixSumMap = {0: 1}  \n",
    "        currentSum = 0\n",
    "        count = 0\n",
    "        for num in nums:\n",
    "            currentSum += num\n",
    "            diff = currentSum - k\n",
    "            if diff in prefixSumMap:\n",
    "                count += prefixSumMap[diff]\n",
    "            prefixSumMap[currentSum] = prefixSumMap.get(currentSum, 0) + 1\n",
    "        return count\n",
    "[1,1,-1,-1,2,3,4,-5,-2],k=2\n",
    "dry run"
   ]
  },
  {
   "cell_type": "code",
   "execution_count": null,
   "metadata": {},
   "outputs": [
    {
     "data": {
      "text/plain": [
       "0"
      ]
     },
     "execution_count": 6,
     "metadata": {},
     "output_type": "execute_result"
    }
   ],
   "source": []
  },
  {
   "cell_type": "markdown",
   "metadata": {},
   "source": [
    "## `3.` `Hard problems`"
   ]
  },
  {
   "cell_type": "markdown",
   "metadata": {},
   "source": [
    "<p style=\"display: inline-block; background-color:rgb(53, 53, 53); color: white; padding: 5px 10px; border-radius: 5px; font-size: 22px;\">\n",
    "    <a href=\"https://leetcode.com/problems/pascals-triangle/description/\" target=\"_blank\" style=\"color: white; text-decoration: none;\">\n",
    "    3.1.   Pascal's Triangle\n",
    "   </a>\n",
    "</p>"
   ]
  },
  {
   "cell_type": "code",
   "execution_count": null,
   "metadata": {},
   "outputs": [],
   "source": [
    "class Solution:\n",
    "    def generate(self, numRows: int) -> List[List[int]]:"
   ]
  },
  {
   "cell_type": "markdown",
   "metadata": {},
   "source": [
    "<p style=\"display: inline-block; background-color:rgb(53, 53, 53); color: white; padding: 5px 10px; border-radius: 5px; font-size: 22px;\">\n",
    "    <a href=\"https://leetcode.com/problems/majority-element-ii/description/\" target=\"_blank\" style=\"color: white; text-decoration: none;\">\n",
    "    3.2. Majority Element (n/3 times)\n",
    "   </a>\n",
    "</p>"
   ]
  },
  {
   "cell_type": "markdown",
   "metadata": {},
   "source": [
    "`Using hash mapps`: space complexty is O(n) and time complexity is O(n)"
   ]
  },
  {
   "cell_type": "code",
   "execution_count": null,
   "metadata": {},
   "outputs": [],
   "source": [
    "from typing import List\n",
    "\n",
    "class Solution:\n",
    "    def majorityElement(self, nums: List[int]) -> List[int]:\n",
    "        hash_maps = {}\n",
    "        n = len(nums) // 3\n",
    "        result = set()   \n",
    "\n",
    "\n",
    "        for num in nums:\n",
    "            if num in hash_maps:\n",
    "                hash_maps[num] += 1\n",
    "            else:\n",
    "                hash_maps[num] = 1\n",
    "\n",
    "            if hash_maps[num] > n:\n",
    "                result.add(num)\n",
    "\n",
    "        return list(result)\n",
    "\n"
   ]
  },
  {
   "cell_type": "markdown",
   "metadata": {},
   "source": [
    "`Using Moress algorithm`: space complexty is O(1) and time complexity is O(n)"
   ]
  },
  {
   "cell_type": "code",
   "execution_count": null,
   "metadata": {},
   "outputs": [],
   "source": [
    "class Solution(object):\n",
    "    def majorityElement(self, nums):\n",
    "        # Phase 1: Find potential candidates\n",
    "        cnt1, cnt2, el1, el2 = 0, 0, None, None\n",
    "\n",
    "        for num in nums:\n",
    "            if el1 == num:\n",
    "                cnt1 += 1\n",
    "            elif el2 == num:\n",
    "                cnt2 += 1\n",
    "            elif cnt1 == 0:\n",
    "                el1, cnt1 = num, 1\n",
    "            elif cnt2 == 0:\n",
    "                el2, cnt2 = num, 1\n",
    "            else:\n",
    "                cnt1 -= 1\n",
    "                cnt2 -= 1\n",
    "\n",
    "        # Phase 2: Verify candidates\n",
    "        result = []\n",
    "        n = len(nums)\n",
    "        if nums.count(el1) > n // 3:\n",
    "            result.append(el1)\n",
    "        if el2 is not None and nums.count(el2) > n // 3:\n",
    "            result.append(el2)\n",
    "\n",
    "        return result\n"
   ]
  },
  {
   "cell_type": "markdown",
   "metadata": {},
   "source": [
    "<p style=\"display: inline-block; background-color:rgb(53, 53, 53); color: white; padding: 5px 10px; border-radius: 5px; font-size: 22px;\">\n",
    "    <a href=\"https://leetcode.com/problems/3sum/description/\" target=\"_blank\" style=\"color: white; text-decoration: none;\">\n",
    "    3.3. 3-Sum Problem\n",
    "   </a>\n",
    "</p>"
   ]
  },
  {
   "cell_type": "markdown",
   "metadata": {},
   "source": [
    "`Brute force approach`"
   ]
  },
  {
   "cell_type": "code",
   "execution_count": null,
   "metadata": {},
   "outputs": [],
   "source": [
    "from typing import List\n",
    "\n",
    "class Solution:\n",
    "    def threeSum(self, nums: List[int]) -> List[List[int]]:\n",
    "        n = len(nums)\n",
    "        res = set()\n",
    "\n",
    "        for i in range(n):\n",
    "            for j in range(i+1, n):\n",
    "                for k in range(j+1, n):\n",
    "                    if nums[i] + nums[j] + nums[k] == 0:\n",
    "                        triplet = tuple(sorted([nums[i], nums[j], nums[k]]))\n",
    "                        res.add(triplet)\n",
    "\n",
    "        return [list(triplet) for triplet in res]\n"
   ]
  },
  {
   "cell_type": "markdown",
   "metadata": {},
   "source": [
    "`Better using hash_maps`"
   ]
  },
  {
   "cell_type": "code",
   "execution_count": null,
   "metadata": {},
   "outputs": [],
   "source": [
    "from typing import List\n",
    "\n",
    "class Solution:\n",
    "    def threeSum(self, nums: List[int]) -> List[List[int]]:\n",
    "        nums.sort()\n",
    "        result = set()\n",
    "\n",
    "        for i in range(len(nums)):\n",
    "            hash_maps = {}\n",
    "            for j in range(i+1, len(nums)):\n",
    "                x = -(nums[i] + nums[j]) \n",
    "                \n",
    "                if x in hash_maps:  \n",
    "                    ans_arr = [nums[i], nums[j], x]\n",
    "                    result.add(tuple(sorted(ans_arr)))  \n",
    "                hash_maps[nums[j]] = True\n",
    "\n",
    "        return [list(triplet) for triplet in result]\n"
   ]
  },
  {
   "cell_type": "markdown",
   "metadata": {},
   "source": [
    "`Optimal using 2 pointer`"
   ]
  },
  {
   "cell_type": "code",
   "execution_count": null,
   "metadata": {},
   "outputs": [],
   "source": [
    "class Solution:\n",
    "    def threeSum(self, nums: List[int]) -> List[List[int]]:\n",
    "        nums.sort()\n",
    "        ans=[]\n",
    "        for i  in range(len(nums)):\n",
    "            if i>0 and  nums[i]==nums[i-1]: continue\n",
    "            j=i+1\n",
    "            k=len(nums)-1\n",
    "            while j<k:\n",
    "                sum=nums[i]+nums[j]+nums[k]\n",
    "                if sum<0:\n",
    "                    j+=1\n",
    "                elif sum>0:\n",
    "                    k-=1\n",
    "                else:\n",
    "                    temp=[nums[i],nums[j],nums[k]]\n",
    "                    ans.append(temp)\n",
    "                    j+=1\n",
    "                    k-=1\n",
    "                    while (j<k and nums[j]==nums[j-1]): j+=1\n",
    "                    while (j<k and nums[k]==nums[k+1]): k-=1\n",
    "        return ans"
   ]
  },
  {
   "cell_type": "markdown",
   "metadata": {},
   "source": [
    "<p style=\"display: inline-block; background-color:rgb(53, 53, 53); color: white; padding: 5px 10px; border-radius: 5px; font-size: 22px;\">\n",
    "    <a href=\"https://leetcode.com/problems/4sum/description/\" target=\"_blank\" style=\"color: white; text-decoration: none;\">\n",
    "    3.4. 4-Sum Problem\n",
    "   </a>\n",
    "</p>"
   ]
  },
  {
   "cell_type": "code",
   "execution_count": null,
   "metadata": {},
   "outputs": [],
   "source": []
  },
  {
   "cell_type": "markdown",
   "metadata": {},
   "source": [
    "<p style=\"display: inline-block; background-color:rgb(53, 53, 53); color: white; padding: 5px 10px; border-radius: 5px; font-size: 22px;\">\n",
    "    <a href=\"https://www.geeksforgeeks.org/problems/largest-subarray-with-0-sum/1\" target=\"_blank\" style=\"color: white; text-decoration: none;\">\n",
    "    3.5. Largest Subarray with 0 Sum\n",
    "   </a>\n",
    "</p>"
   ]
  },
  {
   "cell_type": "code",
   "execution_count": null,
   "metadata": {},
   "outputs": [],
   "source": []
  },
  {
   "cell_type": "markdown",
   "metadata": {},
   "source": [
    "<p style=\"display: inline-block; background-color:rgb(53, 53, 53); color: white; padding: 5px 10px; border-radius: 5px; font-size: 22px;\">\n",
    "    <a href=\"https://www.geeksforgeeks.org/problems/count-subarray-with-given-xor/1\" target=\"_blank\" style=\"color: white; text-decoration: none;\">\n",
    "    3.6. Count number of subarrays with given xor K\n",
    "   </a>\n",
    "</p>"
   ]
  },
  {
   "cell_type": "code",
   "execution_count": null,
   "metadata": {},
   "outputs": [],
   "source": []
  },
  {
   "cell_type": "markdown",
   "metadata": {},
   "source": [
    "<p style=\"display: inline-block; background-color:rgb(53, 53, 53); color: white; padding: 5px 10px; border-radius: 5px; font-size: 22px;\">\n",
    "    <a href=\"https://leetcode.com/problems/merge-intervals/description/\" target=\"_blank\" style=\"color: white; text-decoration: none;\">\n",
    "    3.7. Merge Overlapping Subintervals\n",
    "   </a>\n",
    "</p>"
   ]
  },
  {
   "cell_type": "code",
   "execution_count": null,
   "metadata": {},
   "outputs": [],
   "source": [
    "from typing import List\n",
    "\n",
    "class Solution:\n",
    "    def merge(self, intervals: List[List[int]]) -> List[List[int]]:\n",
    "        if len(intervals)==1:\n",
    "            return intervals\n",
    "        intervals.sort()\n",
    "        result=[]\n",
    "        over_lapping=intervals[0]\n",
    "        for i in range(1,len(intervals)):\n",
    "            if intervals[i][0]<over_lapping[1]:\n",
    "                if intervals[i][1]>over_lapping[1]:\n",
    "                    over_lapping[1]=intervals[i][1]\n",
    "                # Or\n",
    "                # over_lapping[1] = max(over_lapping[1], intervals[i][1])\n",
    "            else:\n",
    "                result.append(over_lapping)\n",
    "                over_lapping=intervals[i]\n",
    "        result.append(over_lapping)\n",
    "        return result"
   ]
  },
  {
   "cell_type": "code",
   "execution_count": 14,
   "metadata": {},
   "outputs": [
    {
     "data": {
      "text/plain": [
       "[[1, 3], [2, 6], [8, 10], [15, 18]]"
      ]
     },
     "execution_count": 14,
     "metadata": {},
     "output_type": "execute_result"
    }
   ],
   "source": [
    "a=[[1,3],[8,10],[2,6],[15,18]]\n",
    "a.sort()\n",
    "a"
   ]
  },
  {
   "cell_type": "code",
   "execution_count": 18,
   "metadata": {},
   "outputs": [
    {
     "data": {
      "text/plain": [
       "[[1, 3], [1, 2], [2, 6], [8, 10], [15, 18]]"
      ]
     },
     "execution_count": 18,
     "metadata": {},
     "output_type": "execute_result"
    }
   ],
   "source": [
    "a=[[1,3],[8,10],[2,6],[15,18],[1,2]]\n",
    "a.sort(key=lambda x: x[0])\n",
    "a"
   ]
  },
  {
   "cell_type": "markdown",
   "metadata": {},
   "source": [
    "<p style=\"display: inline-block; background-color:rgb(53, 53, 53); color: white; padding: 5px 10px; border-radius: 5px; font-size: 22px;\">\n",
    "    <a href=\"https://leetcode.com/problems/merge-sorted-array/description/\" target=\"_blank\" style=\"color: white; text-decoration: none;\">\n",
    "    3.8. Merge two sorted arrays without extra space\n",
    "   </a>\n",
    "</p>"
   ]
  },
  {
   "cell_type": "code",
   "execution_count": 18,
   "metadata": {},
   "outputs": [],
   "source": [
    "from typing import List\n",
    "\n",
    "class Solution:\n",
    "    def merge(self, nums1: List[int], m: int, nums2: List[int], n: int) -> None:\n",
    "        j = 0\n",
    "        for i in range(m):\n",
    "            if j < n and nums1[i] > nums2[j]:\n",
    "                nums1[i], nums2[j] = nums2[j], nums1[i]\n",
    "                nums2.sort()\n",
    "        nums1[m:] = nums2\n"
   ]
  },
  {
   "cell_type": "code",
   "execution_count": 19,
   "metadata": {},
   "outputs": [],
   "source": [
    "class Solution:\n",
    "    def merge(self, nums1: List[int], m: int, nums2: List[int], n: int) -> None:\n",
    "        i = m - 1 \n",
    "        j = n - 1  \n",
    "        k = m + n - 1  \n",
    "        while i >= 0 and j >= 0:\n",
    "            if nums1[i] > nums2[j]:\n",
    "                nums1[k] = nums1[i]\n",
    "                i -= 1\n",
    "            else:\n",
    "                nums1[k] = nums2[j]\n",
    "                j -= 1\n",
    "            k -= 1\n",
    "        while j >= 0:\n",
    "            nums1[k] = nums2[j]\n",
    "            j -= 1\n",
    "            k -= 1\n"
   ]
  },
  {
   "cell_type": "markdown",
   "metadata": {},
   "source": [
    "<p style=\"display: inline-block; background-color:rgb(53, 53, 53); color: white; padding: 5px 10px; border-radius: 5px; font-size: 22px;\">\n",
    "    <a href=\"hhttps://www.geeksforgeeks.org/problems/find-missing-and-repeating2512/1\" target=\"_blank\" style=\"color: white; text-decoration: none;\">\n",
    "    3.9. Find the repeating and missing number\n",
    "   </a>\n",
    "</p>"
   ]
  },
  {
   "cell_type": "code",
   "execution_count": null,
   "metadata": {},
   "outputs": [],
   "source": []
  },
  {
   "cell_type": "markdown",
   "metadata": {},
   "source": [
    "<p style=\"display: inline-block; background-color:rgb(53, 53, 53); color: white; padding: 5px 10px; border-radius: 5px; font-size: 22px;\">\n",
    "    <a href=\"https://www.geeksforgeeks.org/problems/inversion-of-array-1587115620/1\" target=\"_blank\" style=\"color: white; text-decoration: none;\">\n",
    "    3.10. Count Inversions\n",
    "</p>"
   ]
  },
  {
   "cell_type": "code",
   "execution_count": null,
   "metadata": {},
   "outputs": [],
   "source": []
  },
  {
   "cell_type": "markdown",
   "metadata": {},
   "source": [
    "<p style=\"display: inline-block; background-color:rgb(53, 53, 53); color: white; padding: 5px 10px; border-radius: 5px; font-size: 22px;\">\n",
    "    <a href=\"https://leetcode.com/problems/reverse-pairs/description/\" target=\"_blank\" style=\"color: white; text-decoration: none;\">\n",
    "    3.11. Reverse Pairs\n",
    "   </a>\n",
    "</p>"
   ]
  },
  {
   "cell_type": "code",
   "execution_count": null,
   "metadata": {},
   "outputs": [],
   "source": [
    "class Solution:\n",
    "    def reversePairs(self, nums: List[int]) -> int:\n",
    "        return self.MergeSort(nums, 0, len(nums) - 1)\n",
    "\n",
    "    def MergeSort(self, arr, L, R):\n",
    "        if L >= R:\n",
    "            return 0\n",
    "        m = (L + R) // 2\n",
    "        count = self.MergeSort(arr, L, m) + self.MergeSort(arr, m + 1, R)\n",
    "        count += self.countPairs(arr, L, m, R)\n",
    "        self.Merge(arr, L, m, R)\n",
    "        return count\n",
    "\n",
    "    def countPairs(self, arr, low, mid, high):\n",
    "        count = 0\n",
    "        j = mid + 1\n",
    "        for i in range(low, mid + 1):\n",
    "            while j <= high and arr[i] > 2 * arr[j]:\n",
    "                j += 1\n",
    "            count += (j - (mid + 1))\n",
    "        return count\n",
    "\n",
    "    def Merge(self, arr, low, mid, high):\n",
    "        temp = []\n",
    "        l, r = low, mid + 1\n",
    "\n",
    "        while l <= mid and r <= high:\n",
    "            if arr[l] <= arr[r]:\n",
    "                temp.append(arr[l])\n",
    "                l += 1\n",
    "            else:\n",
    "                temp.append(arr[r])\n",
    "                r += 1\n",
    "\n",
    "        while l <= mid:\n",
    "            temp.append(arr[l])\n",
    "            l += 1\n",
    "\n",
    "        while r <= high:\n",
    "            temp.append(arr[r])\n",
    "            r += 1\n",
    "\n",
    "        for i in range(len(temp)):\n",
    "            arr[low + i] = temp[i]\n"
   ]
  },
  {
   "cell_type": "markdown",
   "metadata": {},
   "source": [
    "<p style=\"display: inline-block; background-color:rgb(53, 53, 53); color: white; padding: 5px 10px; border-radius: 5px; font-size: 22px;\">\n",
    "    <a href=\"https://leetcode.com/problems/maximum-product-subarray/description/\" target=\"_blank\" style=\"color: white; text-decoration: none;\">\n",
    "    3.12. Maximum Product Subarray\n",
    "   </a>\n",
    "</p>"
   ]
  },
  {
   "cell_type": "code",
   "execution_count": null,
   "metadata": {},
   "outputs": [],
   "source": [
    "class Solution:\n",
    "    def maxProduct(self, nums: List[int]) -> int:\n",
    "        max_list=[nums[0]]\n",
    "        min_list=[nums[0]]\n",
    "        for i in range(1,len(nums)):\n",
    "            n=nums[i]\n",
    "            max_sum=n*max_list[i-1]\n",
    "            min_sum=n*min_list[i-1]\n",
    "            max_list.append(max(n,max_sum,min_sum))\n",
    "            min_list.append(min(n,max_sum,min_sum))\n",
    "        return max(max_list)\n",
    "            "
   ]
  },
  {
   "cell_type": "code",
   "execution_count": null,
   "metadata": {},
   "outputs": [],
   "source": [
    "class Solution:\n",
    "    def maxProduct(self, nums: List[int]) -> int:\n",
    "        max_prod = min_prod = result = nums[0]\n",
    "\n",
    "        for n in nums[1:]:\n",
    "            temp = max(n, n * max_prod, n * min_prod)   # update max first\n",
    "            min_prod = min(n, n * max_prod, n * min_prod)\n",
    "            max_prod = temp\n",
    "            result = max(result, max_prod)\n",
    "\n",
    "        return result\n"
   ]
  }
 ],
 "metadata": {
  "kernelspec": {
   "display_name": "Python 3",
   "language": "python",
   "name": "python3"
  },
  "language_info": {
   "codemirror_mode": {
    "name": "ipython",
    "version": 3
   },
   "file_extension": ".py",
   "mimetype": "text/x-python",
   "name": "python",
   "nbconvert_exporter": "python",
   "pygments_lexer": "ipython3",
   "version": "3.12.1"
  }
 },
 "nbformat": 4,
 "nbformat_minor": 2
}

{
 "cells": [
  {
   "cell_type": "markdown",
   "metadata": {},
   "source": [
    "### `1`.Selction sort "
   ]
  },
  {
   "cell_type": "code",
   "execution_count": 2,
   "metadata": {},
   "outputs": [
    {
     "name": "stdout",
     "output_type": "stream",
     "text": [
      "1 3 4 7 9\n"
     ]
    }
   ],
   "source": [
    "class Solution: \n",
    "    def selectionSort(self, arr,n):\n",
    "        for i in range(0,n-1):\n",
    "            min_at_Index = i\n",
    "            for j in range(i+1, n):\n",
    "                if arr[min_at_Index] > arr[j]:\n",
    "                    min_at_Index = j\n",
    "            \n",
    "            arr[i], arr[min_at_Index] = arr[min_at_Index], arr[i]\n",
    "        \n",
    "        return \" \".join(map(str, arr)) \n",
    "\n",
    "arr = [4, 1, 3, 9, 7]\n",
    "selection_sort = Solution() \n",
    "sorted_output = selection_sort.selectionSort(arr,len(arr))  \n",
    "print(sorted_output)  "
   ]
  },
  {
   "cell_type": "markdown",
   "metadata": {},
   "source": [
    "### `2`.Bubble Sort"
   ]
  },
  {
   "cell_type": "code",
   "execution_count": 19,
   "metadata": {},
   "outputs": [
    {
     "name": "stdout",
     "output_type": "stream",
     "text": [
      "1 3 4 7 9\n"
     ]
    }
   ],
   "source": [
    "class Solution:\n",
    "    def bubbleSort(self, arr):\n",
    "        n = len(arr)\n",
    "        for i in range(n-1, -1, -1):\n",
    "            for j in range(0, i):\n",
    "                if arr[j] > arr[j+1]:\n",
    "                    arr[j], arr[j+1] = arr[j+1], arr[j]\n",
    "\n",
    "        return \" \".join(map(str, arr))\n",
    "\n",
    "\n",
    "arr = [4,1,3,2]\n",
    "bubble_sort = Solution()\n",
    "sorted_output = bubble_sort.bubbleSort(arr)\n",
    "print(sorted_output)\n",
    "\n"
   ]
  },
  {
   "cell_type": "markdown",
   "metadata": {},
   "source": [
    "### `3`.Insertion Sort"
   ]
  },
  {
   "cell_type": "code",
   "execution_count": null,
   "metadata": {},
   "outputs": [
    {
     "name": "stdout",
     "output_type": "stream",
     "text": [
      "1 3 4 7 9\n"
     ]
    }
   ],
   "source": [
    "class solution:\n",
    "    def insertionSort(self,arr):\n",
    "        n = len(arr)\n",
    "        for i in range(0,n):\n",
    "            j=i\n",
    "            while j>0 and arr[j-1]>arr[j] :\n",
    "                    arr[j],arr[j-1]=arr[j-1],arr[j]\n",
    "                    j=j-1\n",
    "\n",
    "        return \" \".join(map(str, arr))\n",
    "        \n",
    "arr = [4, 1, 3, 9, 7]\n",
    "insertion_sort = solution() \n",
    "sorted_output = insertion_sort.insertionSort(arr)  \n",
    "print(sorted_output) "
   ]
  },
  {
   "cell_type": "code",
   "execution_count": 10,
   "metadata": {},
   "outputs": [
    {
     "name": "stdout",
     "output_type": "stream",
     "text": [
      "4 7 9\n"
     ]
    }
   ],
   "source": [
    "class solution:\n",
    "    def insertionSort(self,arr):\n",
    "        n = len(arr)\n",
    "        for i in range(0,n):\n",
    "            for j in range(0,i+1):\n",
    "                if j>0 and arr[j-1]>arr[j] :\n",
    "                    arr[j],arr[j-1]=arr[j-1],arr[j]\n",
    "\n",
    "        return \" \".join(map(str, arr))\n",
    "        \n",
    "arr = [4,  9, 7]\n",
    "insertion_sort = solution() \n",
    "sorted_output = insertion_sort.insertionSort(arr)  \n",
    "print(sorted_output) "
   ]
  },
  {
   "cell_type": "markdown",
   "metadata": {},
   "source": [
    "### `4`.Merge Sort"
   ]
  },
  {
   "cell_type": "markdown",
   "metadata": {},
   "source": [
    "#### 1st approach( using list that is dynamic array )"
   ]
  },
  {
   "cell_type": "code",
   "execution_count": null,
   "metadata": {},
   "outputs": [
    {
     "name": "stdout",
     "output_type": "stream",
     "text": [
      "Sorted array: [1, 3, 4, 7, 9]\n"
     ]
    }
   ],
   "source": [
    "class Solution:\n",
    "    def MergeSort(self, arr, L, R):\n",
    "        if L < R:\n",
    "            m = (L + R) // 2\n",
    "            self.MergeSort(arr, L, m)\n",
    "            self.MergeSort(arr, m + 1, R)\n",
    "            self.Merge(arr, L, m, R)\n",
    "\n",
    "    def Merge(self, arr, low, mid, high):\n",
    "        temp = []\n",
    "        l = low\n",
    "        r = mid + 1\n",
    "\n",
    "        # Merge two sorted subarrays\n",
    "        while l <= mid and r <= high:\n",
    "            if arr[l] < arr[r]:\n",
    "                temp.append(arr[l])\n",
    "                l += 1\n",
    "            else:\n",
    "                temp.append(arr[r])\n",
    "                r += \n",
    "\n",
    "        # Copy remaining elements from left subarray\n",
    "        while l <= mid:\n",
    "            temp.append(arr[l])\n",
    "            l += 1\n",
    "\n",
    "        # Copy remaining elements from right subarray\n",
    "        while r <= high:\n",
    "            temp.append(arr[r])\n",
    "            r += 1\n",
    "\n",
    "        # Copy sorted values back to the original array\n",
    "        for i in range(len(temp)):\n",
    "            arr[low + i] = temp[i]  \n",
    "\n",
    "# Example usage\n",
    "arr = [4, 1, 3, 9, 7]\n",
    "m_sort = Solution()\n",
    "m_sort.MergeSort(arr, 0, len(arr) - 1)  # Sorting in-place\n",
    "print(\"Sorted array:\", arr)  # Output: [1, 3, 4, 7, 9]\n"
   ]
  },
  {
   "cell_type": "markdown",
   "metadata": {},
   "source": [
    "#### 2nd approach(static array)"
   ]
  },
  {
   "cell_type": "code",
   "execution_count": 3,
   "metadata": {},
   "outputs": [
    {
     "name": "stdout",
     "output_type": "stream",
     "text": [
      "Sorted array: [1, 3, 4, 7, 9]\n"
     ]
    }
   ],
   "source": [
    "class solution:\n",
    "    def MergeSort(self,arr,L,R):\n",
    "        if L<R:\n",
    "            m=(L+R)//2\n",
    "            self.MergeSort(arr,L,m)\n",
    "            self.MergeSort(arr,m+1,R)\n",
    "\n",
    "            self.Merge(arr,L,m,R)\n",
    "        \n",
    "        return arr\n",
    "# Merging with temporary arrays (L and R) for left and right subarrays\n",
    "    def Merge(self, arr, l, m, r):\n",
    "        n1 = m - l + 1  # Size of the left subarray\n",
    "        n2 = r - m  # Size of the right subarray\n",
    "        \n",
    "        # Create temporary arrays to hold the values\n",
    "        L = arr[l:l + n1]  # Left subarray\n",
    "        R = arr[m + 1:m + 1 + n2]  # Right subarray\n",
    "        \n",
    "        i = j = k = 0\n",
    "        \n",
    "        # Merge the temporary arrays back into the original array\n",
    "        while i < n1 and j < n2:\n",
    "            if L[i] <= R[j]:\n",
    "                arr[k + l] = L[i]  # Place the smaller element in the original array\n",
    "                i += 1\n",
    "            else:\n",
    "                arr[k + l] = R[j]  # Place the smaller element in the original array\n",
    "                j += 1\n",
    "            k += 1\n",
    "        \n",
    "        # Copy any remaining elements from the left subarray\n",
    "        while i < n1:\n",
    "            arr[k + l] = L[i]\n",
    "            i += 1\n",
    "            k += 1\n",
    "        \n",
    "        # Copy any remaining elements from the right subarray\n",
    "        while j < n2:\n",
    "            arr[k + l] = R[j]\n",
    "            j += 1\n",
    "            k += 1\n",
    "\n",
    "arr = [4, 1, 3, 9, 7]\n",
    "m_sort = solution() \n",
    "sorted_output = m_sort.MergeSort(arr,0,len(arr)-1) \n",
    "print(\"Sorted array:\", arr)"
   ]
  },
  {
   "cell_type": "markdown",
   "metadata": {},
   "source": [
    "### `5`.Quick Sort"
   ]
  },
  {
   "cell_type": "code",
   "execution_count": 2,
   "metadata": {},
   "outputs": [
    {
     "name": "stdout",
     "output_type": "stream",
     "text": [
      "Sorted array: [1, 1, 2, 3, 3, 4, 4, 7, 9]\n"
     ]
    }
   ],
   "source": [
    "\n",
    "class solution:\n",
    "    def QuickSort(self,arr,L,R):\n",
    "        if L<R:\n",
    "\n",
    "            partition=self.partition(arr,L,R)\n",
    "            self.QuickSort(arr,L,partition-1)\n",
    "            self.QuickSort(arr,partition+1,R)\n",
    "\n",
    "        return arr\n",
    "\n",
    "    def partition(self, arr, low, high):\n",
    "        pivot=arr[low]\n",
    "        i=low\n",
    "        j=high\n",
    "        while i<j:\n",
    "            while arr[i]<=pivot and i<=high-1:\n",
    "                i=i+1\n",
    "            while arr[j]>pivot and i>=low+1:\n",
    "                j=j-1\n",
    "            if i<j:\n",
    "                arr[i], arr[j] = arr[j], arr[i]\n",
    "\n",
    "        arr[low],arr[j]=arr[j],arr[low]\n",
    "        return j\n",
    "\n",
    "\n",
    "arr = [4, 1, 3, 9, 7,4,1,3,2]\n",
    "q_sort = solution() \n",
    "sorted_output = q_sort.QuickSort(arr,0,len(arr)-1) \n",
    "print(\"Sorted array:\", arr)"
   ]
  }
 ],
 "metadata": {
  "kernelspec": {
   "display_name": "Python 3",
   "language": "python",
   "name": "python3"
  },
  "language_info": {
   "codemirror_mode": {
    "name": "ipython",
    "version": 3
   },
   "file_extension": ".py",
   "mimetype": "text/x-python",
   "name": "python",
   "nbconvert_exporter": "python",
   "pygments_lexer": "ipython3",
   "version": "3.12.10"
  }
 },
 "nbformat": 4,
 "nbformat_minor": 2
}

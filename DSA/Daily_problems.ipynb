{
 "cells": [
  {
   "cell_type": "markdown",
   "id": "bd26577e",
   "metadata": {},
   "source": [
    "<p style=\"display: inline-block; background-color:rgb(53, 53, 53); color: white; padding: 5px 10px; border-radius: 5px; font-size: 22px;\">\n",
    "    <a href=\"https://leetcode.com/problems/fruit-into-baskets/?envType=daily-question&envId=2025-08-04\" target=\"_blank\" style=\"color: white; text-decoration: none;\">\n",
    "    1. Fruit Into Baskets\n",
    "   </a>\n",
    "</p>\n"
   ]
  },
  {
   "cell_type": "markdown",
   "id": "00334840",
   "metadata": {},
   "source": [
    "`Brute Force approach`"
   ]
  },
  {
   "cell_type": "code",
   "execution_count": null,
   "id": "f4bef730",
   "metadata": {},
   "outputs": [],
   "source": [
    "from typing import List\n",
    "\n",
    "class Solution:\n",
    "    def totalFruit(self, fruits: List[int]) -> int:\n",
    "        n = len(fruits)\n",
    "        max_fruits = 0\n",
    "\n",
    "        for i in range(n):\n",
    "            basket = []\n",
    "            count = 0\n",
    "            for j in range(i, n):\n",
    "                fruit = fruits[j]\n",
    "\n",
    "                if fruit in basket:\n",
    "                    count += 1\n",
    "                elif fruit not in basket and len(basket)<2:\n",
    "                    basket.append(fruit)\n",
    "                    count=count+1\n",
    "                else:\n",
    "                    break\n",
    "\n",
    "            max_fruits = max(max_fruits, count)\n",
    "\n",
    "        return max_fruits"
   ]
  },
  {
   "cell_type": "markdown",
   "id": "709347e0",
   "metadata": {},
   "source": [
    "`Optimal approach`"
   ]
  },
  {
   "cell_type": "code",
   "execution_count": null,
   "id": "d049add4",
   "metadata": {},
   "outputs": [],
   "source": [
    "from typing import List\n",
    "\n",
    "class Solution:\n",
    "    def totalFruit(self, fruits: List[int]) -> int:\n",
    "        from collections import defaultdict\n",
    "\n",
    "        fruit_count = defaultdict(int)\n",
    "        start = 0\n",
    "        max_fruits = 0\n",
    "\n",
    "        for end in range(len(fruits)):\n",
    "            fruit_count[fruits[end]] = fruit_count[fruits[end]] + 1  # add current fruit\n",
    "\n",
    "            # If more than 2 types, remove from start\n",
    "            while len(fruit_count) > 2:\n",
    "                fruit_count[fruits[start]] -= 1\n",
    "                if fruit_count[fruits[start]] == 0:\n",
    "                    del fruit_count[fruits[start]]\n",
    "                start += 1  # shrink from the start\n",
    "\n",
    "            # Update maximum fruits picked\n",
    "            max_fruits = max(max_fruits, end - start + 1)\n",
    "\n",
    "        return max_fruits\n",
    "\n",
    "\n"
   ]
  },
  {
   "cell_type": "markdown",
   "id": "19c3e795",
   "metadata": {},
   "source": [
    "<p style=\"display: inline-block; background-color:rgb(53, 53, 53); color: white; padding: 5px 10px; border-radius: 5px; font-size: 22px;\">\n",
    "    <a href=\"https://leetcode.com/problems/fruits-into-baskets-ii/description/?envType=daily-question&envId=2025-08-05\" target=\"_blank\" style=\"color: white; text-decoration: none;\">\n",
    "    2. Fruit Into Baskets II\n",
    "   </a>\n",
    "</p>\n"
   ]
  },
  {
   "cell_type": "code",
   "execution_count": null,
   "id": "6ac0202a",
   "metadata": {},
   "outputs": [],
   "source": [
    "class Solution:\n",
    "    def numOfUnplacedFruits(self, fruits: List[int], baskets: List[int]) -> int:\n",
    "        post={}\n",
    "        unplaced=0\n",
    "        for fruit in fruits:\n",
    "            placed=False\n",
    "            for j in range(len(baskets)):\n",
    "                if fruit<=baskets[j] and j not in post:\n",
    "                    post[j]=fruit\n",
    "                    placed=True\n",
    "                    break\n",
    "            if placed==False:\n",
    "                unplaced=unplaced+1\n",
    "        return unplaced\n"
   ]
  },
  {
   "cell_type": "markdown",
   "id": "77b4efbf",
   "metadata": {},
   "source": [
    "<p style=\"display: inline-block; background-color:rgb(53, 53, 53); color: white; padding: 5px 10px; border-radius: 5px; font-size: 22px;\">\n",
    "    <a href=\"https://leetcode.com/problems/fruits-into-baskets-iii/description/?envType=daily-question&envId=2025-08-06\" target=\"_blank\" style=\"color: white; text-decoration: none;\">\n",
    "    3. Fruit Into Baskets III\n",
    "   </a>\n",
    "</p>\n"
   ]
  },
  {
   "cell_type": "code",
   "execution_count": null,
   "id": "0af885ba",
   "metadata": {},
   "outputs": [],
   "source": []
  },
  {
   "cell_type": "markdown",
   "id": "82ce7a75",
   "metadata": {},
   "source": [
    "<p style=\"display: inline-block; background-color:rgb(53, 53, 53); color: white; padding: 5px 10px; border-radius: 5px; font-size: 22px;\">\n",
    "    <a href=\"https://leetcode.com/problems/number-of-zero-filled-subarrays/?envType=daily-question&envId=2025-08-19\" target=\"_blank\" style=\"color: white; text-decoration: none;\">\n",
    "    2348. Number of Zero-Filled Subarrays\n",
    "   </a>\n",
    "</p>\n"
   ]
  },
  {
   "cell_type": "code",
   "execution_count": null,
   "id": "7bfd65bc",
   "metadata": {},
   "outputs": [],
   "source": [
    "class Solution:\n",
    "    def zeroFilledSubarray(self, nums: List[int]) -> int:\n",
    "        n=len(nums)\n",
    "        count=0\n",
    "        for i in range(0,n):\n",
    "            if nums[i]!=0:\n",
    "                continue\n",
    "            for j in range(i+1,n):\n",
    "                if nums[j]==0:\n",
    "                    count=count+1\n",
    "                else:\n",
    "                    break\n",
    "        return count"
   ]
  },
  {
   "cell_type": "code",
   "execution_count": null,
   "id": "1c28ba9b",
   "metadata": {},
   "outputs": [],
   "source": [
    "class Solution:\n",
    "    def zeroFilledSubarray(self, nums: List[int]) -> int:\n",
    "        n=len(nums)\n",
    "        count=0\n",
    "        i=0\n",
    "        while i<n:\n",
    "            if nums[i]!=0:\n",
    "                i+=1\n",
    "                continue\n",
    "            j=i\n",
    "            while j<n and nums[j]==0:\n",
    "                j+=1\n",
    "            lenngth=j-i\n",
    "            count=count+((lenngth*(lenngth+1)//2))\n",
    "            i=j\n",
    "        return count"
   ]
  }
 ],
 "metadata": {
  "language_info": {
   "name": "python"
  }
 },
 "nbformat": 4,
 "nbformat_minor": 5
}

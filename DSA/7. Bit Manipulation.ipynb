{
 "cells": [
  {
   "cell_type": "markdown",
   "id": "e54eccef",
   "metadata": {},
   "source": [
    "<p style=\"display: inline-block; background-color:rgb(53, 53, 53); color: white; padding: 5px 10px; border-radius: 5px; font-size: 22px;\">\n",
    "    <a href=\"\" target=\"_blank\" style=\"color: white; text-decoration: none;\">\n",
    "    Convert dec to bin \n",
    "   </a>\n",
    "</p>\n"
   ]
  },
  {
   "cell_type": "code",
   "execution_count": 1,
   "id": "85255039",
   "metadata": {},
   "outputs": [
    {
     "data": {
      "text/plain": [
       "'111110100'"
      ]
     },
     "execution_count": 1,
     "metadata": {},
     "output_type": "execute_result"
    }
   ],
   "source": [
    "def dec_to_bin(n):\n",
    "    result=''\n",
    "    while(n>0):\n",
    "        if (n%2==1):\n",
    "           result=result+'1' \n",
    "        else:\n",
    "            result=result+'0'\n",
    "        n=n//2\n",
    "    return result[::-1]\n",
    "ans=dec_to_bin(500)\n",
    "ans\n",
    "# TC= O(log_2 n) (dividing constantly by 2)\n",
    "# SC = O(log_2 n) (jitna bar divide hoga utna hi space lega isiliye)          \n"
   ]
  },
  {
   "cell_type": "markdown",
   "id": "3b6ec48c",
   "metadata": {},
   "source": [
    "<p style=\"display: inline-block; background-color:rgb(53, 53, 53); color: white; padding: 5px 10px; border-radius: 5px; font-size: 22px;\">\n",
    "    <a href=\"\" target=\"_blank\" style=\"color: white; text-decoration: none;\">\n",
    "    BIN to DEC\n",
    "   </a>\n",
    "</p>\n"
   ]
  },
  {
   "cell_type": "markdown",
   "id": "9c066bde",
   "metadata": {},
   "source": [
    "`Brute 4orce approach`"
   ]
  },
  {
   "cell_type": "code",
   "execution_count": null,
   "id": "8fe84b6d",
   "metadata": {},
   "outputs": [
    {
     "name": "stdout",
     "output_type": "stream",
     "text": [
      "13\n"
     ]
    }
   ],
   "source": [
    "def Bin_to_dec(s:str)->int:\n",
    "    n=len(s)\n",
    "    result=0\n",
    "    j=0\n",
    "    for i in range(n-1,-1,-1):\n",
    "        result+=int(s[j])*(2**i)\n",
    "        j=j+1\n",
    "    return result\n",
    "print(Bin_to_dec('1101'))\n",
    "# TC -> O(n)^2 in worst case\n",
    "# SC -> O(1)"
   ]
  },
  {
   "cell_type": "markdown",
   "id": "912e8067",
   "metadata": {},
   "source": [
    "`more optimizes`"
   ]
  },
  {
   "cell_type": "code",
   "execution_count": 35,
   "id": "86c89ca7",
   "metadata": {},
   "outputs": [
    {
     "name": "stdout",
     "output_type": "stream",
     "text": [
      "13\n"
     ]
    }
   ],
   "source": [
    "def Bin_to_dec(s: str) -> int:\n",
    "    result = 0\n",
    "    for bit in s:\n",
    "        result = result * 2 + int(bit)\n",
    "    return result\n",
    "print(Bin_to_dec('1101'))\n",
    "# TC -> O(n)^2 in worst case \n",
    "# SC -> O(1)"
   ]
  },
  {
   "cell_type": "markdown",
   "id": "f95133ca",
   "metadata": {},
   "source": [
    "<p style=\"display: inline-block; background-color:rgb(53, 53, 53); color: white; padding: 5px 10px; border-radius: 5px; font-size: 22px;\">\n",
    "    <a href=\"https://www.geeksforgeeks.org/problems/swap-two-numbers3844/1\" target=\"_blank\" style=\"color: white; text-decoration: none;\">\n",
    "    1. Swap 2 numbers \n",
    "   </a>\n",
    "</p>\n"
   ]
  },
  {
   "cell_type": "code",
   "execution_count": null,
   "id": "55ac21df",
   "metadata": {},
   "outputs": [],
   "source": [
    "class Solution:\n",
    "    def get(self, a: int, b: int) -> tuple[int, int]:\n",
    "        a=a^b\n",
    "        b=a^b\n",
    "        a=a^b\n",
    "        return (a,b)\n",
    "        "
   ]
  },
  {
   "cell_type": "markdown",
   "id": "dd0fa1ef",
   "metadata": {},
   "source": [
    "<p style=\"display: inline-block; background-color:rgb(53, 53, 53); color: white; padding: 5px 10px; border-radius: 5px; font-size: 22px;\">\n",
    "    <a href=\"https://www.geeksforgeeks.org/problems/check-whether-k-th-bit-is-set-or-not-1587115620/1\" target=\"_blank\" style=\"color: white; text-decoration: none;\">\n",
    "    2. Check if the i-th bit is set or not\n",
    "   </a>\n",
    "</p>\n"
   ]
  },
  {
   "cell_type": "markdown",
   "id": "dbc1d1da",
   "metadata": {},
   "source": [
    "`Brute force approach`"
   ]
  },
  {
   "cell_type": "code",
   "execution_count": null,
   "id": "44187116",
   "metadata": {},
   "outputs": [],
   "source": [
    "class Solution:\n",
    "    def checkKthBit(self, n, k):\n",
    "        result = ''\n",
    "        while n > 0:\n",
    "                #if (n%2==1):\n",
    "                #    result=result+'1' \n",
    "                #else:\n",
    "                #    result=result+'0'\n",
    "            result += '1' if n % 2 == 1 else '0'\n",
    "            n = n // 2\n",
    "        result = result[::-1]\n",
    "        length = len(result)\n",
    "        if k >= length:\n",
    "            return 0\n",
    "        return 1 if result[length - k - 1] == '1' else 0\n"
   ]
  },
  {
   "cell_type": "markdown",
   "id": "427bd980",
   "metadata": {},
   "source": [
    "`optimal using shi4t`"
   ]
  },
  {
   "cell_type": "code",
   "execution_count": null,
   "id": "1fc5965f",
   "metadata": {},
   "outputs": [],
   "source": [
    "class Solution:\n",
    "    def checkKthBit(self, n, k):\n",
    "        if (n & (1 << k))!=0:\n",
    "            return 1\n",
    "        else:\n",
    "            return 0"
   ]
  },
  {
   "cell_type": "markdown",
   "id": "91eacd2c",
   "metadata": {},
   "source": [
    " <p style=\"display: inline-block; background-color:rgb(53, 53, 53); color: white; padding: 5px 10px; border-radius: 5px; font-size: 22px;\">\n",
    "    <a href=\"https://www.geeksforgeeks.org/problems/set-the-rightmost-unset-bit4436/1\" target=\"_blank\" style=\"color: white; text-decoration: none;\">\n",
    "    3. Set the rightmost unset bit\n",
    "   </a>\n",
    "</p>\n"
   ]
  },
  {
   "cell_type": "code",
   "execution_count": null,
   "id": "e6043db4",
   "metadata": {},
   "outputs": [],
   "source": [
    "class Solution:\n",
    "\tdef setBit(self, n):\n",
    "\t\treturn n|n+1"
   ]
  },
  {
   "cell_type": "markdown",
   "id": "fc025f4b",
   "metadata": {},
   "source": [
    "<p style=\"display: inline-block; background-color:rgb(53, 53, 53); color: white; padding: 5px 10px; border-radius: 5px; font-size: 22px;\">\n",
    "    <a href=\"https://www.geeksforgeeks.org/problems/odd-or-even3618/1\" target=\"_blank\" style=\"color: white; text-decoration: none;\">\n",
    "    4. Check if a number is odd or not\n",
    "   </a>\n",
    "</p>\n"
   ]
  },
  {
   "cell_type": "code",
   "execution_count": null,
   "id": "427901ce",
   "metadata": {},
   "outputs": [],
   "source": [
    "class Solution:\n",
    "    def isEven (self, n):\n",
    "        return 0 if (n^(n-1)==1) else 1"
   ]
  },
  {
   "cell_type": "markdown",
   "id": "81a122f8",
   "metadata": {},
   "source": [
    "<p style=\"display: inline-block; background-color:rgb(53, 53, 53); color: white; padding: 5px 10px; border-radius: 5px; font-size: 22px;\">\n",
    "    <a href=\"https://www.geeksforgeeks.org/problems/count-total-set-bits-1587115620/1\" target=\"_blank\" style=\"color: white; text-decoration: none;\">\n",
    "    5. Count the number of set bits\n",
    "   </a>\n",
    "</p>\n"
   ]
  },
  {
   "cell_type": "code",
   "execution_count": null,
   "id": "0c26bca6",
   "metadata": {},
   "outputs": [],
   "source": [
    "class Solution:\n",
    "    def countSetBits(self,n):\n",
    "        cnt=0\n",
    "        for i in range(1,n+1):\n",
    "            num=i\n",
    "            while(num>0):\n",
    "                if (i%2==1):\n",
    "                    cnt=cnt+1\n",
    "                num=num//2\n",
    "        return cnt"
   ]
  },
  {
   "cell_type": "code",
   "execution_count": null,
   "id": "f5414a71",
   "metadata": {},
   "outputs": [],
   "source": [
    "class Solution:\n",
    "    def countSetBits(self,n):\n",
    "        cnt=0\n",
    "        for i in range(1,n+1):\n",
    "            num=i\n",
    "            while(num!=0):\n",
    "                num=num&(num-1)\n",
    "                cnt=cnt+1\n",
    "        return cnt "
   ]
  },
  {
   "cell_type": "code",
   "execution_count": null,
   "id": "ff221084",
   "metadata": {},
   "outputs": [],
   "source": [
    "class Solution:\n",
    "    def countSetBits(self,n):\n",
    "        cnt=0\n",
    "        for i in range(1,n+1):\n",
    "            while(num>0):\n",
    "                cnt+=num&1\n",
    "                num=num>>1\n",
    "        return cnt"
   ]
  },
  {
   "cell_type": "markdown",
   "id": "1220b54b",
   "metadata": {},
   "source": [
    "<p style=\"display: inline-block; background-color:rgb(53, 53, 53); color: white; padding: 5px 10px; border-radius: 5px; font-size: 22px;\">\n",
    "    <a href=\"https://leetcode.com/problems/divide-two-integers/description/\" target=\"_blank\" style=\"color: white; text-decoration: none;\">\n",
    "    6. Divide two integers without using multiplication, division and mod operator\n",
    "   </a>\n",
    "</p>\n"
   ]
  },
  {
   "cell_type": "code",
   "execution_count": null,
   "id": "a23d8b36",
   "metadata": {},
   "outputs": [],
   "source": [
    "class Solution(object):\n",
    "    def divide(self, dividend, divisor):\n",
    "        INT_MAX = 2**31 - 1      #  2147483647\n",
    "        INT_MIN = -2**31         # -2147483648\n",
    "        \n",
    "        if (dividend == divisor): return 1\n",
    "\n",
    "        sign = True \n",
    "        if (dividend >= 0 and divisor < 0): sign = False\n",
    "        if (dividend < 0 and divisor >= 0): sign = False\n",
    "\n",
    "        n = abs(dividend)\n",
    "        d = abs(divisor)\n",
    "        ans = 0\n",
    "\n",
    "        while (n >= d):\n",
    "            counter = 0\n",
    "            while (n >= (d * (2**(counter + 1)))):\n",
    "                counter = counter + 1\n",
    "            ans = ans + (2 ** counter)\n",
    "            n = n - (d * (2 ** counter))\n",
    "\n",
    "        if (ans >= 2**31 and sign == True):\n",
    "            return INT_MAX\n",
    "        if (ans >= 2**31 and sign == False):\n",
    "            return INT_MIN\n",
    "\n",
    "        return ans if sign == True else -ans\n"
   ]
  },
  {
   "cell_type": "code",
   "execution_count": null,
   "id": "9d597e62",
   "metadata": {},
   "outputs": [],
   "source": [
    "class Solution(object):\n",
    "    def divide(self, dividend, divisor):\n",
    "        INT_MAX = 2**31 - 1      #  2147483647\n",
    "        INT_MIN = -2**31         # -2147483648\n",
    "        \n",
    "        if (dividend == divisor): return 1\n",
    "\n",
    "        sign = True \n",
    "        if (dividend >= 0 and divisor < 0): sign = False\n",
    "        if (dividend < 0 and divisor >= 0): sign = False\n",
    "\n",
    "        n = abs(dividend)\n",
    "        d = abs(divisor)\n",
    "        ans = 0\n",
    "\n",
    "        while (n >= d):\n",
    "            counter = 0\n",
    "            while (n >= (d<<(counter+1))):\n",
    "                counter = counter + 1\n",
    "            ans = ans + (1<<counter)\n",
    "            n = n - (d<<counter)\n",
    "\n",
    "        if (ans >= 1<<31 and sign == True):\n",
    "            return INT_MAX\n",
    "        if (ans >= 1<<31 and sign == False):\n",
    "            return INT_MIN\n",
    "\n",
    "        return ans if sign == True else -ans\n"
   ]
  },
  {
   "cell_type": "markdown",
   "id": "60441ee6",
   "metadata": {},
   "source": [
    "<p style=\"display: inline-block; background-color:rgb(53, 53, 53); color: white; padding: 5px 10px; border-radius: 5px; font-size: 22px;\">\n",
    "    <a href=\"https://leetcode.com/problems/minimum-bit-flips-to-convert-number/\" target=\"_blank\" style=\"color: white; text-decoration: none;\">\n",
    "    7. Minimum Bit Flips to Convert Number\n",
    "   </a>\n",
    "</p>\n"
   ]
  },
  {
   "cell_type": "code",
   "execution_count": null,
   "id": "33843d13",
   "metadata": {},
   "outputs": [],
   "source": [
    "class Solution(object):\n",
    "    def minBitFlips(self, start, goal):\n",
    "        if start == goal: return 0\n",
    "        ans=start ^ goal\n",
    "        counter=0\n",
    "        while ans>0:\n",
    "            if ans&1:\n",
    "                counter=counter+1\n",
    "            ans=ans>>1  #ans=ans//2\n",
    "        return counter\n",
    "        "
   ]
  },
  {
   "cell_type": "markdown",
   "id": "90876db9",
   "metadata": {},
   "source": [
    "\n",
    "<p style=\"display: inline-block; background-color:rgb(53, 53, 53); color: white; padding: 5px 10px; border-radius: 5px; font-size: 22px;\">\n",
    "    <a href=\"https://leetcode.com/problems/single-number/description/\" target=\"_blank\" style=\"color: white; text-decoration: none;\">\n",
    "    8. Find the number that appears odd number of times\n",
    "   </a>\n",
    "</p>\n"
   ]
  },
  {
   "cell_type": "code",
   "execution_count": 3,
   "id": "bb7742a7",
   "metadata": {},
   "outputs": [],
   "source": [
    "from typing import List\n",
    "class Solution:\n",
    "    def singleNumber(self, nums: List[int]) -> int:\n",
    "        xor_sum=0\n",
    "        for i in nums:\n",
    "            xor_sum=xor_sum^i\n",
    "        return xor_sum"
   ]
  },
  {
   "cell_type": "markdown",
   "id": "c9b4a81a",
   "metadata": {},
   "source": [
    "\n",
    "\n",
    "<p style=\"display: inline-block; background-color:rgb(53, 53, 53); color: white; padding: 5px 10px; border-radius: 5px; font-size: 22px;\">\n",
    "    <a href=\"https://leetcode.com/problems/subsets/description/\" target=\"_blank\" style=\"color: white; text-decoration: none;\">\n",
    "    9. Power Set \n",
    "   </a>\n",
    "</p>\n"
   ]
  },
  {
   "cell_type": "code",
   "execution_count": null,
   "id": "4b379ea1",
   "metadata": {},
   "outputs": [],
   "source": [
    "class Solution:\n",
    "    def subsets(self, nums: List[int]) -> List[List[int]]:\n",
    "        n=len(nums)\n",
    "        res=[]\n",
    "        for i in range((1<<n)):\n",
    "            subset=[]\n",
    "            num=i\n",
    "            for j in range(n-1,-1,-1):\n",
    "                if num&1==1: #if (i >> j) & 1:\n",
    "                    subset.append(nums[j])\n",
    "                num=num>>1\n",
    "            res.append(list(subset))\n",
    "        return res\n",
    "        "
   ]
  },
  {
   "cell_type": "code",
   "execution_count": 2,
   "id": "e18141ed",
   "metadata": {},
   "outputs": [
    {
     "name": "stdout",
     "output_type": "stream",
     "text": [
      "2\n",
      "1\n",
      "0\n"
     ]
    }
   ],
   "source": [
    "n=3\n",
    "for j in range(n-1,-1,-1):\n",
    "    print(j)"
   ]
  },
  {
   "cell_type": "markdown",
   "id": "9b1cb4f9",
   "metadata": {},
   "source": [
    "<p style=\"display: inline-block; background-color:rgb(53, 53, 53); color: white; padding: 5px 10px; border-radius: 5px; font-size: 22px;\">\n",
    "    <a href=\"\" target=\"_blank\" style=\"color: white; text-decoration: none;\">\n",
    "    10. Find xor of numbers from L to R\n",
    "   </a>\n",
    "</p>\n"
   ]
  },
  {
   "cell_type": "code",
   "execution_count": 5,
   "id": "caa9e1be",
   "metadata": {},
   "outputs": [
    {
     "data": {
      "text/plain": [
       "8"
      ]
     },
     "execution_count": 5,
     "metadata": {},
     "output_type": "execute_result"
    }
   ],
   "source": [
    "class Solution:\n",
    "    def findXOR(self, l, r):\n",
    "        xor=0\n",
    "        for i in range(l,r+1):\n",
    "            xor=xor^i\n",
    "        return xor\n",
    "sol=Solution()\n",
    "ans=sol.findXOR(4,8)\n",
    "ans"
   ]
  },
  {
   "cell_type": "code",
   "execution_count": null,
   "id": "44df71f8",
   "metadata": {},
   "outputs": [],
   "source": [
    "class Solution:\n",
    "    def xorToN(self, n):\n",
    "        if n % 4 == 0:\n",
    "            return n\n",
    "        elif n % 4 == 1:\n",
    "            return 1\n",
    "        elif n % 4 == 2:\n",
    "            return n + 1\n",
    "        else:\n",
    "            return 0\n",
    "\n",
    "    def findXOR(self, l, r):\n",
    "        return self.xorToN(r) ^ self.xorToN(l - 1)"
   ]
  },
  {
   "cell_type": "markdown",
   "id": "7692a05a",
   "metadata": {},
   "source": [
    "<p style=\"display: inline-block; background-color:rgb(53, 53, 53); color: white; padding: 5px 10px; border-radius: 5px; font-size: 22px;\">\n",
    "    <a href=\"https://www.geeksforgeeks.org/problems/two-numbers-with-odd-occurrences5846/1\" target=\"_blank\" style=\"color: white; text-decoration: none;\">\n",
    "    11. Find the two numbers appearing odd number of times \n",
    "   </a>\n",
    "</p>\n"
   ]
  },
  {
   "cell_type": "code",
   "execution_count": null,
   "id": "c8c1e270",
   "metadata": {},
   "outputs": [],
   "source": []
  },
  {
   "cell_type": "markdown",
   "id": "06573700",
   "metadata": {},
   "source": [
    "<p style=\"display: inline-block; background-color:rgb(53, 53, 53); color: white; padding: 5px 10px; border-radius: 5px; font-size: 22px;\">\n",
    "    <a href=\"\" target=\"_blank\" style=\"color: white; text-decoration: none;\">\n",
    "    12. Print Prime Factors of a Number\n",
    "   </a>\n",
    "</p>\n"
   ]
  },
  {
   "cell_type": "code",
   "execution_count": null,
   "id": "1b3541cf",
   "metadata": {},
   "outputs": [],
   "source": [
    "class Solution:\n",
    "    def primeFac(self, n):\n",
    "        prime_factor=[]\n",
    "        if n%2==0:\n",
    "            prime_factor.append(2)\n",
    "            while n%2==0:\n",
    "                n=n//2\n",
    "        i=3\n",
    "        while i<=n:\n",
    "            if n%i==0:\n",
    "                prime_factor.append(i)\n",
    "            while n%i==0:\n",
    "                n=n//i\n",
    "            i=i+1\n",
    "        return prime_factor\n",
    "            "
   ]
  },
  {
   "cell_type": "markdown",
   "id": "c3cec6c2",
   "metadata": {},
   "source": [
    "`optimised using some observation`\n",
    "Let's Understand That with an Example:\n",
    "Say you want to factor n = 100.\n",
    "\n",
    "The factors of 100 are:\n",
    "\n",
    "Copy\n",
    "Edit\n",
    "1 × 100  \n",
    "2 × 50  \n",
    "4 × 25  \n",
    "5 × 20  \n",
    "10 × 10  \n",
    "Notice:\n",
    "\n",
    "The smaller number in each pair of factors stops at 10, which is √100.\n",
    "\n",
    "After that, you're just repeating the same pairs in reverse.\n",
    "\n",
    "So, we can safely say:\n",
    "\n",
    "➤ If i > √n, then n / i < √n\n",
    "That means any factor greater than √n has already been matched with a smaller one that we've already checked."
   ]
  },
  {
   "cell_type": "code",
   "execution_count": null,
   "id": "292322b8",
   "metadata": {},
   "outputs": [],
   "source": [
    "class Solution:\n",
    "    def primeFac(self, n):\n",
    "        prime_factor=[]\n",
    "        if n%2==0:\n",
    "            prime_factor.append(2)\n",
    "            while n%2==0:\n",
    "                n=n//2\n",
    "        i=3\n",
    "        while i*i<=n:\n",
    "            if n%i==0:\n",
    "                prime_factor.append(i)\n",
    "            while n%i==0:\n",
    "                n=n//i\n",
    "            i=i+1\n",
    "        if n>1:\n",
    "            prime_factor.append(n)\n",
    "        return prime_factor\n",
    "            "
   ]
  },
  {
   "cell_type": "markdown",
   "id": "9a43b2af",
   "metadata": {},
   "source": [
    "<p style=\"display: inline-block; background-color:rgb(53, 53, 53); color: white; padding: 5px 10px; border-radius: 5px; font-size: 22px;\">\n",
    "    <a href=\"https://www.geeksforgeeks.org/problems/all-divisors-of-a-number/1\" target=\"_blank\" style=\"color: white; text-decoration: none;\">\n",
    "    13. All Divisors of a Number \n",
    "   </a>\n",
    "</p>\n"
   ]
  },
  {
   "cell_type": "code",
   "execution_count": null,
   "id": "e21aa5a2",
   "metadata": {},
   "outputs": [],
   "source": [
    "# User function Template for python3\n",
    "\n",
    "class Solution:\n",
    "    def print_divisors(self, N):\n",
    "        divisors = set()\n",
    "\n",
    "        i = 1\n",
    "        while i * i <= N:\n",
    "            if N % i == 0:\n",
    "                divisors.add(i)\n",
    "                divisors.add(N // i)\n",
    "            i += 1\n",
    "\n",
    "        for d in sorted(divisors):\n",
    "            print(d, end=\" \")\n"
   ]
  },
  {
   "cell_type": "markdown",
   "id": "aedcb730",
   "metadata": {},
   "source": [
    "<p style=\"display: inline-block; background-color:rgb(53, 53, 53); color: white; padding: 5px 10px; border-radius: 5px; font-size: 22px;\">\n",
    "    <a href=\"https://leetcode.com/problems/count-primes/\" target=\"_blank\" style=\"color: white; text-decoration: none;\">\n",
    "    14. Sieve of Eratosthenes\n",
    "   </a>\n",
    "</p>\n"
   ]
  },
  {
   "cell_type": "markdown",
   "id": "a41df244",
   "metadata": {},
   "source": [
    "`Brute force approach`"
   ]
  },
  {
   "cell_type": "code",
   "execution_count": null,
   "id": "4eda5dca",
   "metadata": {},
   "outputs": [],
   "source": [
    "class Solution:\n",
    "    def countPrimes(self, n: int) -> int:\n",
    "        counter=0\n",
    "        for i in range(2,n):\n",
    "            if self.checkprime(i):\n",
    "                counter=counter+1\n",
    "        return counter\n",
    "    def checkprime(self,a:int)->bool:\n",
    "        for i in range(2,a):\n",
    "            if a % i==0:\n",
    "                return False\n",
    "        return True\n"
   ]
  },
  {
   "cell_type": "code",
   "execution_count": null,
   "id": "af0f6b33",
   "metadata": {},
   "outputs": [],
   "source": [
    "import math\n",
    "\n",
    "class Solution:\n",
    "    def countPrimes(self, n: int) -> int:\n",
    "        if n<=2:\n",
    "            return 0\n",
    "        if n==3:\n",
    "            return 1\n",
    "        counter = 0\n",
    "        for i in range(2, (n // 2)+1):\n",
    "            candidate = (2 * i) - 1\n",
    "            if self.checkprime(candidate):\n",
    "                counter += 1\n",
    "        return counter+1\n",
    "\n",
    "    def checkprime(self, a: int) -> bool:\n",
    "        for i in range(2, int(math.sqrt(a)) + 1):\n",
    "            if a % i == 0:\n",
    "                return False\n",
    "        return True\n"
   ]
  },
  {
   "cell_type": "markdown",
   "id": "02b9ac1e",
   "metadata": {},
   "source": [
    "`Optimal`"
   ]
  },
  {
   "cell_type": "code",
   "execution_count": 2,
   "id": "81752a68",
   "metadata": {},
   "outputs": [],
   "source": [
    "class Solution:\n",
    "    def countPrimes(self, n: int) -> int:\n",
    "        if n <= 2:\n",
    "            return 0\n",
    "        \n",
    "        # Step 1: Initialize a list to track primality\n",
    "        prime = [True] * n\n",
    "        prime[0] = prime[1] = False  # 0 and 1 are not primes\n",
    "\n",
    "        # Step 2: Sieve out the non-primes\n",
    "        p = 2\n",
    "        while p * p < n:\n",
    "            if prime[p]:\n",
    "                for i in range(p * p, n, p):\n",
    "                    prime[i] = False\n",
    "            p += 1\n",
    "\n",
    "        # Step 3: Count primes\n",
    "        return sum(prime)\n"
   ]
  },
  {
   "cell_type": "code",
   "execution_count": 1,
   "id": "863efc45",
   "metadata": {},
   "outputs": [],
   "source": [
    "class Solution:\n",
    "    def countPrimes(self, n: int) -> int:\n",
    "        if n <= 2:\n",
    "            return 0\n",
    "\n",
    "        is_prime = [True] * n\n",
    "        is_prime[0] = is_prime[1] = False  # 0 and 1 are not prime\n",
    "\n",
    "        for i in range(2, int(n ** 0.5) + 1):\n",
    "            if is_prime[i]:\n",
    "                for j in range(i * i, n, i):  # Start from i*i\n",
    "                    is_prime[j] = False\n",
    "\n",
    "        return sum(is_prime)\n"
   ]
  },
  {
   "cell_type": "markdown",
   "id": "d430f177",
   "metadata": {},
   "source": [
    "<p style=\"display: inline-block; background-color:rgb(53, 53, 53); color: white; padding: 5px 10px; border-radius: 5px; font-size: 22px;\">\n",
    "    <a href=\"\" target=\"_blank\" style=\"color: white; text-decoration: none;\">\n",
    "    16. Power(n, x)\n",
    "   </a>\n",
    "</p>\n"
   ]
  },
  {
   "cell_type": "code",
   "execution_count": null,
   "id": "28843a6e",
   "metadata": {},
   "outputs": [],
   "source": [
    "class Solution:\n",
    "    def myPow(self, x: float, n: int) -> float:\n",
    "        is_neg=False\n",
    "        ans=1\n",
    "        if n<0:\n",
    "            is_neg=True\n",
    "        n=abs(n)\n",
    "        while n>0:\n",
    "            if n%2==1:\n",
    "                ans=ans*x\n",
    "                n=n-1\n",
    "            else:\n",
    "                n=n/2\n",
    "                x=x*x\n",
    "        return 1 / ans if is_neg else ans\n",
    "        "
   ]
  }
 ],
 "metadata": {
  "kernelspec": {
   "display_name": "Python 3",
   "language": "python",
   "name": "python3"
  },
  "language_info": {
   "codemirror_mode": {
    "name": "ipython",
    "version": 3
   },
   "file_extension": ".py",
   "mimetype": "text/x-python",
   "name": "python",
   "nbconvert_exporter": "python",
   "pygments_lexer": "ipython3",
   "version": "3.12.10"
  }
 },
 "nbformat": 4,
 "nbformat_minor": 5
}

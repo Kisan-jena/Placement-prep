{
 "cells": [
  {
   "cell_type": "markdown",
   "metadata": {},
   "source": [
    "## 🔹 `BASICS OF RECUSRION`"
   ]
  },
  {
   "cell_type": "markdown",
   "metadata": {},
   "source": [
    "### **Parameterized vs. Functional Recursion (in Python)**\n",
    "\n",
    "Recursion can be broadly categorized into:\n",
    "\n",
    "- **Parameterized Recursion**\n",
    "- **Functional Recursion**\n",
    "\n",
    "---\n",
    "\n",
    "### **1️⃣ Parameterized Recursion**\n",
    "- Uses **extra parameters** to store intermediate results.\n",
    "- The function modifies these parameters with each recursive call.\n",
    "\n",
    "#### **Example: Sum of first `n` natural numbers**\n",
    "```python\n",
    "class Solution:\n",
    "    def sumOfSeries(self, n, sum=0):  # Extra parameter `sum`\n",
    "        if n == 0:\n",
    "            return sum  # Base case: return accumulated sum\n",
    "        return self.sumOfSeries(n - 1, sum + n)  # Pass updated sum\n",
    "\n",
    "# Example Usage\n",
    "sol = Solution()\n",
    "print(sol.sumOfSeries(3))  # Output: 6 (1 + 2 + 3)\n",
    "```\n",
    "\n",
    "🔹 **Why use this?**\n",
    "- Helps in **tail recursion optimization** (if the language supports it).\n",
    "- Avoids deep recursion by maintaining results along the way.\n",
    "\n",
    "---\n",
    "\n",
    "### **2️⃣ Functional Recursion**\n",
    "- **No extra parameters**, function directly returns computed values.\n",
    "- Uses **return values** to compute results.\n",
    "\n",
    "#### **Example: Factorial using functional recursion**\n",
    "```python\n",
    "class Solution:\n",
    "    def factorial(self, n):\n",
    "        if n <= 1:\n",
    "            return 1  # Base case\n",
    "        return n * self.factorial(n - 1)  # Return computed value\n",
    "\n",
    "# Example Usage\n",
    "sol = Solution()\n",
    "print(sol.factorial(5))  # Output: 120 (5! = 5×4×3×2×1)\n",
    "```\n",
    "\n",
    "🔹 **Why use this?**\n",
    "- Code is **simpler and cleaner**.\n",
    "- Follows a pure mathematical approach.\n",
    "\n",
    "---\n",
    "\n",
    "### **📌 Key Differences**\n",
    "| Feature            | Parameterized Recursion | Functional Recursion |\n",
    "|-------------------|--------------------|----------------|\n",
    "| **Extra parameter?** | ✅ Yes (carries intermediate results) | ❌ No (only returns computed values) |\n",
    "| **State Management** | Accumulates values in arguments | Uses return values to compute |\n",
    "| **Readability** | Less readable but optimized | More readable, but may use more stack space |\n",
    "| **Example** | Sum of numbers using extra parameter | Factorial using direct return |\n",
    "\n",
    "\n",
    "\n"
   ]
  },
  {
   "cell_type": "markdown",
   "metadata": {
    "vscode": {
     "languageId": "plaintext"
    }
   },
   "source": [
    "<p style=\"display: inline-block; background-color:rgb(53, 53, 53); color: white; padding: 5px 10px; border-radius: 5px; font-size: 22px;\">\n",
    "    <a href=\"https://www.geeksforgeeks.org/problems/print-1-to-n-without-using-loops-1587115620/1\" target=\"_blank\" style=\"color: white; text-decoration: none;\">\n",
    "    \t1. Print 1 To N Without Loop\n",
    "   </a>\n",
    "</p>\n",
    "\n"
   ]
  },
  {
   "cell_type": "code",
   "execution_count": null,
   "metadata": {},
   "outputs": [],
   "source": [
    "class Solution:    \n",
    "    #Complete this function\n",
    "    def printNos(self,n):\n",
    "        if n>0:\n",
    "            self.printNos(n-1)\n",
    "            print(n,end=\"\")"
   ]
  },
  {
   "cell_type": "markdown",
   "metadata": {},
   "source": [
    "<p style=\"display: inline-block; background-color:rgb(53, 53, 53); color: white; padding: 5px 10px; border-radius: 5px; font-size: 22px;\">\n",
    "    <a href=\"https://www.geeksforgeeks.org/problems/delete-all-occurrences-of-a-given-key-in-a-doubly-linked-list/1\" target=\"_blank\" style=\"color: white; text-decoration: none;\">\n",
    "    \t2. Print GFG n times\n",
    "   </a>\n",
    "</p>\n",
    "\n"
   ]
  },
  {
   "cell_type": "code",
   "execution_count": null,
   "metadata": {},
   "outputs": [],
   "source": [
    "class Solution:\n",
    "    def printGfg(self, n):\n",
    "        if n>0:\n",
    "            self.printNos(n-1)\n",
    "            print('GFG',end=\" \")"
   ]
  },
  {
   "cell_type": "markdown",
   "metadata": {},
   "source": [
    "<p style=\"display: inline-block; background-color:rgb(53, 53, 53); color: white; padding: 5px 10px; border-radius: 5px; font-size: 22px;\">\n",
    "    <a href=\"https://www.geeksforgeeks.org/problems/find-all-factorial-numbers-less-than-or-equal-to-n3548/0?problemType=functional&difficulty%255B%255D=-1&page=1&query=problemTypefunctionaldifficulty%255B%255D-1page1\" target=\"_blank\" style=\"color: white; text-decoration: none;\">\n",
    "    \t3. Factorials Less than or Equal to n\n",
    "\n",
    "   </a>\n",
    "</p>\n",
    "\n"
   ]
  },
  {
   "cell_type": "code",
   "execution_count": 1,
   "metadata": {},
   "outputs": [
    {
     "name": "stdout",
     "output_type": "stream",
     "text": [
      "[1, 2]\n"
     ]
    }
   ],
   "source": [
    "class Solution:\n",
    "    def factorialNumbers(self, n):\n",
    "        def helper(i):\n",
    "            fact = self.factorial(i)  # Compute factorial of i\n",
    "            if fact > n:\n",
    "                return []  # Base case: Stop when factorial exceeds n\n",
    "            return [fact] + helper(i + 1)  # Recursive call to get next factorials\n",
    "        \n",
    "        return helper(1)  # Start from 1\n",
    "\n",
    "    def factorial(self, num):\n",
    "        if num <= 1:\n",
    "            return 1  # Base case for factorial\n",
    "        return num * self.factorial(num - 1)  # Recursive factorial computation\n",
    "\n",
    "# Example Usage\n",
    "sol = Solution()\n",
    "print(sol.factorialNumbers(2))  # Output: [1, 2, 6]\n"
   ]
  },
  {
   "cell_type": "markdown",
   "metadata": {},
   "source": [
    "<p style=\"display: inline-block; background-color:rgb(53, 53, 53); color: white; padding: 5px 10px; border-radius: 5px; font-size: 22px;\">\n",
    "    <a href=\"https://www.geeksforgeeks.org/problems/sum-of-first-n-terms5843/1\" target=\"_blank\" style=\"color: white; text-decoration: none;\">\n",
    "    \t4. Sum of first n terms\n",
    "\n",
    "   </a>\n",
    "</p>\n",
    "\n"
   ]
  },
  {
   "cell_type": "markdown",
   "metadata": {},
   "source": [
    "`Parameterized recursion`"
   ]
  },
  {
   "cell_type": "code",
   "execution_count": null,
   "metadata": {},
   "outputs": [],
   "source": [
    "class Solution:\n",
    "    def sumOfSeries(self,n,sum=0):\n",
    "        if n==0:\n",
    "            return sum \n",
    "        return self.sumOfSeries(n-1,sum+(n**3)) "
   ]
  },
  {
   "cell_type": "markdown",
   "metadata": {},
   "source": [
    "`Functional recursion`"
   ]
  },
  {
   "cell_type": "code",
   "execution_count": null,
   "metadata": {},
   "outputs": [],
   "source": [
    "class Solution:\n",
    "    def sumOfSeries(self,n):\n",
    "        if n<=1:\n",
    "            return n \n",
    "        return (n**3)+self.sumOfSeries(n-1) "
   ]
  },
  {
   "cell_type": "markdown",
   "metadata": {},
   "source": [
    "<p style=\"display: inline-block; background-color:rgb(53, 53, 53); color: white; padding: 5px 10px; border-radius: 5px; font-size: 22px;\">\n",
    "    <a href=\"https://www.geeksforgeeks.org/problems/reverse-an-array/0\" target=\"_blank\" style=\"color: white; text-decoration: none;\">\n",
    "    5. Reverse and array\n",
    "   </a>\n",
    "</p>\n",
    "\n"
   ]
  },
  {
   "cell_type": "code",
   "execution_count": null,
   "metadata": {},
   "outputs": [],
   "source": [
    "class Solution:\n",
    "    def reverseArray(self, arr):\n",
    "        left, right=0,len(arr)-1\n",
    "        def helper(arr, left, right):\n",
    "            if left < right:\n",
    "                arr[left], arr[right] = arr[right], arr[left]  \n",
    "                helper(arr, left + 1, right - 1)  \n",
    "        \n",
    "        helper(arr,left,right)  \n",
    "        return arr"
   ]
  },
  {
   "cell_type": "code",
   "execution_count": null,
   "metadata": {},
   "outputs": [],
   "source": [
    "class Solution:\n",
    "    def reverseArray(self, arr):\n",
    "        def helper(arr, i):  \n",
    "            n = len(arr)  \n",
    "            if i >= n // 2:  \n",
    "                return\n",
    "            \n",
    "            arr[i], arr[n - i - 1] = arr[n - i - 1], arr[i] \n",
    "            helper(arr, i + 1) \n",
    "        helper(arr,0)\n",
    "        return arr"
   ]
  },
  {
   "cell_type": "markdown",
   "metadata": {},
   "source": [
    "<p style=\"display: inline-block; background-color:rgb(53, 53, 53); color: white; padding: 5px 10px; border-radius: 5px; font-size: 22px;\">\n",
    "    <a href=\"https://leetcode.com/problems/valid-palindrome/description/\" target=\"_blank\" style=\"color: white; text-decoration: none;\">\n",
    "    \t6.  Valid Palindrome\n",
    "   </a>\n",
    "</p>\n",
    "\n"
   ]
  },
  {
   "cell_type": "code",
   "execution_count": null,
   "metadata": {},
   "outputs": [],
   "source": [
    "class Solution(object):\n",
    "    def isPalindrome(self, s):\n",
    "\n",
    "        i, j = 0, len(s) - 1  \n",
    "\n",
    "        while i < j:\n",
    "            while i < j and not s[i].isalnum():  \n",
    "                i += 1\n",
    "            while i < j and not s[j].isalnum():\n",
    "                j -= 1\n",
    "            if s[i].lower() != s[j].lower():  \n",
    "                return False\n",
    "            i += 1\n",
    "            j -= 1\n",
    "        return True  \n",
    "\n"
   ]
  },
  {
   "cell_type": "code",
   "execution_count": 13,
   "metadata": {},
   "outputs": [
    {
     "name": "stdout",
     "output_type": "stream",
     "text": [
      "False\n",
      "True\n"
     ]
    }
   ],
   "source": [
    "class Solution(object):\n",
    "    def isPalindrome(self, s, i=0, j=None): #^ i=0, j=None isdefault argument values are used only if the argument is not explicitly provided in the function call.\n",
    "        if j is None:\n",
    "            j = len(s) - 1  \n",
    "        if i >= j:  \n",
    "            return True\n",
    "\n",
    "        if not s[i].isalnum():  \n",
    "            return self.isPalindrome(s, i + 1, j)\n",
    "        if not s[j].isalnum():  \n",
    "            return self.isPalindrome(s, i, j - 1)\n",
    "\n",
    "        if s[i].lower() != s[j].lower():  \n",
    "            return False\n",
    "\n",
    "        return self.isPalindrome(s, i + 1, j - 1) \n",
    "\n",
    "sol=Solution()\n",
    "ans1=sol.isPalindrome(\"kisan\")\n",
    "ans2=sol.isPalindrome('racecar')\n",
    "print(ans1)\n",
    "print(ans2)"
   ]
  },
  {
   "cell_type": "markdown",
   "metadata": {},
   "source": [
    "<p style=\"display: inline-block; background-color:rgb(53, 53, 53); color: white; padding: 5px 10px; border-radius: 5px; font-size: 22px;\">\n",
    "    <a href=\"https://leetcode.com/problems/fibonacci-number/description/\" target=\"_blank\" style=\"color: white; text-decoration: none;\">\n",
    "    \t7. Fibonacci Number\n",
    "   </a>\n",
    "</p>\n",
    "\n"
   ]
  },
  {
   "cell_type": "code",
   "execution_count": 10,
   "metadata": {},
   "outputs": [
    {
     "data": {
      "text/plain": [
       "2"
      ]
     },
     "execution_count": 10,
     "metadata": {},
     "output_type": "execute_result"
    }
   ],
   "source": [
    "class Solution(object):\n",
    "    def fib(self, n):\n",
    "        if n == 0: \n",
    "            return 0\n",
    "        if n == 1:  \n",
    "            return 1\n",
    "        a, b = 0, 1\n",
    "        for _ in range(2, n + 1): \n",
    "            c = a + b\n",
    "            a, b = b, c\n",
    "        return c # OR b\n",
    "\n",
    "f=Solution()\n",
    "ans=f.fib(3)\n",
    "ans"
   ]
  },
  {
   "cell_type": "code",
   "execution_count": null,
   "metadata": {},
   "outputs": [],
   "source": [
    "class Solution:\n",
    "    def fib(self, n):\n",
    "        if n <= 1:  \n",
    "            return n\n",
    "        return self.fib(n - 1) + self.fib(n - 2)"
   ]
  },
  {
   "cell_type": "code",
   "execution_count": null,
   "metadata": {},
   "outputs": [],
   "source": [
    "class Solution:\n",
    "    def __init__(self):\n",
    "        self.memo = {}  # Dictionary for memoization\n",
    "\n",
    "    def fib(self, n):\n",
    "        if n <= 1:  # Base cases\n",
    "            return n\n",
    "        \n",
    "        if n not in self.memo:  # Store computed values\n",
    "            self.memo[n] = self.fib(n - 1) + self.fib(n - 2)\n",
    "        \n",
    "        return self.memo[n]"
   ]
  },
  {
   "cell_type": "markdown",
   "metadata": {},
   "source": [
    "## 🔹 `CONCEPTUAL QURSTIONS`  `RECUSRION`"
   ]
  },
  {
   "cell_type": "markdown",
   "metadata": {},
   "source": [
    "<p style=\"display: inline-block; background-color:rgb(53, 53, 53); color: white; padding: 5px 10px; border-radius: 5px; font-size: 22px;\">\n",
    "    <a href=\"https://leetcode.com/problems/string-to-integer-atoi/description/\" target=\"_blank\" style=\"color: white; text-decoration: none;\">\n",
    "    \t1.Recursive Implementation of atoi()\n",
    "   </a>\n",
    "</p>\n",
    "\n"
   ]
  },
  {
   "cell_type": "code",
   "execution_count": null,
   "metadata": {},
   "outputs": [],
   "source": [
    "class Solution(object):\n",
    "    def myAtoi(self, s, i=0,sign=1,parsed=0):\n",
    "        s=s.strip()\n",
    "        if not s:  \n",
    "            return 0\n",
    "        if i == 0:\n",
    "            if s[i]==\"+\":\n",
    "                return self.myAtoi(s,i+1,sign,parsed)\n",
    "            elif s[i]==\"-\":\n",
    "                sign=-1\n",
    "                return self.myAtoi(s,i+1,-1,parsed)\n",
    "            \n",
    "        if i>=len(s) or not s[i].isdigit(): # Base Case (Stopping Condition)\n",
    "            parsed=parsed*sign\n",
    "            if parsed > 2147483648 - 1:\n",
    "                return 2147483648 - 1\n",
    "            elif parsed <= - 2147483648:\n",
    "                return - 2147483648\n",
    "            else:\n",
    "                return parsed\n",
    "        \n",
    "\n",
    "        parsed = parsed*10+int(s[i])                      \n",
    "        return self.myAtoi(s, i + 1, sign, parsed)        # Recursive Case (Progressing Toward the Base Case)\n"
   ]
  },
  {
   "cell_type": "markdown",
   "metadata": {},
   "source": [
    "<p style=\"display: inline-block; background-color:rgb(53, 53, 53); color: white; padding: 5px 10px; border-radius: 5px; font-size: 22px;\">\n",
    "    <a href=\"https://leetcode.com/problems/powx-n/description/\" target=\"_blank\" style=\"color: white; text-decoration: none;\">\n",
    "    \t2. Pow(x, n)\n",
    "   </a>\n",
    "</p>\n",
    "\n"
   ]
  },
  {
   "cell_type": "markdown",
   "metadata": {},
   "source": [
    "`dont know the logic behind this on time of revison code from scratch`"
   ]
  },
  {
   "cell_type": "code",
   "execution_count": null,
   "metadata": {},
   "outputs": [],
   "source": [
    "class Solution(object):\n",
    "    def myPow(self, x, n):\n",
    "\n",
    "        # Base cases\n",
    "        if n == 0:\n",
    "            return 1\n",
    "        if n < 0:\n",
    "            x = 1 / x\n",
    "            n = -n\n",
    "\n",
    "        # Recursive solution\n",
    "        half = self.myPow(x, n // 2)\n",
    "\n",
    "        if n % 2 == 0:\n",
    "            return half * half\n",
    "        else:\n",
    "            return half * half * x\n"
   ]
  },
  {
   "cell_type": "markdown",
   "metadata": {},
   "source": [
    "<p style=\"display: inline-block; background-color:rgb(53, 53, 53); color: white; padding: 5px 10px; border-radius: 5px; font-size: 22px;\">\n",
    "    <a href=\"https://leetcode.com/problems/count-good-numbers/description/\" target=\"_blank\" style=\"color: white; text-decoration: none;\">\n",
    "    3. Count Good numbers\n",
    "   </a>\n",
    "</p>\n",
    "\n"
   ]
  },
  {
   "cell_type": "code",
   "execution_count": null,
   "metadata": {},
   "outputs": [],
   "source": [
    "from math import ceil\n",
    "\n",
    "class Solution(object):\n",
    "    def countGoodNumbers(self, n): \n",
    "        MOD = 10**9 + 7\n",
    " \n",
    "        def mypow(x, n):\n",
    "            res=1\n",
    "            while n>0:        \n",
    "                if not (n % 2) == 0:       # only when n is odd\n",
    "                    res=(res*x) % MOD\n",
    "                n=n//2\n",
    "                x=(x*x) % MOD\n",
    "            return res\n",
    "\n",
    "        even = (n + 1)//2\n",
    "        odd = n // 2\n",
    "\n",
    "        return (mypow(5, even) * mypow(4, odd)) % MOD\n"
   ]
  },
  {
   "cell_type": "markdown",
   "metadata": {},
   "source": [
    "<p style=\"display: inline-block; background-color:rgb(53, 53, 53); color: white; padding: 5px 10px; border-radius: 5px; font-size: 22px;\">\n",
    "    <a href=\"https://www.geeksforgeeks.org/problems/sort-a-stack/1\" target=\"_blank\" style=\"color: white; text-decoration: none;\">\n",
    "    4. sort a stack\n",
    "   </a>\n",
    "</p>\n",
    "\n"
   ]
  },
  {
   "cell_type": "markdown",
   "metadata": {},
   "source": [
    "`stack = [3, 2, 5]`,\n",
    "We are saying:\n",
    "Bottom → 3,\n",
    "Then → 2,\n",
    "Top → 5"
   ]
  },
  {
   "cell_type": "code",
   "execution_count": null,
   "metadata": {},
   "outputs": [],
   "source": [
    "class Solution:\n",
    "    def sort_stack(self,s):\n",
    "        if len(s)<=1:\n",
    "            return\n",
    "        temp=s.pop()\n",
    "        self.sort_stack(s)\n",
    "        self.insert_sorted_manner(s,temp)\n",
    "\n",
    "    def insert_sorted_manner(self,s,element):\n",
    "        if not s or s[-1] <= element:\n",
    "            s.append(element)\n",
    "            return\n",
    "        temp=s.pop()\n",
    "        self.insert_sorted_manner(s,element)\n",
    "        s.append(temp)\n"
   ]
  },
  {
   "cell_type": "markdown",
   "metadata": {},
   "source": [
    "<p style=\"display: inline-block; background-color:rgb(53, 53, 53); color: white; padding: 5px 10px; border-radius: 5px; font-size: 22px;\">\n",
    "    <a href=\"https://www.geeksforgeeks.org/problems/reverse-a-stack/1\" target=\"_blank\" style=\"color: white; text-decoration: none;\">\n",
    "    5. Reverse a stack using recursion\n",
    "   </a>\n",
    "</p>\n",
    "\n"
   ]
  },
  {
   "cell_type": "code",
   "execution_count": null,
   "metadata": {},
   "outputs": [],
   "source": [
    "class Solution:\n",
    "    def reverse(self,St): \n",
    "        if len(St)<=1:\n",
    "            return\n",
    "        temp=St.pop()\n",
    "        self.reverse(St)\n",
    "        self.insert(St,temp)\n",
    "    def insert(self,s,element):\n",
    "        if not s:\n",
    "            s.append(element)\n",
    "            return\n",
    "        temp=s.pop()\n",
    "        self.insert(s,element)\n",
    "        s.append(temp)\n",
    "\n",
    "s = [1, 2, 3, 4]\n",
    "sol=Solution()\n",
    "sol.reverse(s)\n",
    "print(s)  \n",
    "\n"
   ]
  },
  {
   "cell_type": "markdown",
   "metadata": {},
   "source": [
    "## 🔹 `PATTERN BASED` `RECUSRION` 🔁"
   ]
  },
  {
   "cell_type": "markdown",
   "metadata": {},
   "source": [
    "<p style=\"display: inline-block; background-color:rgb(53, 53, 53); color: white; padding: 5px 10px; border-radius: 5px; font-size: 22px;\">\n",
    "    <a href=\"https://leetcode.com/problems/generate-parentheses/description/\" target=\"_blank\" style=\"color: white; text-decoration: none;\">\n",
    "    1. Generate Paranthesis 🔁\n",
    "   </a>\n",
    "</p>\n",
    "\n",
    " In Python (or any language with recursion):\n",
    "Jab ek function dusre function ko call karta hai, toh:\n",
    "Python us jagah ko yaad rakhta hai (using the call stack).\n",
    "\n",
    "Jab neeche waala function return karta hai, control wapis upar aata hai jahan se call kiya gaya tha.\n",
    "\n",
    "Vo code dobara nhi chalta — sirf bacha hua code chalata hai jahan tak call hua tha.\n",
    "\n"
   ]
  },
  {
   "cell_type": "code",
   "execution_count": 1,
   "metadata": {},
   "outputs": [],
   "source": [
    "class Solution(object):\n",
    "    def generateParenthesis(self, n):\n",
    "        res=[]\n",
    "        def backtrack(s,Opening_paranthesis,Closeing_paranthesis):\n",
    "            if len(s)==2*n:\n",
    "                res.append(s)\n",
    "                return\n",
    "            if Opening_paranthesis<n:\n",
    "                backtrack(s+'(',Opening_paranthesis+1,Closeing_paranthesis)\n",
    "            if Closeing_paranthesis<Opening_paranthesis:\n",
    "                backtrack(s+')',Opening_paranthesis,Closeing_paranthesis+1)\n",
    "        backtrack('',0,0)\n",
    "        return res"
   ]
  },
  {
   "cell_type": "markdown",
   "metadata": {},
   "source": [
    "\n",
    "<p style=\"display: inline-block; background-color:rgb(53, 53, 53); color: white; padding: 5px 10px; border-radius: 5px; font-size: 22px;\">\n",
    "    <a href=\"https://leetcode.com/problems/subsets/description/\" target=\"_blank\" style=\"color: white; text-decoration: none;\">\n",
    "    2. Print all subsequences (recusrsion)\n",
    "   </a>\n",
    "</p>\n",
    "\n",
    "\n",
    "Why not just use res.append(arr) instead of res.append(arr[:])?\n",
    "Problem: arr is a reference, not a copy\n",
    "If you write:\n",
    "\n",
    "python\n",
    "Copy\n",
    "Edit\n",
    "res.append(arr)\n",
    "You're adding a reference to the same list arr. So when arr changes later in recursion, all previous entries in res also change, because they're all pointing to the same list object in memory.\n",
    "\n",
    "Correct Way:\n",
    "python\n",
    "Copy\n",
    "Edit\n",
    "res.append(arr[:])\n",
    "arr[:] creates a shallow copy of the current list — a snapshot of it.\n",
    "\n",
    "So even if arr changes later, the previous version stays intact in res.\n",
    "\n",
    "\n",
    "📌 1. Lists are mutable\n",
    "python\n",
    "Copy\n",
    "Edit\n",
    "res = []\n",
    "arr = [1, 2]\n",
    "res.append(arr)\n",
    "arr.append(3)\n",
    "print(res)  # Output: [[1, 2, 3]]\n",
    "Here, res[0] gets changed because arr is mutable and res.append(arr) stores a reference, not a copy.\n",
    "\n",
    "To avoid that, we do:\n",
    "\n",
    "python\n",
    "Copy\n",
    "Edit\n",
    "res.append(arr[:])  # or list(arr), or arr.copy()\n",
    "This stores a shallow copy — changes to arr after this won't affect what's in res.\n",
    "\n",
    "📌 2. Strings are immutable\n",
    "python\n",
    "Copy\n",
    "Edit\n",
    "res = []\n",
    "s = \"abc\"\n",
    "res.append(s)\n",
    "s = \"xyz\"\n",
    "print(res)  # Output: ['abc']\n",
    "Even though we didn't copy s, it doesn't change res, because strings in Python are immutable — modifying s creates a new object, and doesn't affect the previous one."
   ]
  },
  {
   "cell_type": "code",
   "execution_count": 1,
   "metadata": {},
   "outputs": [],
   "source": [
    "class Solution(object):\n",
    "    def subsets(self, nums):\n",
    "        res = []\n",
    "        m = len(nums)\n",
    "\n",
    "        def backtrack(index, arr):\n",
    "            if index >= m:\n",
    "                res.append(arr[:]) # or list(arr)\n",
    "                return\n",
    "            arr.append(nums[index])\n",
    "            backtrack(index + 1, arr)\n",
    "            arr.pop()\n",
    "            backtrack(index + 1, arr)\n",
    "\n",
    "        backtrack(0, [])\n",
    "        return res"
   ]
  },
  {
   "cell_type": "code",
   "execution_count": null,
   "metadata": {},
   "outputs": [],
   "source": [
    "class Solution(object):\n",
    "    def subsets(self, nums):\n",
    "        res = []\n",
    "        n = len(nums)\n",
    "\n",
    "        def backtrack(index, arr):\n",
    "            res.append(arr[:]) \n",
    "            for i in range(index, n):\n",
    "                arr.append(nums[i])    \n",
    "                backtrack(i + 1, arr)  \n",
    "                arr.pop()              \n",
    "\n",
    "        backtrack(0, [])\n",
    "        return res\n"
   ]
  },
  {
   "cell_type": "markdown",
   "metadata": {},
   "source": [
    "\n",
    "<p style=\"display: inline-block; background-color:rgb(53, 53, 53); color: white; padding: 5px 10px; border-radius: 5px; font-size: 22px;\">\n",
    "    <a href=\"https://www.geeksforgeeks.org/problems/generate-all-binary-strings/1\" target=\"_blank\" style=\"color: white; text-decoration: none;\">\n",
    "    3. Generate all binary strings\n",
    "   </a>\n",
    "</p>"
   ]
  },
  {
   "cell_type": "code",
   "execution_count": null,
   "metadata": {},
   "outputs": [],
   "source": [
    "class Solution:\n",
    "    def generateBinaryStrings(self, n):\n",
    "        list_res=[]\n",
    "        def backtrack(s,last_char):\n",
    "            if len(s)==n:\n",
    "                list_res.append(s)\n",
    "                return\n",
    "            backtrack(s+'0','0')\n",
    "\n",
    "            if last_char!='1':\n",
    "                backtrack(s+'1','1')\n",
    "            \n",
    "        backtrack('','')\n",
    "        return sorted(list_res)\n",
    "            "
   ]
  },
  {
   "cell_type": "markdown",
   "metadata": {},
   "source": [
    "\n",
    "<p style=\"display: inline-block; background-color:rgb(53, 53, 53); color: white; padding: 5px 10px; border-radius: 5px; font-size: 22px;\">\n",
    "    <a href=\"https://leetcode.com/problems/combination-sum/description/\" target=\"_blank\" style=\"color: white; text-decoration: none;\">\n",
    "    4. Combination Sum\n",
    "   </a>\n",
    "</p>"
   ]
  },
  {
   "cell_type": "code",
   "execution_count": null,
   "metadata": {},
   "outputs": [],
   "source": [
    "class Solution(object):\n",
    "    def combinationSum(self, candidates, target):\n",
    "        res=[]\n",
    "        def backtrack(index,arr,sum):\n",
    "            if sum==target:\n",
    "                res.append(list(arr))\n",
    "                return\n",
    "            if sum>target or index==len(candidates):\n",
    "                return\n",
    "            arr.append(candidates[index])\n",
    "            backtrack(index,arr,sum+candidates[index])\n",
    "            arr.pop()\n",
    "            backtrack(index+1,arr,sum)\n",
    "        backtrack(0,[],0)\n",
    "        return res"
   ]
  },
  {
   "cell_type": "code",
   "execution_count": null,
   "metadata": {},
   "outputs": [],
   "source": [
    "class Solution(object):\n",
    "    def combinationSum(self, candidates, target):\n",
    "        res = []\n",
    "\n",
    "        def backtrack(start, path, total):\n",
    "            if total == target:\n",
    "                res.append(list(path))\n",
    "                return\n",
    "            if total > target:\n",
    "                return\n",
    "\n",
    "            for i in range(start, len(candidates)):\n",
    "                path.append(candidates[i])\n",
    "                backtrack(i, path, total + candidates[i])  \n",
    "                path.pop()  \n",
    "\n",
    "        backtrack(0, [], 0)\n",
    "        return res"
   ]
  },
  {
   "cell_type": "markdown",
   "metadata": {},
   "source": [
    "\n",
    "<p style=\"display: inline-block; background-color:rgb(53, 53, 53); color: white; padding: 5px 10px; border-radius: 5px; font-size: 22px;\">\n",
    "    <a href=\"https://leetcode.com/problems/combination-sum-ii/description/\" target=\"_blank\" style=\"color: white; text-decoration: none;\">\n",
    "    5. Combination Sum - 2 🔁\n",
    "   </a>\n",
    "</p>"
   ]
  },
  {
   "cell_type": "code",
   "execution_count": null,
   "metadata": {},
   "outputs": [],
   "source": [
    "class Solution(object):\n",
    "    def combinationSum2(self, candidates, target):\n",
    "        res = []\n",
    "        candidates.sort()  # sort to handle duplicates\n",
    "\n",
    "        def backtrack(index, arr, curr_sum):\n",
    "            if curr_sum == target:\n",
    "                res.append(list(arr))\n",
    "                return\n",
    "            if curr_sum > target or index == len(candidates):\n",
    "                return\n",
    "\n",
    "            arr.append(candidates[index])\n",
    "            backtrack(index + 1, arr, curr_sum + candidates[index]) \n",
    "            arr.pop()\n",
    "\n",
    "            # SKIP duplicates for the EXCLUDE path\n",
    "            next_index = index + 1\n",
    "            while next_index < len(candidates) and candidates[next_index] == candidates[index]:\n",
    "                next_index += 1\n",
    "\n",
    "            # EXCLUDE current and move to next non-duplicate\n",
    "            backtrack(next_index, arr, curr_sum)\n",
    "\n",
    "        backtrack(0, [], 0)\n",
    "        return res\n"
   ]
  },
  {
   "cell_type": "code",
   "execution_count": null,
   "metadata": {},
   "outputs": [],
   "source": [
    "class Solution(object):\n",
    "    def combinationSum2(self, candidates, target):\n",
    "        res = []\n",
    "        candidates.sort()  # Important to handle duplicates\n",
    "\n",
    "        def backtrack(index, arr, curr_sum):\n",
    "            if curr_sum == target:\n",
    "                res.append(list(arr))\n",
    "                return\n",
    "            if curr_sum > target or index == len(candidates):\n",
    "                return\n",
    "\n",
    "            for i in range(index, len(candidates)):\n",
    "                # Skip duplicates\n",
    "                if i > index and candidates[i] == candidates[i - 1]:\n",
    "                    continue\n",
    "\n",
    "                arr.append(candidates[i])\n",
    "                backtrack(i + 1, arr, curr_sum + candidates[i])  # move to next index (no reuse)\n",
    "                arr.pop()\n",
    "\n",
    "        backtrack(0, [], 0)\n",
    "        return res\n"
   ]
  },
  {
   "cell_type": "markdown",
   "metadata": {},
   "source": [
    "\n",
    "\n",
    "\n",
    "<p style=\"display: inline-block; background-color:rgb(53, 53, 53); color: white; padding: 5px 10px; border-radius: 5px; font-size: 22px;\">\n",
    "    <a href=\"https://leetcode.com/problems/combination-sum-iii/description/\" target=\"_blank\" style=\"color: white; text-decoration: none;\">\n",
    "    6. Combination Sum III\n",
    "   </a>\n",
    "</p>"
   ]
  },
  {
   "cell_type": "code",
   "execution_count": null,
   "metadata": {},
   "outputs": [],
   "source": [
    "class Solution(object):\n",
    "    def combinationSum3(self, k, n):\n",
    "        result = []\n",
    "\n",
    "        def backtrack(start, path, total):\n",
    "            if len(path) == k and total == n:\n",
    "                result.append(list(path))\n",
    "                return\n",
    "            \n",
    "            if len(path) > k or total > n:\n",
    "                return\n",
    "\n",
    "            # Try each number from `start` to 9\n",
    "            for i in range(start, 10):\n",
    "                path.append(i)\n",
    "                backtrack(i + 1, path, total + i)  \n",
    "                path.pop() \n",
    "\n",
    "        backtrack(1, [], 0)\n",
    "        return result\n",
    "\n"
   ]
  },
  {
   "cell_type": "markdown",
   "metadata": {},
   "source": [
    "\n",
    "\n",
    "\n",
    "<p style=\"display: inline-block; background-color:rgb(53, 53, 53); color: white; padding: 5px 10px; border-radius: 5px; font-size: 22px;\">\n",
    "    <a href=\"https://www.geeksforgeeks.org/problems/subset-sums2234/1\" target=\"_blank\" style=\"color: white; text-decoration: none;\">\n",
    "    7. Subset Sum I\n",
    "   </a>\n",
    "</p>"
   ]
  },
  {
   "cell_type": "code",
   "execution_count": null,
   "metadata": {},
   "outputs": [],
   "source": [
    "class Solution:\n",
    "\tdef subsetSums(self, arr):\n",
    "\t\tres=[]\n",
    "\t\tn=len(arr)\n",
    "\n",
    "\t\tdef backtrack(i,ar):\n",
    "\t\t\tif i>=n:\n",
    "\t\t\t\tres.append(sum(ar))\n",
    "\t\t\t\treturn\n",
    "\t\t\tar.append(arr[i])\n",
    "\t\t\tbacktrack(i + 1, ar)\n",
    "\t\t\tar.pop()\n",
    "\t\t\tbacktrack(i + 1, ar)\n",
    "\t\t\t\n",
    "\t\tbacktrack(0, [])\n",
    "\t\treturn res\n",
    "\t\t\t"
   ]
  },
  {
   "cell_type": "markdown",
   "metadata": {},
   "source": [
    "\n",
    "\n",
    "\n",
    "<p style=\"display: inline-block; background-color:rgb(53, 53, 53); color: white; padding: 5px 10px; border-radius: 5px; font-size: 22px;\">\n",
    "    <a href=\"https://leetcode.com/problems/subsets-ii/description/\" target=\"_blank\" style=\"color: white; text-decoration: none;\">\n",
    "    8. Subset Sum II 🔁\n",
    "   </a>\n",
    "</p>"
   ]
  },
  {
   "cell_type": "code",
   "execution_count": null,
   "metadata": {},
   "outputs": [],
   "source": [
    "class Solution:\n",
    "    def subsetsWithDup(self, nums):\n",
    "        res = []\n",
    "        nums.sort()  \n",
    "\n",
    "        def backtrack(index, path):\n",
    "            if index >= len(nums):\n",
    "                res.append(list(path))\n",
    "                return\n",
    "\n",
    "            path.append(nums[index])\n",
    "            backtrack(index + 1, path)\n",
    "            path.pop()\n",
    "\n",
    "            next_index = index + 1\n",
    "            while next_index < len(nums) and nums[next_index] == nums[index]:\n",
    "                next_index += 1\n",
    "            backtrack(next_index, path)\n",
    "\n",
    "        backtrack(0, [])\n",
    "        return res\n"
   ]
  },
  {
   "cell_type": "code",
   "execution_count": null,
   "metadata": {},
   "outputs": [],
   "source": [
    "class Solution:\n",
    "    def subsetsWithDup(self, nums):\n",
    "        res = []\n",
    "        nums.sort()  # Sorting helps handle duplicates\n",
    "\n",
    "        def backtrack(index, path):\n",
    "            res.append(list(path))  # Add the current subset\n",
    "\n",
    "            for i in range(index, len(nums)):\n",
    "                # Skip duplicates — only the first occurrence is used at each level\n",
    "                if i > index and nums[i] == nums[i - 1]:\n",
    "                    continue\n",
    "                path.append(nums[i])\n",
    "                backtrack(i + 1, path)\n",
    "                path.pop()\n",
    "\n",
    "        backtrack(0, [])\n",
    "        return res\n"
   ]
  },
  {
   "cell_type": "markdown",
   "metadata": {},
   "source": [
    "\n",
    "\n",
    "\n",
    "<p style=\"display: inline-block; background-color:rgb(53, 53, 53); color: white; padding: 5px 10px; border-radius: 5px; font-size: 22px;\">\n",
    "    <a href=\"https://takeuforward.org/plus/dsa/problems/count-all-subsequences-with-sum-k\" target=\"_blank\" style=\"color: white; text-decoration: none;\">\n",
    "    9. Count all subsequences with sum K\n",
    "   </a>\n",
    "</p>\n",
    "\n"
   ]
  },
  {
   "cell_type": "code",
   "execution_count": null,
   "metadata": {},
   "outputs": [],
   "source": [
    "from typing import List\n",
    "\n",
    "def findWays(arr: List[int], k: int) -> int:\n",
    "    MOD = 10**9 + 7\n",
    "    count = 0\n",
    "    def backtrack(index:int,a:List[int],sum_:int)->int:\n",
    "        nonlocal count\n",
    "        if sum_==k:\n",
    "            count=(count+1) % MOD\n",
    "            return\n",
    "        if sum_>k or index>=len(arr):\n",
    "            return\n",
    "        a.append(index)\n",
    "        backtrack(index+1,a,sum_+arr[index])\n",
    "        a.pop()\n",
    "        backtrack(index+1,a,sum_)\n",
    "    backtrack(0,[],0)\n",
    "    return count\n"
   ]
  },
  {
   "cell_type": "markdown",
   "metadata": {},
   "source": [
    "\n",
    "\n",
    "\n",
    "<p style=\"display: inline-block; background-color:rgb(53, 53, 53); color: white; padding: 5px 10px; border-radius: 5px; font-size: 22px;\">\n",
    "    <a href=\"https://www.geeksforgeeks.org/problems/check-if-there-exists-a-subsequence-with-sum-k/1\" target=\"_blank\" style=\"color: white; text-decoration: none;\">\n",
    "    10.  Check if there exists a subsequence with sum K\n",
    "   </a>\n",
    "</p>\n"
   ]
  },
  {
   "cell_type": "code",
   "execution_count": null,
   "metadata": {},
   "outputs": [],
   "source": [
    "class Solution:\n",
    "    def checkSubsequenceSum(self, N, arr, K):\n",
    "        def backtrack(index, curr_sum):\n",
    "            if curr_sum == K:\n",
    "                return True\n",
    "            if curr_sum > K or index == N:\n",
    "                return False\n",
    "\n",
    "            # Include current element\n",
    "            pick = backtrack(index + 1, curr_sum + arr[index])\n",
    "            if pick:\n",
    "                return True\n",
    "\n",
    "            # Exclude current element\n",
    "            not_pick = backtrack(index + 1, curr_sum)\n",
    "            return not_pick\n",
    "\n",
    "        return 1 if backtrack(0, 0) else 0\n"
   ]
  },
  {
   "cell_type": "markdown",
   "metadata": {},
   "source": [
    "\n",
    "\n",
    "\n",
    "<p style=\"display: inline-block; background-color:rgb(53, 53, 53); color: white; padding: 5px 10px; border-radius: 5px; font-size: 22px;\">\n",
    "    <a href=\"https://leetcode.com/problems/letter-combinations-of-a-phone-number/description/\" target=\"_blank\" style=\"color: white; text-decoration: none;\">\n",
    "    11.   Letter Combinations of a Phone number   (do this again)\n",
    "   </a>\n",
    "</p>\n"
   ]
  },
  {
   "cell_type": "code",
   "execution_count": null,
   "metadata": {},
   "outputs": [],
   "source": []
  },
  {
   "cell_type": "markdown",
   "metadata": {},
   "source": [
    "## 🔹 `HARD QUESTIONS` `RECUSRION`"
   ]
  },
  {
   "cell_type": "markdown",
   "metadata": {},
   "source": [
    "\n",
    "\n",
    "\n",
    "<p style=\"display: inline-block; background-color:rgb(53, 53, 53); color: white; padding: 5px 10px; border-radius: 5px; font-size: 22px;\">\n",
    "    <a href=\"https://leetcode.com/problems/palindrome-partitioning/description/\" target=\"_blank\" style=\"color: white; text-decoration: none;\">\n",
    "    1. Palindrome Partitioning\n",
    "   </a>\n",
    "</p>\n"
   ]
  },
  {
   "cell_type": "code",
   "execution_count": null,
   "metadata": {},
   "outputs": [],
   "source": [
    "class Solution(object):\n",
    "    def partition(self, s:str)->list[list[str]]:\n",
    "        result=[]\n",
    "        path=[]\n",
    "        def Partition_h(index:str):\n",
    "            if index==len(s):\n",
    "                result.append(list(path))\n",
    "                return\n",
    "            \n",
    "            for i in range(index,len(s)):\n",
    "                if isvalidPalindrone(s[index:i+1]):\n",
    "                    path.append(s[index:i+1])\n",
    "                    Partition_h(i+1)\n",
    "                    path.pop()\n",
    "\n",
    "        def isvalidPalindrone(self,s:str,start=0,end=None)->bool:\n",
    "            if end==None:\n",
    "                end=len(s)-1\n",
    "            if start>end:\n",
    "                return True\n",
    "            if s[start].lower!=s[end].lower:\n",
    "                return False\n",
    "            return self.isvalidPalindrone(s,start+1,end-1)\n",
    "        \n",
    "        Partition_h(0)\n",
    "        return result\n",
    "    \n"
   ]
  },
  {
   "cell_type": "markdown",
   "metadata": {},
   "source": [
    "\n",
    "\n",
    "\n",
    "<p style=\"display: inline-block; background-color:rgb(53, 53, 53); color: white; padding: 5px 10px; border-radius: 5px; font-size: 22px;\">\n",
    "    <a href=\"https://leetcode.com/problems/word-search/description/\" target=\"_blank\" style=\"color: white; text-decoration: none;\">\n",
    "    2. Word Search\n",
    "   </a>\n",
    "</p>\n"
   ]
  },
  {
   "cell_type": "code",
   "execution_count": null,
   "metadata": {},
   "outputs": [],
   "source": [
    "class Solution(object):\n",
    "    def exist(self, board, word):\n",
    "        rows=len(board)\n",
    "        cols=len(board[0])\n",
    "        path=set()\n",
    "\n",
    "        def dfs(r,c,i):\n",
    "            if i == len(word):\n",
    "                return True\n",
    "            if (r<0 or c<0 or r>=rows or c>=cols or word[i]==board[r][c] or (r,c) in path):\n",
    "                return False\n",
    "            \n",
    "            path.add((r,c))\n",
    "            all_pos_res=(dfs(r+1,c,i+1) or \n",
    "                         dfs(r-1,c,i+1) or \n",
    "                         dfs(r,c+1,i+1) or \n",
    "                         dfs(r,c-1,i+1))\n",
    "            path.remove((r,c))\n",
    "            return all_pos_res\n",
    "        \n",
    "        for i in range(rows):\n",
    "            for j in range(cols):\n",
    "                if dfs(i,j,0):\n",
    "                    return True\n",
    "        return False\n",
    "    \n",
    "        "
   ]
  },
  {
   "cell_type": "markdown",
   "metadata": {},
   "source": [
    "<p style=\"display: inline-block; background-color:rgb(53, 53, 53); color: white; padding: 5px 10px; border-radius: 5px; font-size: 22px;\">\n",
    "    <a href=\"https://leetcode.com/problems/n-queens/description/\" target=\"_blank\" style=\"color: white; text-decoration: none;\">\n",
    "    3. N QUeeen\n",
    "   </a>\n",
    "</p>\n"
   ]
  },
  {
   "cell_type": "code",
   "execution_count": null,
   "metadata": {},
   "outputs": [],
   "source": [
    "class Solution(object):\n",
    "    def solveNQueens(self, n):\n",
    "        col_set = set()        # columns\n",
    "        pos_set = set()        # r + c  ( ↘  main diagonal )\n",
    "        neg_set = set()        # r - c  ( ↗  anti-diagonal )\n",
    "\n",
    "        res = []               \n",
    "        board = []         \n",
    "        for i in range(n): \n",
    "            row = []       \n",
    "            for j in range(n):  \n",
    "                row.append(\".\") \n",
    "            board.append(row)   \n",
    "\n",
    "        def backtrack(r):\n",
    "            if r == n:\n",
    "                res.append([\"\".join(row) for row in board])\n",
    "                return\n",
    "\n",
    "            for c in range(n):\n",
    "                if (c in col_set or\n",
    "                    (r + c) in pos_set or\n",
    "                    (r - c) in neg_set):\n",
    "                    continue\n",
    "\n",
    "                col_set.add(c)\n",
    "                pos_set.add(r + c)\n",
    "                neg_set.add(r - c)\n",
    "                board[r][c] = \"Q\"\n",
    "\n",
    "                backtrack(r + 1)\n",
    "\n",
    "                col_set.remove(c)\n",
    "                pos_set.remove(r + c)\n",
    "                neg_set.remove(r - c)\n",
    "                board[r][c] = \".\"\n",
    "\n",
    "        backtrack(0)\n",
    "        return res\n"
   ]
  },
  {
   "cell_type": "markdown",
   "metadata": {},
   "source": [
    "<p style=\"display: inline-block; background-color:rgb(53, 53, 53); color: white; padding: 5px 10px; border-radius: 5px; font-size: 22px;\">\n",
    "    <a href=\"https://leetcode.com/problems/sudoku-solver/description/\" target=\"_blank\" style=\"color: white; text-decoration: none;\">\n",
    "    4. Sudoku Solver\n",
    "   </a>\n",
    "</p>\n"
   ]
  },
  {
   "cell_type": "code",
   "execution_count": null,
   "metadata": {},
   "outputs": [],
   "source": []
  },
  {
   "cell_type": "markdown",
   "metadata": {},
   "source": [
    "<p style=\"display: inline-block; background-color:rgb(53, 53, 53); color: white; padding: 5px 10px; border-radius: 5px; font-size: 22px;\">\n",
    "    <a href=\"https://leetcode.com/problems/word-break/description/\" target=\"_blank\" style=\"color: white; text-decoration: none;\">\n",
    "    5. Word Break  (NHI SAMJHA)\n",
    "   </a>\n",
    "</p>\n"
   ]
  },
  {
   "cell_type": "code",
   "execution_count": null,
   "metadata": {},
   "outputs": [],
   "source": [
    "class Solution:\n",
    "    def wordBreak(self, s: str, wordDict: list[str]) -> bool:\n",
    "        wordSet = set(wordDict)  # For fast lookup\n",
    "        n = len(s)\n",
    "        memo = {}\n",
    "\n",
    "        def backtrack(i: int) -> bool:\n",
    "            if i == n:\n",
    "                return True  # Reached the end\n",
    "\n",
    "            if i in memo:\n",
    "                return memo[i]  # Return cached result\n",
    "\n",
    "            for j in range(i + 1, n + 1):\n",
    "                if s[i:j] in wordSet and backtrack(j):\n",
    "                    memo[i] = True\n",
    "                    return True\n",
    "\n",
    "            memo[i] = False\n",
    "            return False\n",
    "\n",
    "        return backtrack(0)\n"
   ]
  },
  {
   "cell_type": "code",
   "execution_count": null,
   "metadata": {},
   "outputs": [],
   "source": [
    "class Solution:\n",
    "    def wordBreak(self, s: str, wordDict: list[str]) -> bool:\n",
    "        wordSet = set(wordDict)  # Faster lookup\n",
    "        n = len(s)\n",
    "        memo = {}  # To store already computed results\n",
    "\n",
    "        def dfs(i):\n",
    "            if i == n:\n",
    "                return True  # Successfully reached end\n",
    "\n",
    "            if i in memo:\n",
    "                return memo[i]  # Return cached result\n",
    "\n",
    "            for j in range(i + 1, n + 1):\n",
    "                if s[i:j] in wordSet:\n",
    "                    if dfs(j):\n",
    "                        memo[i] = True\n",
    "                        return True\n",
    "\n",
    "            memo[i] = False\n",
    "            return False\n",
    "\n",
    "        return dfs(0)\n"
   ]
  }
 ],
 "metadata": {
  "kernelspec": {
   "display_name": "Python 3",
   "language": "python",
   "name": "python3"
  },
  "language_info": {
   "codemirror_mode": {
    "name": "ipython",
    "version": 3
   },
   "file_extension": ".py",
   "mimetype": "text/x-python",
   "name": "python",
   "nbconvert_exporter": "python",
   "pygments_lexer": "ipython3",
   "version": "3.12.10"
  }
 },
 "nbformat": 4,
 "nbformat_minor": 2
}

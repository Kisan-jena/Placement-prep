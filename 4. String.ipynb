{
 "cells": [
  {
   "cell_type": "markdown",
   "metadata": {},
   "source": [
    "\n",
    "<p style=\"display: inline-block; background-color:rgb(67, 67, 67); color: white; padding: 5px 10px; border-radius: 5px; font-size: 28px;\">\n",
    "    <a href=\"\" target=\"_blank\" style=\"color: white; text-decoration: none;\">\n",
    "        1. Basic and Easy string problems \n",
    "    </a>\n",
    "</p>\n",
    "\n"
   ]
  },
  {
   "cell_type": "markdown",
   "metadata": {},
   "source": [
    "<p style=\"display: inline-block; background-color:rgb(49, 93, 107); padding: 5px 10px; border-radius: 5px; font-size: 22px;\">\n",
    "    <a href=\"https://leetcode.com/problems/remove-outermost-parentheses/description/\" target=\"_blank\" style=\"color: white; text-decoration: none;\">\n",
    "        1.1 Remove Outermost Parantheses\n",
    "    </a>\n",
    "</p>\n",
    "\n"
   ]
  },
  {
   "cell_type": "code",
   "execution_count": null,
   "metadata": {},
   "outputs": [],
   "source": [
    "class Solution(object):\n",
    "    def removeOuterParentheses(self, s):\n",
    "        counter = 0\n",
    "        ans_stack = []  \n",
    "\n",
    "        for char in s:\n",
    "            if char == \"(\":\n",
    "                if counter > 0:\n",
    "                    ans_stack.append(char)  \n",
    "                counter += 1\n",
    "            else:\n",
    "                counter -= 1\n",
    "                if counter > 0:\n",
    "                    ans_stack.append(char) \n",
    "\n",
    "        return \"\".join(ans_stack)  \n"
   ]
  },
  {
   "cell_type": "markdown",
   "metadata": {},
   "source": [
    "<p style=\"display: inline-block; background-color:rgb(49, 93, 107); color: white; padding: 5px 10px; border-radius: 5px; font-size: 22px;\">\n",
    "    <a href=\"https://leetcode.com/problems/reverse-words-in-a-string/description/\" target=\"_blank\" style=\"color: white; text-decoration: none;\">\n",
    "        1.2 Reverse word of string\n",
    "    </a>\n",
    "</p>\n"
   ]
  },
  {
   "cell_type": "code",
   "execution_count": null,
   "metadata": {},
   "outputs": [],
   "source": [
    "class Solution(object):\n",
    "    def reverseWords(self, s):\n",
    "\n",
    "        # Magic of python built in function \n",
    "        return ' '.join(s.split()[::-1]) \n",
    "        "
   ]
  },
  {
   "cell_type": "markdown",
   "metadata": {},
   "source": [
    "`dry run anmd check why wrong`"
   ]
  },
  {
   "cell_type": "code",
   "execution_count": null,
   "metadata": {},
   "outputs": [],
   "source": [
    "class Solution(object):\n",
    "    def reverseWords(self, s):\n",
    "        result=\"\"\n",
    "        word=\"\"\n",
    "        n=len(s)\n",
    "        i=0\n",
    "\n",
    "        while i<n:\n",
    "            while i<n and s[i]==\" \":\n",
    "                i=i+1\n",
    "            j=i+1\n",
    "            while i < n:\n",
    "                j = i\n",
    "            while j < n and s[j] != \" \":\n",
    "                j += 1\n",
    "            word=s[i:j]\n",
    "            if result==\"\":\n",
    "                result=word\n",
    "            else:\n",
    "                result=word+\" \"+result\n",
    "                i=j+1\n",
    "        return result\n",
    "        \n"
   ]
  },
  {
   "cell_type": "code",
   "execution_count": null,
   "metadata": {},
   "outputs": [],
   "source": [
    "class Solution(object):\n",
    "    def reverseWords(self, s):\n",
    "        result = \"\"\n",
    "        n = len(s)\n",
    "        i = 0\n",
    "\n",
    "        while i < n:\n",
    "        \n",
    "            while i < n and s[i] == \" \":\n",
    "                i += 1\n",
    "            if i >= n:\n",
    "                break\n",
    "\n",
    "            j = i+1\n",
    "            while j < n and s[j] != \" \":\n",
    "                j += 1\n",
    "            word = s[i:j] \n",
    "            \n",
    "            if result == \"\":\n",
    "                result = word\n",
    "            else:\n",
    "                result = word + \" \" + result  \n",
    "\n",
    "            i = j+1\n",
    "        \n",
    "        return result\n"
   ]
  },
  {
   "cell_type": "markdown",
   "metadata": {},
   "source": [
    "<p style=\"display: inline-block; background-color:rgb(49, 93, 107); color: white; padding: 5px 10px; border-radius: 5px; font-size: 22px;\">\n",
    "    <a href=\"https://leetcode.com/problems/longest-common-prefix/description/\" target=\"_blank\" style=\"color: white; text-decoration: none;\">\n",
    "        1.3 Longest Common Prefix\n",
    "    </a>\n",
    "</p>\n"
   ]
  },
  {
   "cell_type": "code",
   "execution_count": 7,
   "metadata": {},
   "outputs": [
    {
     "data": {
      "text/plain": [
       "'fl'"
      ]
     },
     "execution_count": 7,
     "metadata": {},
     "output_type": "execute_result"
    }
   ],
   "source": [
    "class Solution:\n",
    "    def longestCommonPrefix(self, strs):\n",
    "        if not strs:\n",
    "            return \"\"\n",
    "        \n",
    "        prefix = strs[0]\n",
    "\n",
    "        for s in strs:\n",
    "            while not s.startswith(prefix) and prefix!=\"\":\n",
    "                prefix = prefix[:-1]\n",
    "            if prefix==\"\":\n",
    "                return \"\"\n",
    "            \n",
    "        return prefix\n",
    "    \n",
    "demo=Solution()\n",
    "res=demo.longestCommonPrefix([\"flower\",\"flow\",\"flight\"])\n",
    "res"
   ]
  },
  {
   "cell_type": "markdown",
   "metadata": {},
   "source": [
    "<p style=\"display: inline-block; background-color:rgb(49, 93, 107); color: white; padding: 5px 10px; border-radius: 5px; font-size: 22px;\">\n",
    "    <a href=\"https://leetcode.com/problems/largest-odd-number-in-string/description/\" target=\"_blank\" style=\"color: white; text-decoration: none;\">\n",
    "        1.4 Largest Odd Number in String\n",
    "    </a>\n",
    "</p>\n"
   ]
  },
  {
   "cell_type": "code",
   "execution_count": null,
   "metadata": {},
   "outputs": [],
   "source": [
    "class Solution(object):\n",
    "    def largestOddNumber(self, num):\n",
    "        \n",
    "        for i in range(len(num) - 1, -1, -1):\n",
    "            if int(num[i]) % 2 != 0:  \n",
    "                return num[:i+1] \n",
    "        return \"\"  \n"
   ]
  },
  {
   "cell_type": "markdown",
   "metadata": {},
   "source": [
    "<p style=\"display: inline-block; background-color:rgb(49, 93, 107); color: white; padding: 5px 10px; border-radius: 5px; font-size: 22px;\">\n",
    "    <a href=\"https://leetcode.com/problems/isomorphic-strings/description/\" target=\"_blank\" style=\"color: white; text-decoration: none;\">\n",
    "        1.5 Isomorphic Strings 👨‍💻\n",
    "    </a>\n",
    "</p>\n"
   ]
  },
  {
   "cell_type": "code",
   "execution_count": null,
   "metadata": {},
   "outputs": [],
   "source": [
    "class Solution(object):\n",
    "    def isIsomorphic(self, s, t):\n",
    "        if len(s) != len(t):\n",
    "            return False\n",
    "\n",
    "        hash_maps = {}  \n",
    "        hash_mapt = {}  \n",
    "\n",
    "        for i in range(len(s)):\n",
    "            if s[i] in hash_maps:\n",
    "                if hash_maps[s[i]] != t[i]:  \n",
    "                    return False\n",
    "            else:\n",
    "                if t[i] in hash_mapt: \n",
    "                    return False\n",
    "                hash_maps[s[i]] = t[i]\n",
    "                hash_mapt[t[i]] = s[i]  \n",
    "\n",
    "        return True\n"
   ]
  },
  {
   "cell_type": "markdown",
   "metadata": {},
   "source": [
    "<p style=\"display: inline-block; background-color:rgb(49, 93, 107); color: white; padding: 5px 10px; border-radius: 5px; font-size: 22px;\">\n",
    "    <a href=\"https://leetcode.com/problems/rotate-string/description/\" target=\"_blank\" style=\"color: white; text-decoration: none;\">\n",
    "        1.6 Rotate String 👨‍💻\n",
    "    </a>\n",
    "</p>\n"
   ]
  },
  {
   "cell_type": "code",
   "execution_count": null,
   "metadata": {},
   "outputs": [],
   "source": [
    "class Solution(object):\n",
    "    def rotateString(self, s, goal):\n",
    "        if len(s) != len(goal):\n",
    "            return False\n",
    "        double_s = s + s\n",
    "        return goal in double_s\n",
    "        "
   ]
  },
  {
   "cell_type": "code",
   "execution_count": null,
   "metadata": {},
   "outputs": [],
   "source": [
    "class Solution(object):\n",
    "    def rotateString(self, s, goal):\n",
    "        if len(s) != len(goal):\n",
    "            return False\n",
    "        double_s = s + s\n",
    "        return double_s.find(goal) != -1\n"
   ]
  },
  {
   "cell_type": "markdown",
   "metadata": {},
   "source": [
    "### `DRY run`\n",
    "\n"
   ]
  },
  {
   "cell_type": "markdown",
   "metadata": {},
   "source": [
    "#### Initialization:\n",
    "- `s = \"abcde\"`\n",
    "- `goal = \"cdeab\"`\n",
    "- `n = len(s) = 5`\n",
    "\n",
    "#### First Iteration of Outer Loop (`i = 0`):\n",
    "We are checking if rotating `s` by 0 positions gives us the string `\"abcde\"`, and comparing it with `goal`.\n",
    "\n",
    "#### Inner Loop (`j = 0` to `4`):\n",
    "- For `j = 0`:\n",
    "  - `s[(0 + 0) % 5] = s[0] = \"a\"`\n",
    "  - `goal[0] = \"c\"`\n",
    "  - Since `\"a\" != \"c\"`, we set `is_match = False` and break out of the inner loop.\n",
    "\n",
    "Since the first rotation (no shift) doesn't match `goal`, we move on to the next rotation.\n",
    "\n",
    "---\n",
    "\n",
    "### Second Iteration of Outer Loop (`i = 1`):\n",
    "We are checking if rotating `s` by 1 position gives us the string `\"bcdea\"`, and comparing it with `goal`.\n",
    "\n",
    "#### Inner Loop (`j = 0` to `4`):\n",
    "- For `j = 0`:\n",
    "  - `s[(1 + 0) % 5] = s[1] = \"b\"`\n",
    "  - `goal[0] = \"c\"`\n",
    "  - Since `\"b\" != \"c\"`, we set `is_match = False` and break out of the inner loop.\n",
    "\n",
    "Since the second rotation doesn't match `goal`, we move on to the next rotation.\n",
    "\n",
    "---\n",
    "\n",
    "### Third Iteration of Outer Loop (`i = 2`):\n",
    "We are checking if rotating `s` by 2 positions gives us the string `\"cdeab\"`, and comparing it with `goal`.\n",
    "\n",
    "#### Inner Loop (`j = 0` to `4`):\n",
    "- For `j = 0`:\n",
    "  - `s[(2 + 0) % 5] = s[2] = \"c\"`\n",
    "  - `goal[0] = \"c\"`\n",
    "  - `\"c\" == \"c\"`, so we continue to the next comparison.\n",
    "- For `j = 1`:\n",
    "  - `s[(2 + 1) % 5] = s[3] = \"d\"`\n",
    "  - `goal[1] = \"d\"`\n",
    "  - `\"d\" == \"d\"`, so we continue to the next comparison.\n",
    "- For `j = 2`:\n",
    "  - `s[(2 + 2) % 5] = s[4] = \"e\"`\n",
    "  - `goal[2] = \"e\"`\n",
    "  - `\"e\" == \"e\"`, so we continue to the next comparison.\n",
    "- For `j = 3`:\n",
    "  - `s[(2 + 3) % 5] = s[0] = \"a\"`\n",
    "  - `goal[3] = \"a\"`\n",
    "  - `\"a\" == \"a\"`, so we continue to the next comparison.\n",
    "- For `j = 4`:\n",
    "  - `s[(2 + 4) % 5] = s[1] = \"b\"`\n",
    "  - `goal[4] = \"b\"`\n",
    "  - `\"b\" == \"b\"`, so we continue to the next comparison.\n",
    "\n",
    "Since all characters match in this rotation (`\"cdeab\" == \"cdeab\"`), we set `is_match = True` and immediately return `True`.\n"
   ]
  },
  {
   "cell_type": "code",
   "execution_count": 1,
   "metadata": {},
   "outputs": [],
   "source": [
    "class Solution(object):\n",
    "    def rotateString(self, s, goal):\n",
    "        if len(s) != len(goal):\n",
    "            return False\n",
    "        \n",
    "        n = len(s)\n",
    "        \n",
    "        for i in range(n):\n",
    "            is_match = True\n",
    "            for j in range(n):\n",
    "                if s[(i + j) % n] != goal[j]:\n",
    "                    is_match = False\n",
    "                    break\n",
    "            \n",
    "            if is_match:\n",
    "                return True\n",
    "        \n",
    "        return False\n"
   ]
  },
  {
   "cell_type": "markdown",
   "metadata": {},
   "source": [
    "<p style=\"display: inline-block; background-color:rgb(49, 93, 107); color: white; padding: 5px 10px; border-radius: 5px; font-size: 22px;\">\n",
    "    <a href=\"https://leetcode.com/problems/valid-anagram/description/\" target=\"_blank\" style=\"color: white; text-decoration: none;\">\n",
    "        1.7 Valid Anagram\n",
    "    </a>\n",
    "</p>\n"
   ]
  },
  {
   "cell_type": "code",
   "execution_count": 2,
   "metadata": {},
   "outputs": [
    {
     "name": "stdout",
     "output_type": "stream",
     "text": [
      "['a', 'a', 'a', 'g', 'm', 'n', 'r']\n",
      "['a', 'a', 'a', 'g', 'm', 'n', 'r']\n"
     ]
    },
    {
     "data": {
      "text/plain": [
       "True"
      ]
     },
     "execution_count": 2,
     "metadata": {},
     "output_type": "execute_result"
    }
   ],
   "source": [
    "class Solution(object):\n",
    "    def isAnagram(self, s, t):\n",
    "        print(sorted(s))\n",
    "        print(sorted(t))\n",
    "        return ''.join(sorted(s)) == ''.join(sorted(t))\n",
    "\n",
    "demo=Solution()\n",
    "result=demo.isAnagram(\"anagram\",\"nagaram\")\n",
    "result"
   ]
  },
  {
   "cell_type": "markdown",
   "metadata": {},
   "source": [
    "for count in dict_freq.values():\n",
    "\n",
    "`.values()` is a method in Python that is used with dictionaries. It returns a view object that displays a list of all the values in the dictionary.\n",
    "\n",
    "In this case, `dict_freq` is a dictionary where the keys are the characters from string `s`, and the values are their respective frequencies. So, `dict_freq.values()` will return the list of frequency values associated with each character in `dict_freq`."
   ]
  },
  {
   "cell_type": "code",
   "execution_count": null,
   "metadata": {},
   "outputs": [],
   "source": [
    "class Solution(object):\n",
    "    def isAnagram(self, s, t):\n",
    "        dict_freq={}\n",
    "\n",
    "        for i in s:\n",
    "            if i not in dict_freq:\n",
    "                dict_freq[i]=1\n",
    "            else:\n",
    "                dict_freq[i]=dict_freq[i]+1\n",
    "\n",
    "        for j in t:\n",
    "            if j not in dict_freq:\n",
    "                return False\n",
    "            else:\n",
    "                dict_freq[j]=dict_freq[j]-1\n",
    "\n",
    "        for count in dict_freq.values():\n",
    "            if count!=0:\n",
    "                return False\n",
    "            \n",
    "        return True"
   ]
  },
  {
   "cell_type": "markdown",
   "metadata": {},
   "source": [
    "<p style=\"display: inline-block; background-color:rgb(49, 93, 107); color: white; padding: 5px 10px; border-radius: 5px; font-size: 22px;\">\n",
    "    <a href=\"https://leetcode.com/problems/plus-one/description/?envType=problem-list-v2&envId=math\" target=\"_blank\" style=\"color: white; text-decoration: none;\">\n",
    "        1.8 Plus One\n",
    "    </a>\n",
    "</p>\n"
   ]
  },
  {
   "cell_type": "code",
   "execution_count": 1,
   "metadata": {},
   "outputs": [
    {
     "name": "stdout",
     "output_type": "stream",
     "text": [
      "[1, 2, 4]\n",
      "[4, 3, 2, 2]\n",
      "[1, 0]\n"
     ]
    }
   ],
   "source": [
    "class Solution(object):\n",
    "    def plusOne(self, digits):\n",
    "        last_digit = digits[len(digits) - 1]  \n",
    "        for i in range(len(digits) - 1, -1, -1): \n",
    "            if digits[i] == last_digit:  \n",
    "                digits[i] += 1\n",
    "                if digits[i] > 9:  \n",
    "                    digits[i] = 0  \n",
    "                else:\n",
    "                    return digits  \n",
    "            elif digits[i] != last_digit:  \n",
    "                digits[i] += 1\n",
    "                if digits[i] > 9:\n",
    "                    digits[i] = 0\n",
    "                else:\n",
    "                    return digits\n",
    "        \n",
    "        \n",
    "        return [1] + digits\n",
    "\n",
    "# Example usage\n",
    "solution = Solution()\n",
    "print(solution.plusOne([1, 2, 3]))  # Output: [1, 2, 4]\n",
    "print(solution.plusOne([4, 3, 2, 1]))  # Output: [4, 3, 2, 2]\n",
    "print(solution.plusOne([9]))  # Output: [1, 0]\n"
   ]
  },
  {
   "cell_type": "markdown",
   "metadata": {},
   "source": [
    "\n",
    "<p style=\"display: inline-block; background-color:rgb(67, 67, 67); color: white; padding: 5px 10px; border-radius: 5px; font-size: 28px;\">\n",
    "    <a href=\"\" target=\"_blank\" style=\"color: white; text-decoration: none;\">\n",
    "        1. Medium string problems 🔄✨🔥⭐🆕\n",
    "    </a>\n",
    "</p>\n",
    "\n"
   ]
  },
  {
   "cell_type": "markdown",
   "metadata": {},
   "source": [
    "<p style=\"display: inline-block; background-color:rgb(49, 93, 107); color: white; padding: 5px 10px; border-radius: 5px; font-size: 22px;\">\n",
    "    <a href=\"https://leetcode.com/problems/sort-characters-by-frequency/description/\" target=\"_blank\" style=\"color: white; text-decoration: none;\">\n",
    "        2.1 Sort Characters By Frequency 🔄✨\n",
    "    </a>\n",
    "</p>\n"
   ]
  },
  {
   "cell_type": "code",
   "execution_count": null,
   "metadata": {},
   "outputs": [],
   "source": [
    "class Solution(object):\n",
    "    def frequencySort(self, s):\n",
    "        freq = {}\n",
    "\n",
    "        # Step 1: Count frequencies of each character\n",
    "        for char in s:\n",
    "            if char not in freq:\n",
    "                freq[char] = 1\n",
    "            else:\n",
    "                freq[char] += 1\n",
    "        \n",
    "        # Step 2: Sort characters by frequency in descending order\n",
    "        sorted_chars = sorted(freq, key=lambda x: freq[x], reverse=True)\n",
    "        \n",
    "        # Step 3: Build the result string\n",
    "        result = \"\"\n",
    "        for char in sorted_chars:\n",
    "            result += char * freq[char]\n",
    "        \n",
    "        return result\n"
   ]
  },
  {
   "cell_type": "code",
   "execution_count": null,
   "metadata": {},
   "outputs": [],
   "source": [
    "class solution(object):\n",
    "    def frequencySort(self,s):\n",
    "        freq={}\n",
    "        for char in s:\n",
    "            if char in freq:\n",
    "                freq[char]=freq[char]+1\n",
    "            else:\n",
    "                freq[char]=1\n",
    "            \n",
    "            def sort_key(x):\n",
    "                return freq[x]\n",
    "            \n",
    "        sorted_char=sorted(freq,key=sort_key,reverse=True)\n",
    "\n",
    "        result=\"\"\n",
    "        for char in sorted_char:\n",
    "            result=result+char*freq[char]\n",
    "        \n",
    "        return result\n"
   ]
  },
  {
   "cell_type": "markdown",
   "metadata": {},
   "source": [
    "<p style=\"display: inline-block; background-color:rgb(49, 93, 107); color: white; padding: 5px 10px; border-radius: 5px; font-size: 22px;\">\n",
    "    <a href=\"https://leetcode.com/problems/maximum-nesting-depth-of-the-parentheses/description/\" target=\"_blank\" style=\"color: white; text-decoration: none;\">\n",
    "        2.2 Maximum Nesting Depth of the Parentheses\n",
    "    </a>\n",
    "</p>\n"
   ]
  },
  {
   "cell_type": "code",
   "execution_count": null,
   "metadata": {},
   "outputs": [],
   "source": [
    "class Solution(object):\n",
    "    def maxDepth(self, s):\n",
    "        \n",
    "        counter = 0\n",
    "        max_length=0\n",
    "\n",
    "        for char in s:\n",
    "            if char == \"(\":  \n",
    "                counter += 1\n",
    "                max_length=max(max_length,counter)\n",
    "            elif char==\")\":\n",
    "                counter -= 1\n",
    "        \n",
    "        return max_length\n"
   ]
  },
  {
   "cell_type": "markdown",
   "metadata": {},
   "source": [
    "<p style=\"display: inline-block; background-color:rgb(49, 93, 107); color: white; padding: 5px 10px; border-radius: 5px; font-size: 22px;\">\n",
    "    <a href=\"https://leetcode.com/problems/roman-to-integer/description/\" target=\"_blank\" style=\"color: white; text-decoration: none;\">\n",
    "        2.3 Roman to Integer\n",
    "    </a>\n",
    "</p>\n"
   ]
  },
  {
   "cell_type": "code",
   "execution_count": null,
   "metadata": {},
   "outputs": [],
   "source": [
    "def romanToInt(s):\n",
    "    roman = {'I': 1, 'V': 5, 'X': 10, 'L': 50, 'C': 100, 'D': 500, 'M': 1000}\n",
    "    result = 0\n",
    "    n = len(s)\n",
    "\n",
    "    for i in range(0,n):\n",
    "        if i < n - 1 and roman[s[i]] < roman[s[i + 1]]:  # Subtraction case\n",
    "            result -= roman[s[i]]\n",
    "        else:\n",
    "            result += roman[s[i]]\n",
    "    \n",
    "    return result\n"
   ]
  },
  {
   "cell_type": "markdown",
   "metadata": {},
   "source": [
    "<p style=\"display: inline-block; background-color:rgb(49, 93, 107); color: white; padding: 5px 10px; border-radius: 5px; font-size: 22px;\">\n",
    "    <a href=\"https://leetcode.com/problems/string-to-integer-atoi/description/\" target=\"_blank\" style=\"color: white; text-decoration: none;\">\n",
    "        2.4 String to Integer (atoi)\n",
    "    </a>\n",
    "</p>\n"
   ]
  },
  {
   "cell_type": "code",
   "execution_count": null,
   "metadata": {},
   "outputs": [],
   "source": [
    "class Solution(object):\n",
    "    def myAtoi(self, s):\n",
    "\n",
    "        s=s.strip()\n",
    "        \n",
    "        if not s:  # Check for empty string\n",
    "            return 0\n",
    "\n",
    "        \n",
    "        i=0\n",
    "        sign=1\n",
    "        if s[i]==\"+\":\n",
    "            i=i+1\n",
    "        elif s[i]==\"-\":\n",
    "            i=i+1\n",
    "            sign=-1\n",
    "        \n",
    "        parsed=0\n",
    "\n",
    "        while i < len(s):\n",
    "            if not s[i].isdigit():\n",
    "                break\n",
    "            else:\n",
    "                parsed=parsed*10+int(s[i])\n",
    "            i=i+1\n",
    "        \n",
    "        parsed=parsed*sign\n",
    "\n",
    "        if parsed > 2147483648-1:\n",
    "            return 2147483648-1\n",
    "        elif parsed <= -2147483648:\n",
    "            return -2147483648\n",
    "        else:\n",
    "            return parsed                \n"
   ]
  },
  {
   "cell_type": "markdown",
   "metadata": {},
   "source": [
    "<p style=\"display: inline-block; background-color:rgb(49, 93, 107); color: white; padding: 5px 10px; border-radius: 5px; font-size: 22px;\">\n",
    "    <a href=\"https://leetcode.com/problems/longest-palindromic-substring/description/\" target=\"_blank\" style=\"color: white; text-decoration: none;\">\n",
    "        2.6 Longest Palindromic Substring 🔄✨🔥\n",
    "    </a>\n",
    "</p>\n"
   ]
  },
  {
   "cell_type": "markdown",
   "metadata": {},
   "source": [
    "`Valid palindrome`"
   ]
  },
  {
   "cell_type": "code",
   "execution_count": 3,
   "metadata": {},
   "outputs": [],
   "source": [
    "class Solution2(object):\n",
    "    def isPalindrome(self, s):\n",
    "\n",
    "        i, j = 0, len(s) - 1 \n",
    "\n",
    "        while i < j:\n",
    "            while i < j and not s[i].isalnum():  \n",
    "                i += 1\n",
    "            while i < j and not s[j].isalnum():\n",
    "                j -= 1\n",
    "            \n",
    "            if s[i].lower() != s[j].lower():  \n",
    "                return False\n",
    "            \n",
    "            i += 1\n",
    "            j -= 1\n",
    "        \n",
    "        return True \n"
   ]
  },
  {
   "cell_type": "markdown",
   "metadata": {},
   "source": [
    "`Brute force approach`"
   ]
  },
  {
   "cell_type": "code",
   "execution_count": null,
   "metadata": {},
   "outputs": [],
   "source": [
    "class Solution(object):\n",
    "    def ispalindrome(self, s):\n",
    "        return s == s[::-1]  \n",
    "\n",
    "    def longestPalindrome(self, s):\n",
    "        n = len(s)\n",
    "        if n == 0:\n",
    "            return \"\"\n",
    "\n",
    "        longest = \"\"\n",
    "\n",
    "        for i in range(n):\n",
    "            for j in range(i, n):\n",
    "                sub = s[i:j+1]  \n",
    "\n",
    "                if  self.ispalindrome(sub) and len(sub) > len(longest):\n",
    "                    longest = sub \n",
    "\n",
    "        return longest"
   ]
  },
  {
   "cell_type": "markdown",
   "metadata": {},
   "source": [
    "`optimal`"
   ]
  },
  {
   "cell_type": "code",
   "execution_count": null,
   "metadata": {},
   "outputs": [],
   "source": [
    "class Solution(object):\n",
    "    def longestPalindrome(self, s):\n",
    "        res=\"\"\n",
    "        resLen=0\n",
    "\n",
    "        for i in range(len(s)):\n",
    "            L,r=i,i\n",
    "            while L>=0 and r<len(s) and s[r]==s[L]:\n",
    "                if (r-L+1)>resLen: # r-L+1 is length of string\n",
    "                    res=s[L:r+1]\n",
    "                    resLen=r-L+1\n",
    "                L=L-1\n",
    "                r=r+1\n",
    "            L,r=i,i+1\n",
    "            while L>=0 and r<len(s) and s[r]==s[L]:\n",
    "                if (r-L+1)>resLen: # r-L+1 is length of string\n",
    "                    res=s[L:r+1]\n",
    "                    resLen=r-L+1\n",
    "                L=L-1\n",
    "                r=r+1\n",
    "        return res"
   ]
  },
  {
   "cell_type": "markdown",
   "metadata": {},
   "source": [
    "### `Try to understand below code`"
   ]
  },
  {
   "cell_type": "code",
   "execution_count": null,
   "metadata": {},
   "outputs": [],
   "source": [
    "class Solution(object):\n",
    "    def longestPalindrome(self, s):\n",
    "        \"\"\"\n",
    "        :type s: str\n",
    "        :rtype: str\n",
    "        \"\"\"\n",
    "        __import__(\"atexit\").register(lambda: open(\"display_runtime.txt\", \"w\").write(\"0\"))\n",
    "\n",
    "        \n",
    "        n = len(s)\n",
    "\n",
    "        palindromes = []\n",
    "\n",
    "        if n == 0 or n == 1:\n",
    "            return s\n",
    "        \n",
    "        if n == 2:\n",
    "            ret = s[0]\n",
    "            if s[1] == ret:\n",
    "                ret+=s[1]\n",
    "            return ret\n",
    "\n",
    "\n",
    "        #find palindrome middles\n",
    "\n",
    "        for i in range(n-1):\n",
    "            if s[i] == s[i+1]:\n",
    "                palindromes.append((i,i+1))\n",
    "            if i < n-2 and s[i] == s[i+2]:\n",
    "                palindromes.append((i,i+2))\n",
    "        \n",
    "        print(palindromes)\n",
    "\n",
    "        for i in range(len(palindromes)):\n",
    "            l,r = palindromes[i]\n",
    "            \n",
    "            while l > 0 and r < n-1 and s[l-1] == s[r+1]:\n",
    "                l-=1\n",
    "                r+=1\n",
    "            \n",
    "            palindromes[i] = [l,r]\n",
    "        \n",
    "        if not palindromes:\n",
    "            return s[0]\n",
    "\n",
    "        ret = max(palindromes, key=lambda x: x[1]-x[0])\n",
    "\n",
    "        return s[ret[0]:ret[1]+1]"
   ]
  },
  {
   "cell_type": "code",
   "execution_count": null,
   "metadata": {},
   "outputs": [],
   "source": [
    "class Solution:\n",
    "    def longestPalindrome(self, s):\n",
    "        # Way better solution based on someone elses solution.\n",
    "        # Utilizes string inserts to handle even-length palindromes.\n",
    "        if s == s[::-1]:\n",
    "            return s\n",
    "\n",
    "        # Transform string to handle even-length palindromes\n",
    "        t = \"|\" + \"|\".join(s) + \"|\"\n",
    "        n = len(t)\n",
    "        lps = [0] * n\n",
    "\n",
    "        # Expand around each center\n",
    "        for i in range(n):\n",
    "            # Find the number of palindromes around each character, counting from the center\n",
    "            while (\n",
    "                i - lps[i] - 1 >= 0 # bounds check lower\n",
    "                and i + lps[i] + 1 < n # bounds check higher\n",
    "                and t[i - lps[i] - 1] == t[i + lps[i] + 1] # palindrome radii check\n",
    "            ):\n",
    "                lps[i] += 1\n",
    "\n",
    "        # Identify the center with the longest palindrome\n",
    "        center_index = lps.index(max(lps))\n",
    "        start = center_index - lps[center_index]\n",
    "        end = center_index + lps[center_index]\n",
    "        # Remove inserted '|'\n",
    "        return t[start:end].replace(\"|\", \"\")"
   ]
  },
  {
   "cell_type": "code",
   "execution_count": null,
   "metadata": {},
   "outputs": [],
   "source": []
  },
  {
   "cell_type": "markdown",
   "metadata": {},
   "source": [
    "<p style=\"display: inline-block; background-color:rgb(49, 93, 107); color: white; padding: 5px 10px; border-radius: 5px; font-size: 22px;\">\n",
    "    <a href=\"https://leetcode.com/problems/sum-of-beauty-of-all-substrings/description/\" target=\"_blank\" style=\"color: white; text-decoration: none;\">\n",
    "        2.7 Sum of Beauty of All Substrings 🔄✨🔥\n",
    "    </a>\n",
    "</p>\n"
   ]
  },
  {
   "cell_type": "code",
   "execution_count": null,
   "metadata": {},
   "outputs": [],
   "source": []
  },
  {
   "cell_type": "markdown",
   "metadata": {},
   "source": [
    "<p style=\"display: inline-block; background-color:rgb(49, 93, 107); color: white; padding: 5px 10px; border-radius: 5px; font-size: 22px;\">\n",
    "    <a href=\"https://leetcode.com/problems/reverse-words-in-a-string/description/\" target=\"_blank\" style=\"color: white; text-decoration: none;\">\n",
    "        2.8 Reverse Every Word in A String\n",
    "    </a>\n",
    "</p>\n"
   ]
  },
  {
   "cell_type": "code",
   "execution_count": null,
   "metadata": {},
   "outputs": [],
   "source": [
    "class Solution(object):\n",
    "    def reverseWords(self, s):\n",
    "        result = \"\"\n",
    "        n = len(s)\n",
    "        i = 0\n",
    "\n",
    "        while i < n:\n",
    "        \n",
    "            while i < n and s[i] == \" \":\n",
    "                i += 1\n",
    "            if i >= n:\n",
    "                break\n",
    "\n",
    "            j = i+1\n",
    "            while j < n and s[j] != \" \":\n",
    "                j += 1\n",
    "            word = s[i:j] \n",
    "            \n",
    "            if result == \"\":\n",
    "                result = word\n",
    "            else:\n",
    "                result = word + \" \" + result  \n",
    "\n",
    "            i = j+1\n",
    "        \n",
    "        return result\n"
   ]
  }
 ],
 "metadata": {
  "kernelspec": {
   "display_name": "Python 3",
   "language": "python",
   "name": "python3"
  },
  "language_info": {
   "codemirror_mode": {
    "name": "ipython",
    "version": 3
   },
   "file_extension": ".py",
   "mimetype": "text/x-python",
   "name": "python",
   "nbconvert_exporter": "python",
   "pygments_lexer": "ipython3",
   "version": "3.12.1"
  }
 },
 "nbformat": 4,
 "nbformat_minor": 2
}

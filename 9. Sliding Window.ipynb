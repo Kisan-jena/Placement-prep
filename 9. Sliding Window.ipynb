{
 "cells": [
  {
   "cell_type": "markdown",
   "id": "6823b40d",
   "metadata": {},
   "source": [
    "## `1.` `Medium Level Question`"
   ]
  },
  {
   "cell_type": "markdown",
   "id": "e9056c00",
   "metadata": {},
   "source": [
    "<a href='https://leetcode.com/problems/substrings-of-size-three-with-distinct-characters/description/?envType=problem-list-v2&envId=sliding-window'>\n",
    "1876. Substrings of Size Three with Distinct Characters\n",
    "<a>"
   ]
  },
  {
   "cell_type": "code",
   "execution_count": null,
   "id": "0d495810",
   "metadata": {},
   "outputs": [],
   "source": [
    "class Solution:\n",
    "    def countGoodSubstrings(self, s: str) -> int:\n",
    "        n = len(s)\n",
    "        count = 0\n",
    "        if n < 3:\n",
    "            return 0\n",
    "        l, r = 0, 2   \n",
    "        while r < n:\n",
    "            if s[l] != s[l+1] and s[l+1] != s[r] and s[l] != s[r]:\n",
    "                count += 1\n",
    "            l += 1\n",
    "            r += 1\n",
    "        return count\n"
   ]
  },
  {
   "cell_type": "markdown",
   "id": "7148fd40",
   "metadata": {},
   "source": [
    "<a href='https://leetcode.com/problems/happy-number/description/?envType=problem-list-v2&envId=two-pointersw'>\n",
    "202. Happy Number\n",
    "<a>"
   ]
  },
  {
   "cell_type": "code",
   "execution_count": null,
   "id": "96f7ddb6",
   "metadata": {},
   "outputs": [],
   "source": [
    "class Solution:\n",
    "    def isHappy(self, n: int) -> bool:\n",
    "        def get_next(num: int) -> int:\n",
    "            total = 0\n",
    "            while num > 0:\n",
    "                digit = num % 10\n",
    "                total += digit * digit\n",
    "                num //= 10\n",
    "            return total\n",
    "        \n",
    "        seen = set()\n",
    "        \n",
    "        while n != 1 and n not in seen:\n",
    "            seen.add(n)\n",
    "            n = get_next(n)\n",
    "        \n",
    "        return n == 1\n",
    "\n",
    "\n",
    "# Example\n",
    "sol = Solution()\n",
    "print(sol.isHappy(19))  # ✅ True (happy number)\n",
    "print(sol.isHappy(2))   # ❌ False (not happy)\n"
   ]
  },
  {
   "cell_type": "code",
   "execution_count": null,
   "id": "dcbe5557",
   "metadata": {},
   "outputs": [],
   "source": [
    "class Solution:\n",
    "    def isHappy(self, n: int) -> bool:\n",
    "        def get_next(num: int) -> int:\n",
    "            total = 0\n",
    "            while num > 0:\n",
    "                digit = num % 10\n",
    "                total += digit * digit\n",
    "                num //= 10\n",
    "            return total\n",
    "\n",
    "        # slow = moves 1 step at a time\n",
    "        # fast = moves 2 steps at a time\n",
    "        slow = n\n",
    "        fast = get_next(n)\n",
    "\n",
    "        while fast != 1 and slow != fast:\n",
    "            slow = get_next(slow)\n",
    "            fast = get_next(get_next(fast))  # fast moves 2 steps\n",
    "\n",
    "        return fast == 1\n",
    "\n",
    "\n",
    "# Example\n",
    "sol = Solution()\n",
    "print(sol.isHappy(19))  # ✅ True\n",
    "print(sol.isHappy(2))   # ❌ False\n"
   ]
  },
  {
   "cell_type": "markdown",
   "id": "c8e19c23",
   "metadata": {},
   "source": [
    "<p style=\"display: inline-block; background-color:rgb(53, 53, 53); color: white; padding: 5px 10px; border-radius: 5px; font-size: 22px;\">\n",
    "    <a href=\"https://leetcode.com/problems/longest-substring-without-repeating-characters/description/\" target=\"_blank\" style=\"color: white; text-decoration: none;\">\n",
    "    1.1 Longest Substring Without Repeating Characters\n",
    "   </a>\n",
    "</p>\n"
   ]
  },
  {
   "cell_type": "code",
   "execution_count": 8,
   "id": "4055938a",
   "metadata": {},
   "outputs": [],
   "source": [
    "s=\"\"\n",
    "for right,ch in enumerate(s):\n",
    "    print(right,end=\", \")\n",
    "    print(ch)\n",
    "    print()"
   ]
  },
  {
   "cell_type": "code",
   "execution_count": 14,
   "id": "93208916",
   "metadata": {},
   "outputs": [
    {
     "name": "stdout",
     "output_type": "stream",
     "text": [
      "a\n"
     ]
    }
   ],
   "source": [
    "s=\"ahdajhd\"\n",
    "if \"a\" in s:\n",
    "    print(\"a\")"
   ]
  },
  {
   "cell_type": "markdown",
   "id": "c973b68d",
   "metadata": {},
   "source": [
    "`Hash Maps`"
   ]
  },
  {
   "cell_type": "code",
   "execution_count": null,
   "id": "a4627ac5",
   "metadata": {},
   "outputs": [],
   "source": [
    "class Solution:\n",
    "    def lengthOfLongestSubstring(self, s: str) -> int:\n",
    "        left_pointer=right_pointer=0\n",
    "        last_char={}\n",
    "        max_sub=0\n",
    "        for right_pointer in range(0,len(s)):\n",
    "            if s[right_pointer] in last_char:\n",
    "                left_pointer=max(left_pointer,last_char[s[right_pointer]]+1)\n",
    "            \n",
    "            last_char[s[right_pointer]]=right_pointer\n",
    "            max_sub=max(max_sub,right_pointer-left_pointer+1)\n",
    "        return max_sub"
   ]
  },
  {
   "cell_type": "markdown",
   "id": "968e57b7",
   "metadata": {},
   "source": [
    "<p style=\"display: inline-block; background-color:rgb(53, 53, 53); color: white; padding: 5px 10px; border-radius: 5px; font-size: 22px;\">\n",
    "    <a href=\"https://leetcode.com/problems/max-consecutive-ones-iii/description/\" target=\"_blank\" style=\"color: white; text-decoration: none;\">\n",
    "    1.2 Max Consecutive Ones III\n",
    "   </a>\n",
    "</p>\n"
   ]
  },
  {
   "cell_type": "code",
   "execution_count": null,
   "id": "637788e8",
   "metadata": {},
   "outputs": [
    {
     "name": "stdout",
     "output_type": "stream",
     "text": [
      "7\n"
     ]
    }
   ],
   "source": [
    "from typing import List\n",
    "\n",
    "class Solution:\n",
    "    def longestOnes(self, nums: List[int], k: int) -> int:\n",
    "        left_pointer, right_pointer = 0, 0\n",
    "        n = len(nums)\n",
    "        max_count = 0\n",
    "        flip_to_one = k\n",
    "\n",
    "        while right_pointer < n:\n",
    "            if nums[right_pointer] == 0 and flip_to_one >= 1:\n",
    "                flip_to_one -= 1\n",
    "            elif nums[right_pointer] == 0 and flip_to_one == 0:\n",
    "                while nums[left_pointer] == 1:\n",
    "                    left_pointer += 1\n",
    "                left_pointer += 1      # move past that zero\n",
    "                # regain one flip (for the zero we dropped), then spend it\n",
    "                flip_to_one += 1\n",
    "                flip_to_one -= 1\n",
    "\n",
    "            max_count = max(max_count, right_pointer - left_pointer + 1)\n",
    "            right_pointer += 1\n",
    "\n",
    "        return max_count\n",
    "\n",
    "    \n",
    "sol=Solution()\n",
    "ans=sol.longestOnes([1,1,0,0,0,0,0,1,1,1],4)\n",
    "print(ans)\n"
   ]
  },
  {
   "cell_type": "markdown",
   "id": "21c2ea64",
   "metadata": {},
   "source": [
    "<p style=\"display: inline-block; background-color:rgb(53, 53, 53); color: white; padding: 5px 10px; border-radius: 5px; font-size: 22px;\">\n",
    "    <a href=\"https://leetcode.com/problems/fruit-into-baskets/description/\" target=\"_blank\" style=\"color: white; text-decoration: none;\">\n",
    "    1.3 Fruit Into Baskets\n",
    "   </a>\n",
    "</p>\n"
   ]
  },
  {
   "cell_type": "code",
   "execution_count": null,
   "id": "553e7fde",
   "metadata": {},
   "outputs": [],
   "source": []
  },
  {
   "cell_type": "markdown",
   "id": "cc02ab7c",
   "metadata": {},
   "source": [
    "<p style=\"display: inline-block; background-color:rgb(53, 53, 53); color: white; padding: 5px 10px; border-radius: 5px; font-size: 22px;\">\n",
    "    <a href=\"https://leetcode.com/problems/longest-repeating-character-replacement/description/\" target=\"_blank\" style=\"color: white; text-decoration: none;\">\n",
    "    1.4 Longest Repeating Character Replacement\n",
    "   </a>\n",
    "</p>\n"
   ]
  },
  {
   "cell_type": "code",
   "execution_count": null,
   "id": "2394e23c",
   "metadata": {},
   "outputs": [],
   "source": [
    "class Solution:\n",
    "    def characterReplacement(self, s: str, k: int) -> int:\n",
    "        hash_map={}\n",
    "        n=len(s)\n",
    "        left_pointer=0\n",
    "        max_len=0\n",
    "        max_freq = 0\n",
    "        for right_pointer in range(0,n):\n",
    "            hash_map[s[right_pointer]]=hash_map.get(s[right_pointer],0)+1\n",
    "            max_freq=max(max_freq,hash_map[s[right_pointer]])\n",
    "\n",
    "            while (right_pointer-left_pointer+1)-max_freq>k:\n",
    "                hash_map[s[left_pointer]]-=1\n",
    "                left_pointer+=1\n",
    "            max_len=max(max_len,right_pointer-left_pointer+1)\n",
    "        return max_len"
   ]
  },
  {
   "cell_type": "markdown",
   "id": "eb55738a",
   "metadata": {},
   "source": [
    "\n",
    "<p style=\"display: inline-block; background-color:rgb(53, 53, 53); color: white; padding: 5px 10px; border-radius: 5px; font-size: 22px;\">\n",
    "    <a href=\"https://leetcode.com/problems/binary-subarrays-with-sum/description/\" target=\"_blank\" style=\"color: white; text-decoration: none;\">\n",
    "    1.5 Binary subarray with sum\n",
    "   </a>\n",
    "</p>\n"
   ]
  },
  {
   "cell_type": "code",
   "execution_count": null,
   "id": "ed922386",
   "metadata": {},
   "outputs": [
    {
     "name": "stdout",
     "output_type": "stream",
     "text": [
      "4\n"
     ]
    }
   ],
   "source": [
    "from typing import List\n",
    "\n",
    "class Solution:\n",
    "    def numSubarraysWithSum(self, nums: List[int], goal: int) -> int:\n",
    "        prefixSumMap = {0:1}  \n",
    "        currentSum = 0\n",
    "        count = 0\n",
    "        for num in nums:\n",
    "            currentSum += num\n",
    "            diff = currentSum - goal\n",
    "            if diff in prefixSumMap:\n",
    "                count += prefixSumMap[diff]\n",
    "            prefixSumMap[currentSum] = prefixSumMap.get(currentSum, 0) + 1\n",
    "        return count\n",
    "sol=Solution()\n",
    "s=sol.numSubarraysWithSum([1,0,1,0,1],2)\n",
    "print(s)\n"
   ]
  },
  {
   "cell_type": "code",
   "execution_count": null,
   "id": "57b23c0d",
   "metadata": {},
   "outputs": [],
   "source": [
    "from typing import List\n",
    "\n",
    "class Solution:\n",
    "    def numSubarraysWithSum(self, nums: List[int], goal: int) -> int:\n",
    "        return self.atMost(nums, goal) - self.atMost(nums, goal - 1)\n",
    "    \n",
    "    def atMost(self, nums: List[int], goal: int) -> int:\n",
    "        if goal < 0:\n",
    "            return 0\n",
    "        left = 0\n",
    "        count = 0\n",
    "        current_sum = 0\n",
    "        \n",
    "        for right in range(len(nums)):\n",
    "            current_sum += nums[right]\n",
    "            \n",
    "            while current_sum > goal:\n",
    "                current_sum -= nums[left]\n",
    "                left += 1\n",
    "            \n",
    "            count += right - left + 1  # All subarrays ending at right with sum ≤ goal\n",
    "        \n",
    "        return count\n"
   ]
  },
  {
   "cell_type": "markdown",
   "id": "e4beddf0",
   "metadata": {},
   "source": [
    "\n",
    "<p style=\"display: inline-block; background-color:rgb(53, 53, 53); color: white; padding: 5px 10px; border-radius: 5px; font-size: 22px;\">\n",
    "    <a href=\"https://leetcode.com/problems/count-number-of-nice-subarrays/description/\" target=\"_blank\" style=\"color: white; text-decoration: none;\">\n",
    "    1.6 Count number of nice subarrays\n",
    "   </a>\n",
    "</p>\n"
   ]
  },
  {
   "cell_type": "code",
   "execution_count": null,
   "id": "265dfed7",
   "metadata": {},
   "outputs": [],
   "source": []
  },
  {
   "cell_type": "markdown",
   "id": "843c4a3a",
   "metadata": {},
   "source": [
    "\n",
    "<p style=\"display: inline-block; background-color:rgb(53, 53, 53); color: white; padding: 5px 10px; border-radius: 5px; font-size: 22px;\">\n",
    "    <a href=\"https://leetcode.com/problems/number-of-substrings-containing-all-three-characters/description/\" target=\"_blank\" style=\"color: white; text-decoration: none;\">\n",
    "    1.7 Number of substring containing all three characters\n",
    "   </a>\n",
    "</p>\n"
   ]
  },
  {
   "cell_type": "code",
   "execution_count": null,
   "id": "ba9d478f",
   "metadata": {},
   "outputs": [],
   "source": []
  },
  {
   "cell_type": "markdown",
   "id": "b1b84e29",
   "metadata": {},
   "source": [
    "\n",
    "<p style=\"display: inline-block; background-color:rgb(53, 53, 53); color: white; padding: 5px 10px; border-radius: 5px; font-size: 22px;\">\n",
    "    <a href=\"https://leetcode.com/problems/maximum-points-you-can-obtain-from-cards/description/\" target=\"_blank\" style=\"color: white; text-decoration: none;\">\n",
    "    1.8 Maximum point you can obtain from cards\n",
    "   </a>\n",
    "</p>\n"
   ]
  },
  {
   "cell_type": "code",
   "execution_count": null,
   "id": "9ea3cc20",
   "metadata": {},
   "outputs": [],
   "source": []
  },
  {
   "cell_type": "markdown",
   "id": "a1e90a24",
   "metadata": {},
   "source": [
    "## `2.` `Hard Level Question`"
   ]
  },
  {
   "cell_type": "markdown",
   "id": "194df9af",
   "metadata": {},
   "source": [
    "\n",
    "<p style=\"display: inline-block; background-color:rgb(53, 53, 53); color: white; padding: 5px 10px; border-radius: 5px; font-size: 22px;\">\n",
    "    <a href=\"https://leetcode.com/problems/longest-substring-with-at-most-k-distinct-characters/description/\" target=\"_blank\" style=\"color: white; text-decoration: none;\">\n",
    "    2.1\t\n",
    "Longest Substring with At Most K Distinct Characters\n",
    "   </a>\n",
    "</p>\n"
   ]
  },
  {
   "cell_type": "code",
   "execution_count": null,
   "id": "1747902a",
   "metadata": {},
   "outputs": [],
   "source": []
  },
  {
   "cell_type": "markdown",
   "id": "b51a0f07",
   "metadata": {},
   "source": [
    "\n",
    "<p style=\"display: inline-block; background-color:rgb(53, 53, 53); color: white; padding: 5px 10px; border-radius: 5px; font-size: 22px;\">\n",
    "    <a href=\"hhttps://leetcode.com/problems/subarrays-with-k-different-integers/description/\" target=\"_blank\" style=\"color: white; text-decoration: none;\">\n",
    "    2.2 Subarray with k different integers\n",
    "   </a>\n",
    "</p>\n"
   ]
  },
  {
   "cell_type": "code",
   "execution_count": null,
   "id": "52a332bc",
   "metadata": {},
   "outputs": [],
   "source": []
  },
  {
   "cell_type": "markdown",
   "id": "babd5f91",
   "metadata": {},
   "source": [
    "\n",
    "<p style=\"display: inline-block; background-color:rgb(53, 53, 53); color: white; padding: 5px 10px; border-radius: 5px; font-size: 22px;\">\n",
    "    <a href=\"https://leetcode.com/problems/minimum-window-substring/description/\" target=\"_blank\" style=\"color: white; text-decoration: none;\">\n",
    "    2.3 Minimum Window Substring\n",
    "   </a>\n",
    "</p>\n"
   ]
  },
  {
   "cell_type": "code",
   "execution_count": null,
   "id": "06ce1978",
   "metadata": {},
   "outputs": [],
   "source": []
  },
  {
   "cell_type": "markdown",
   "id": "21ceb77f",
   "metadata": {},
   "source": [
    "\n",
    "<p style=\"display: inline-block; background-color:rgb(53, 53, 53); color: white; padding: 5px 10px; border-radius: 5px; font-size: 22px;\">\n",
    "    <a href=\"https://leetcode.com/problems/minimum-window-subsequence/description/\" target=\"_blank\" style=\"color: white; text-decoration: none;\">\n",
    "    2.4 Minimum Window Subsequence\n",
    "   </a>\n",
    "</p>\n"
   ]
  },
  {
   "cell_type": "code",
   "execution_count": null,
   "id": "faba1afe",
   "metadata": {},
   "outputs": [],
   "source": []
  }
 ],
 "metadata": {
  "kernelspec": {
   "display_name": "Python 3",
   "language": "python",
   "name": "python3"
  },
  "language_info": {
   "codemirror_mode": {
    "name": "ipython",
    "version": 3
   },
   "file_extension": ".py",
   "mimetype": "text/x-python",
   "name": "python",
   "nbconvert_exporter": "python",
   "pygments_lexer": "ipython3",
   "version": "3.12.10"
  }
 },
 "nbformat": 4,
 "nbformat_minor": 5
}
